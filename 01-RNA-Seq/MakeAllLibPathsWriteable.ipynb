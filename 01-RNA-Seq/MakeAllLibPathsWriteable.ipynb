{
 "cells": [
  {
   "cell_type": "code",
   "execution_count": 1,
   "id": "31adb661-3a60-42c1-a4bb-549b77f699c0",
   "metadata": {},
   "outputs": [
    {
     "data": {
      "text/html": [
       "<style>\n",
       ".list-inline {list-style: none; margin:0; padding: 0}\n",
       ".list-inline>li {display: inline-block}\n",
       ".list-inline>li:not(:last-child)::after {content: \"\\00b7\"; padding: 0 .5ex}\n",
       "</style>\n",
       "<ol class=list-inline><li>'/home/jupyter/.R/library'</li><li>'/usr/local/lib/R/site-library'</li><li>'/usr/lib/R/site-library'</li><li>'/usr/lib/R/library'</li></ol>\n"
      ],
      "text/latex": [
       "\\begin{enumerate*}\n",
       "\\item '/home/jupyter/.R/library'\n",
       "\\item '/usr/local/lib/R/site-library'\n",
       "\\item '/usr/lib/R/site-library'\n",
       "\\item '/usr/lib/R/library'\n",
       "\\end{enumerate*}\n"
      ],
      "text/markdown": [
       "1. '/home/jupyter/.R/library'\n",
       "2. '/usr/local/lib/R/site-library'\n",
       "3. '/usr/lib/R/site-library'\n",
       "4. '/usr/lib/R/library'\n",
       "\n",
       "\n"
      ],
      "text/plain": [
       "[1] \"/home/jupyter/.R/library\"      \"/usr/local/lib/R/site-library\"\n",
       "[3] \"/usr/lib/R/site-library\"       \"/usr/lib/R/library\"           "
      ]
     },
     "metadata": {},
     "output_type": "display_data"
    }
   ],
   "source": [
    "#\n",
    ".libPaths()"
   ]
  },
  {
   "cell_type": "code",
   "execution_count": 2,
   "id": "acac57a2-03b1-49aa-8c8b-5d83e20a3729",
   "metadata": {},
   "outputs": [
    {
     "name": "stderr",
     "output_type": "stream",
     "text": [
      "'getOption(\"repos\")' replaces Bioconductor standard repositories, see\n",
      "'?repositories' for details\n",
      "\n",
      "replacement repositories:\n",
      "    CRAN: https://cloud.r-project.org\n",
      "\n",
      "\n",
      "Bioconductor version 3.15 (BiocManager 1.30.18), R 4.2.1 (2022-06-23)\n",
      "\n",
      "Installing package(s) 'BiocVersion'\n",
      "\n",
      "Installation paths not writeable, unable to update packages\n",
      "  path: /usr/lib/R/library\n",
      "  packages:\n",
      "    MASS\n",
      "  path: /usr/local/lib/R/site-library\n",
      "  packages:\n",
      "    bslib, callr, devtools, downlit, farver, fontawesome, future, generics,\n",
      "    htmltools, parallelly, pillar, processx, Rcpp, rgl, rlang, roxygen2, sass,\n",
      "    shiny, stringi, tibble, tidyverse\n",
      "\n"
     ]
    }
   ],
   "source": [
    "BiocManager::install(version = \"3.15\")"
   ]
  },
  {
   "cell_type": "code",
   "execution_count": null,
   "id": "57152051-0f86-4135-87f0-42e5abf11aeb",
   "metadata": {},
   "outputs": [],
   "source": [
    "#ERROR: Installation paths not writeable, unable to update packages\n",
    " # path: /usr/lib/R/library\n",
    " # path: /usr/local/lib/R/site-library\n",
    "\n",
    "##Need to make paths writeable to all users"
   ]
  },
  {
   "cell_type": "code",
   "execution_count": 8,
   "id": "215034d4-ffb6-45b5-abc6-626a578e3d7e",
   "metadata": {},
   "outputs": [
    {
     "data": {
      "text/html": [
       "<style>\n",
       ".list-inline {list-style: none; margin:0; padding: 0}\n",
       ".list-inline>li {display: inline-block}\n",
       ".list-inline>li:not(:last-child)::after {content: \"\\00b7\"; padding: 0 .5ex}\n",
       "</style>\n",
       "<ol class=list-inline><li>'total 12'</li><li><span style=white-space:pre-wrap>'drwxr-xr-x   3 root root 4096 Jul  1 11:52 .'</span></li><li><span style=white-space:pre-wrap>'drwxr-xr-x   5 root root 4096 Jul  1 12:29 ..'</span></li><li><span style=white-space:pre-wrap>'drwxr-xr-x 209 root root 4096 Jul  1 12:22 site-library'</span></li></ol>\n"
      ],
      "text/latex": [
       "\\begin{enumerate*}\n",
       "\\item 'total 12'\n",
       "\\item 'drwxr-xr-x   3 root root 4096 Jul  1 11:52 .'\n",
       "\\item 'drwxr-xr-x   5 root root 4096 Jul  1 12:29 ..'\n",
       "\\item 'drwxr-xr-x 209 root root 4096 Jul  1 12:22 site-library'\n",
       "\\end{enumerate*}\n"
      ],
      "text/markdown": [
       "1. 'total 12'\n",
       "2. <span style=white-space:pre-wrap>'drwxr-xr-x   3 root root 4096 Jul  1 11:52 .'</span>\n",
       "3. <span style=white-space:pre-wrap>'drwxr-xr-x   5 root root 4096 Jul  1 12:29 ..'</span>\n",
       "4. <span style=white-space:pre-wrap>'drwxr-xr-x 209 root root 4096 Jul  1 12:22 site-library'</span>\n",
       "\n",
       "\n"
      ],
      "text/plain": [
       "[1] \"total 12\"                                               \n",
       "[2] \"drwxr-xr-x   3 root root 4096 Jul  1 11:52 .\"           \n",
       "[3] \"drwxr-xr-x   5 root root 4096 Jul  1 12:29 ..\"          \n",
       "[4] \"drwxr-xr-x 209 root root 4096 Jul  1 12:22 site-library\""
      ]
     },
     "metadata": {},
     "output_type": "display_data"
    }
   ],
   "source": [
    "system(\"ls -la /usr/local/lib/R\",intern=TRUE)"
   ]
  },
  {
   "cell_type": "code",
   "execution_count": 14,
   "id": "8c5d263b-c08e-4656-b913-bdd4e763a677",
   "metadata": {},
   "outputs": [
    {
     "data": {
      "text/html": [],
      "text/latex": [],
      "text/markdown": [],
      "text/plain": [
       "character(0)"
      ]
     },
     "metadata": {},
     "output_type": "display_data"
    }
   ],
   "source": [
    "system(\"sudo chmod -R 777 /usr/lib/R/library\",intern=TRUE)"
   ]
  },
  {
   "cell_type": "code",
   "execution_count": 16,
   "id": "58204437-1e56-488f-ba73-7dd568ce8ad8",
   "metadata": {},
   "outputs": [
    {
     "data": {
      "text/html": [],
      "text/latex": [],
      "text/markdown": [],
      "text/plain": [
       "character(0)"
      ]
     },
     "metadata": {},
     "output_type": "display_data"
    }
   ],
   "source": [
    "system(\"sudo chmod -R 777 /usr/local/lib/R/site-library\",intern=TRUE)"
   ]
  },
  {
   "cell_type": "code",
   "execution_count": 15,
   "id": "929428c8-9a34-4b04-91c9-5ac1fea71103",
   "metadata": {},
   "outputs": [
    {
     "data": {
      "text/html": [
       "<style>\n",
       ".list-inline {list-style: none; margin:0; padding: 0}\n",
       ".list-inline>li {display: inline-block}\n",
       ".list-inline>li:not(:last-child)::after {content: \"\\00b7\"; padding: 0 .5ex}\n",
       "</style>\n",
       "<ol class=list-inline><li>'total 12'</li><li><span style=white-space:pre-wrap>'drwxrwxrwx   3 root root 4096 Jul  1 11:52 .'</span></li><li><span style=white-space:pre-wrap>'drwxr-xr-x   5 root root 4096 Jul  1 12:29 ..'</span></li><li><span style=white-space:pre-wrap>'drwxrwxrwx 209 root root 4096 Jul  1 12:22 site-library'</span></li></ol>\n"
      ],
      "text/latex": [
       "\\begin{enumerate*}\n",
       "\\item 'total 12'\n",
       "\\item 'drwxrwxrwx   3 root root 4096 Jul  1 11:52 .'\n",
       "\\item 'drwxr-xr-x   5 root root 4096 Jul  1 12:29 ..'\n",
       "\\item 'drwxrwxrwx 209 root root 4096 Jul  1 12:22 site-library'\n",
       "\\end{enumerate*}\n"
      ],
      "text/markdown": [
       "1. 'total 12'\n",
       "2. <span style=white-space:pre-wrap>'drwxrwxrwx   3 root root 4096 Jul  1 11:52 .'</span>\n",
       "3. <span style=white-space:pre-wrap>'drwxr-xr-x   5 root root 4096 Jul  1 12:29 ..'</span>\n",
       "4. <span style=white-space:pre-wrap>'drwxrwxrwx 209 root root 4096 Jul  1 12:22 site-library'</span>\n",
       "\n",
       "\n"
      ],
      "text/plain": [
       "[1] \"total 12\"                                               \n",
       "[2] \"drwxrwxrwx   3 root root 4096 Jul  1 11:52 .\"           \n",
       "[3] \"drwxr-xr-x   5 root root 4096 Jul  1 12:29 ..\"          \n",
       "[4] \"drwxrwxrwx 209 root root 4096 Jul  1 12:22 site-library\""
      ]
     },
     "metadata": {},
     "output_type": "display_data"
    }
   ],
   "source": [
    "system(\"ls -la /usr/local/lib/R\",intern=TRUE)"
   ]
  },
  {
   "cell_type": "code",
   "execution_count": 17,
   "id": "a8f1fa61-2898-4d04-9a5d-8b509bdf0642",
   "metadata": {},
   "outputs": [
    {
     "data": {
      "text/html": [
       "<style>\n",
       ".list-inline {list-style: none; margin:0; padding: 0}\n",
       ".list-inline>li {display: inline-block}\n",
       ".list-inline>li:not(:last-child)::after {content: \"\\00b7\"; padding: 0 .5ex}\n",
       "</style>\n",
       "<ol class=list-inline><li>'total 36'</li><li><span style=white-space:pre-wrap>'drwxr-xr-x  8 root root 4096 Jul  1 11:52 .'</span></li><li>'drwxr-xr-x 70 root root 4096 Jul 27 22:51 ..'</li><li><span style=white-space:pre-wrap>'lrwxrwxrwx  1 root root   33 Jun 24 05:59 COPYING -&gt; ../../share/common-licenses/GPL-2'</span></li><li><span style=white-space:pre-wrap>'-rw-r--r--  1 root root   46 Jun 24 05:59 SVN-REVISION'</span></li><li><span style=white-space:pre-wrap>'drwxr-xr-x  3 root root 4096 Jul  1 11:52 bin'</span></li><li><span style=white-space:pre-wrap>'drwxr-xr-x  2 root root 4096 Jul  1 11:52 etc'</span></li><li><span style=white-space:pre-wrap>'drwxr-xr-x  2 root root 4096 Jul  1 11:52 lib'</span></li><li><span style=white-space:pre-wrap>'drwxrwxrwx 32 root root 4096 Jul  1 11:52 library'</span></li><li><span style=white-space:pre-wrap>'drwxr-xr-x  2 root root 4096 Jul  1 11:52 modules'</span></li><li><span style=white-space:pre-wrap>'drwxr-xr-x  2 root root 4096 Jun 24 05:59 site-library'</span></li></ol>\n"
      ],
      "text/latex": [
       "\\begin{enumerate*}\n",
       "\\item 'total 36'\n",
       "\\item 'drwxr-xr-x  8 root root 4096 Jul  1 11:52 .'\n",
       "\\item 'drwxr-xr-x 70 root root 4096 Jul 27 22:51 ..'\n",
       "\\item 'lrwxrwxrwx  1 root root   33 Jun 24 05:59 COPYING -> ../../share/common-licenses/GPL-2'\n",
       "\\item '-rw-r--r--  1 root root   46 Jun 24 05:59 SVN-REVISION'\n",
       "\\item 'drwxr-xr-x  3 root root 4096 Jul  1 11:52 bin'\n",
       "\\item 'drwxr-xr-x  2 root root 4096 Jul  1 11:52 etc'\n",
       "\\item 'drwxr-xr-x  2 root root 4096 Jul  1 11:52 lib'\n",
       "\\item 'drwxrwxrwx 32 root root 4096 Jul  1 11:52 library'\n",
       "\\item 'drwxr-xr-x  2 root root 4096 Jul  1 11:52 modules'\n",
       "\\item 'drwxr-xr-x  2 root root 4096 Jun 24 05:59 site-library'\n",
       "\\end{enumerate*}\n"
      ],
      "text/markdown": [
       "1. 'total 36'\n",
       "2. <span style=white-space:pre-wrap>'drwxr-xr-x  8 root root 4096 Jul  1 11:52 .'</span>\n",
       "3. 'drwxr-xr-x 70 root root 4096 Jul 27 22:51 ..'\n",
       "4. <span style=white-space:pre-wrap>'lrwxrwxrwx  1 root root   33 Jun 24 05:59 COPYING -&gt; ../../share/common-licenses/GPL-2'</span>\n",
       "5. <span style=white-space:pre-wrap>'-rw-r--r--  1 root root   46 Jun 24 05:59 SVN-REVISION'</span>\n",
       "6. <span style=white-space:pre-wrap>'drwxr-xr-x  3 root root 4096 Jul  1 11:52 bin'</span>\n",
       "7. <span style=white-space:pre-wrap>'drwxr-xr-x  2 root root 4096 Jul  1 11:52 etc'</span>\n",
       "8. <span style=white-space:pre-wrap>'drwxr-xr-x  2 root root 4096 Jul  1 11:52 lib'</span>\n",
       "9. <span style=white-space:pre-wrap>'drwxrwxrwx 32 root root 4096 Jul  1 11:52 library'</span>\n",
       "10. <span style=white-space:pre-wrap>'drwxr-xr-x  2 root root 4096 Jul  1 11:52 modules'</span>\n",
       "11. <span style=white-space:pre-wrap>'drwxr-xr-x  2 root root 4096 Jun 24 05:59 site-library'</span>\n",
       "\n",
       "\n"
      ],
      "text/plain": [
       " [1] \"total 36\"                                                                              \n",
       " [2] \"drwxr-xr-x  8 root root 4096 Jul  1 11:52 .\"                                           \n",
       " [3] \"drwxr-xr-x 70 root root 4096 Jul 27 22:51 ..\"                                          \n",
       " [4] \"lrwxrwxrwx  1 root root   33 Jun 24 05:59 COPYING -> ../../share/common-licenses/GPL-2\"\n",
       " [5] \"-rw-r--r--  1 root root   46 Jun 24 05:59 SVN-REVISION\"                                \n",
       " [6] \"drwxr-xr-x  3 root root 4096 Jul  1 11:52 bin\"                                         \n",
       " [7] \"drwxr-xr-x  2 root root 4096 Jul  1 11:52 etc\"                                         \n",
       " [8] \"drwxr-xr-x  2 root root 4096 Jul  1 11:52 lib\"                                         \n",
       " [9] \"drwxrwxrwx 32 root root 4096 Jul  1 11:52 library\"                                     \n",
       "[10] \"drwxr-xr-x  2 root root 4096 Jul  1 11:52 modules\"                                     \n",
       "[11] \"drwxr-xr-x  2 root root 4096 Jun 24 05:59 site-library\"                                "
      ]
     },
     "metadata": {},
     "output_type": "display_data"
    }
   ],
   "source": [
    "system(\"ls -la /usr/lib/R\",intern=TRUE)"
   ]
  },
  {
   "cell_type": "code",
   "execution_count": 18,
   "id": "70bf501a-4d47-4adb-aaec-5979e6c558e1",
   "metadata": {},
   "outputs": [
    {
     "name": "stderr",
     "output_type": "stream",
     "text": [
      "'getOption(\"repos\")' replaces Bioconductor standard repositories, see\n",
      "'?repositories' for details\n",
      "\n",
      "replacement repositories:\n",
      "    CRAN: https://cloud.r-project.org\n",
      "\n",
      "\n",
      "Bioconductor version 3.15 (BiocManager 1.30.18), R 4.2.1 (2022-06-23)\n",
      "\n",
      "Old packages: 'bslib', 'callr', 'devtools', 'downlit', 'farver', 'fontawesome',\n",
      "  'future', 'generics', 'htmltools', 'parallelly', 'pillar', 'processx',\n",
      "  'Rcpp', 'rgl', 'rlang', 'roxygen2', 'sass', 'shiny', 'stringi', 'tibble',\n",
      "  'tidyverse', 'MASS'\n",
      "\n"
     ]
    }
   ],
   "source": [
    "BiocManager::install(version = \"3.15\")"
   ]
  },
  {
   "cell_type": "code",
   "execution_count": null,
   "id": "5648472a-985a-4099-9931-3ece0f15654d",
   "metadata": {},
   "outputs": [],
   "source": [
    "# No more ERROR"
   ]
  },
  {
   "cell_type": "code",
   "execution_count": 19,
   "id": "46f6873d-931b-46ed-872a-f2bd10065d45",
   "metadata": {},
   "outputs": [
    {
     "name": "stderr",
     "output_type": "stream",
     "text": [
      "'getOption(\"repos\")' replaces Bioconductor standard repositories, see\n",
      "'?repositories' for details\n",
      "\n",
      "replacement repositories:\n",
      "    CRAN: https://cloud.r-project.org\n",
      "\n",
      "\n",
      "Bioconductor version 3.15 (BiocManager 1.30.18), R 4.2.1 (2022-06-23)\n",
      "\n",
      "Installing package(s) 'affy'\n",
      "\n",
      "also installing the dependencies ‘BiocGenerics’, ‘Biobase’, ‘affyio’, ‘preprocessCore’, ‘zlibbioc’\n",
      "\n",
      "\n",
      "Old packages: 'bslib', 'callr', 'devtools', 'downlit', 'farver', 'fontawesome',\n",
      "  'future', 'generics', 'htmltools', 'parallelly', 'pillar', 'processx',\n",
      "  'Rcpp', 'rgl', 'rlang', 'roxygen2', 'sass', 'shiny', 'stringi', 'tibble',\n",
      "  'tidyverse', 'MASS'\n",
      "\n",
      "'getOption(\"repos\")' replaces Bioconductor standard repositories, see\n",
      "'?repositories' for details\n",
      "\n",
      "replacement repositories:\n",
      "    CRAN: https://cloud.r-project.org\n",
      "\n",
      "\n",
      "Bioconductor version 3.15 (BiocManager 1.30.18), R 4.2.1 (2022-06-23)\n",
      "\n",
      "Installing package(s) 'GEOquery'\n",
      "\n",
      "also installing the dependencies ‘R.oo’, ‘R.methodsS3’, ‘limma’, ‘R.utils’\n",
      "\n",
      "\n",
      "Old packages: 'bslib', 'callr', 'devtools', 'downlit', 'farver', 'fontawesome',\n",
      "  'future', 'generics', 'htmltools', 'parallelly', 'pillar', 'processx',\n",
      "  'Rcpp', 'rgl', 'rlang', 'roxygen2', 'sass', 'shiny', 'stringi', 'tibble',\n",
      "  'tidyverse', 'MASS'\n",
      "\n",
      "'getOption(\"repos\")' replaces Bioconductor standard repositories, see\n",
      "'?repositories' for details\n",
      "\n",
      "replacement repositories:\n",
      "    CRAN: https://cloud.r-project.org\n",
      "\n",
      "\n",
      "Bioconductor version 3.15 (BiocManager 1.30.18), R 4.2.1 (2022-06-23)\n",
      "\n",
      "Installing package(s) 'affydata'\n",
      "\n",
      "Old packages: 'bslib', 'callr', 'devtools', 'downlit', 'farver', 'fontawesome',\n",
      "  'future', 'generics', 'htmltools', 'parallelly', 'pillar', 'processx',\n",
      "  'Rcpp', 'rgl', 'rlang', 'roxygen2', 'sass', 'shiny', 'stringi', 'tibble',\n",
      "  'tidyverse', 'MASS'\n",
      "\n",
      "'getOption(\"repos\")' replaces Bioconductor standard repositories, see\n",
      "'?repositories' for details\n",
      "\n",
      "replacement repositories:\n",
      "    CRAN: https://cloud.r-project.org\n",
      "\n",
      "\n",
      "Bioconductor version 3.15 (BiocManager 1.30.18), R 4.2.1 (2022-06-23)\n",
      "\n",
      "Installing package(s) 'frma'\n",
      "\n",
      "also installing the dependencies ‘GenomeInfoDbData’, ‘matrixStats’, ‘XVector’, ‘GenomeInfoDb’, ‘plogr’, ‘MatrixGenerics’, ‘DelayedArray’, ‘iterators’, ‘Biostrings’, ‘affxparser’, ‘ff’, ‘RSQLite’, ‘IRanges’, ‘GenomicRanges’, ‘SummarizedExperiment’, ‘foreach’, ‘S4Vectors’, ‘oligo’, ‘oligoClasses’\n",
      "\n",
      "\n",
      "Old packages: 'bslib', 'callr', 'devtools', 'downlit', 'farver', 'fontawesome',\n",
      "  'future', 'generics', 'htmltools', 'parallelly', 'pillar', 'processx',\n",
      "  'Rcpp', 'rgl', 'rlang', 'roxygen2', 'sass', 'shiny', 'stringi', 'tibble',\n",
      "  'tidyverse', 'MASS'\n",
      "\n",
      "'getOption(\"repos\")' replaces Bioconductor standard repositories, see\n",
      "'?repositories' for details\n",
      "\n",
      "replacement repositories:\n",
      "    CRAN: https://cloud.r-project.org\n",
      "\n",
      "\n",
      "Bioconductor version 3.15 (BiocManager 1.30.18), R 4.2.1 (2022-06-23)\n",
      "\n",
      "Installing package(s) 'hgu133plus2frmavecs'\n",
      "\n",
      "Old packages: 'bslib', 'callr', 'devtools', 'downlit', 'farver', 'fontawesome',\n",
      "  'future', 'generics', 'htmltools', 'parallelly', 'pillar', 'processx',\n",
      "  'Rcpp', 'rgl', 'rlang', 'roxygen2', 'sass', 'shiny', 'stringi', 'tibble',\n",
      "  'tidyverse', 'MASS'\n",
      "\n",
      "'getOption(\"repos\")' replaces Bioconductor standard repositories, see\n",
      "'?repositories' for details\n",
      "\n",
      "replacement repositories:\n",
      "    CRAN: https://cloud.r-project.org\n",
      "\n",
      "\n",
      "Bioconductor version 3.15 (BiocManager 1.30.18), R 4.2.1 (2022-06-23)\n",
      "\n",
      "Installing package(s) 'AffyBatch'\n",
      "\n",
      "Warning message:\n",
      "“package ‘AffyBatch’ is not available for Bioconductor version '3.15'\n",
      "\n",
      "A version of this package for your version of R might be available elsewhere,\n",
      "see the ideas at\n",
      "https://cran.r-project.org/doc/manuals/r-patched/R-admin.html#Installing-packages”\n",
      "Old packages: 'bslib', 'callr', 'devtools', 'downlit', 'farver', 'fontawesome',\n",
      "  'future', 'generics', 'htmltools', 'parallelly', 'pillar', 'processx',\n",
      "  'Rcpp', 'rgl', 'rlang', 'roxygen2', 'sass', 'shiny', 'stringi', 'tibble',\n",
      "  'tidyverse', 'MASS'\n",
      "\n"
     ]
    }
   ],
   "source": [
    "BiocManager::install(\"affy\")\n",
    "BiocManager::install(\"GEOquery\")\n",
    "BiocManager::install(\"affydata\")\n",
    "BiocManager::install(\"frma\")\n",
    "BiocManager::install(\"hgu133plus2frmavecs\")\n",
    "BiocManager::install(\"AffyBatch\")"
   ]
  },
  {
   "cell_type": "code",
   "execution_count": 20,
   "id": "48eb5dd7-48b9-4dc5-b4ee-bc641751ac7f",
   "metadata": {},
   "outputs": [
    {
     "name": "stderr",
     "output_type": "stream",
     "text": [
      "Installing package into ‘/home/jupyter/.R/library’\n",
      "(as ‘lib’ is unspecified)\n",
      "\n",
      "also installing the dependency ‘expm’\n",
      "\n",
      "\n",
      "Installing package into ‘/home/jupyter/.R/library’\n",
      "(as ‘lib’ is unspecified)\n",
      "\n",
      "also installing the dependencies ‘deldir’, ‘RcppEigen’, ‘jpeg’, ‘interp’, ‘latticeExtra’\n",
      "\n",
      "\n",
      "Installing package into ‘/home/jupyter/.R/library’\n",
      "(as ‘lib’ is unspecified)\n",
      "\n",
      "Installing package into ‘/home/jupyter/.R/library’\n",
      "(as ‘lib’ is unspecified)\n",
      "\n",
      "Installing package into ‘/home/jupyter/.R/library’\n",
      "(as ‘lib’ is unspecified)\n",
      "\n"
     ]
    }
   ],
   "source": [
    "install.packages(\"Matrix\", dependencies = T)\n",
    "install.packages(\"lattice\", dependencies = T)\n",
    "install.packages(\"fdrtool\", dependencies = T)\n",
    "install.packages(\"rpart\", dependencies = T)\n",
    "install.packages(\"tidyverse\", dependencies = T)"
   ]
  },
  {
   "cell_type": "code",
   "execution_count": 22,
   "id": "5e89d452-560e-4d93-8d6c-84375978bdde",
   "metadata": {},
   "outputs": [],
   "source": [
    "library(\"affy\")"
   ]
  },
  {
   "cell_type": "code",
   "execution_count": 23,
   "id": "8e14f0b3-d190-4612-829a-65407fac3215",
   "metadata": {},
   "outputs": [],
   "source": [
    "library(\"GEOquery\")"
   ]
  },
  {
   "cell_type": "code",
   "execution_count": 24,
   "id": "b3e590a5-3234-43bd-b4f3-2d9911a9d387",
   "metadata": {},
   "outputs": [],
   "source": [
    "library(\"affydata\")"
   ]
  },
  {
   "cell_type": "code",
   "execution_count": 25,
   "id": "e1a5f2a7-b726-4e53-819d-7271340d9939",
   "metadata": {},
   "outputs": [],
   "source": [
    "library(\"frma\")"
   ]
  },
  {
   "cell_type": "code",
   "execution_count": 26,
   "id": "1c02efff-609e-44bc-9291-760a5c9d0308",
   "metadata": {},
   "outputs": [],
   "source": [
    "library(\"hgu133plus2frmavecs\")"
   ]
  },
  {
   "cell_type": "code",
   "execution_count": 27,
   "id": "f8b48633-e992-4536-b139-5d66c10855d8",
   "metadata": {},
   "outputs": [
    {
     "ename": "ERROR",
     "evalue": "Error in library(\"AffyBatch\"): there is no package called ‘AffyBatch’\n",
     "output_type": "error",
     "traceback": [
      "Error in library(\"AffyBatch\"): there is no package called ‘AffyBatch’\nTraceback:\n",
      "1. library(\"AffyBatch\")"
     ]
    }
   ],
   "source": [
    "library(\"AffyBatch\")"
   ]
  },
  {
   "cell_type": "code",
   "execution_count": 28,
   "id": "2d695d58-2c3b-4cca-8441-587697354403",
   "metadata": {},
   "outputs": [],
   "source": [
    "library(\"Matrix\")"
   ]
  },
  {
   "cell_type": "code",
   "execution_count": 29,
   "id": "9898deac-352e-4dad-b9b9-5dd06bbfacca",
   "metadata": {},
   "outputs": [],
   "source": [
    "library(\"lattice\")"
   ]
  },
  {
   "cell_type": "code",
   "execution_count": 30,
   "id": "8b8d76f0-d610-48e8-898c-ade3bde22fc8",
   "metadata": {},
   "outputs": [],
   "source": [
    "library(\"fdrtool\")"
   ]
  },
  {
   "cell_type": "code",
   "execution_count": 31,
   "id": "f2ee473b-79f1-4b26-b35c-62019e82a6bc",
   "metadata": {},
   "outputs": [],
   "source": [
    "library(\"rpart\")"
   ]
  },
  {
   "cell_type": "code",
   "execution_count": 32,
   "id": "a47f4e7b-bf13-47b5-b5b9-1921fa27a224",
   "metadata": {},
   "outputs": [
    {
     "name": "stderr",
     "output_type": "stream",
     "text": [
      "── \u001b[1mAttaching packages\u001b[22m ─────────────────────────────────────── tidyverse 1.3.2 ──\n",
      "\u001b[32m✔\u001b[39m \u001b[34mggplot2\u001b[39m 3.3.6     \u001b[32m✔\u001b[39m \u001b[34mpurrr  \u001b[39m 0.3.4\n",
      "\u001b[32m✔\u001b[39m \u001b[34mtibble \u001b[39m 3.1.7     \u001b[32m✔\u001b[39m \u001b[34mdplyr  \u001b[39m 1.0.9\n",
      "\u001b[32m✔\u001b[39m \u001b[34mtidyr  \u001b[39m 1.2.0     \u001b[32m✔\u001b[39m \u001b[34mstringr\u001b[39m 1.4.0\n",
      "\u001b[32m✔\u001b[39m \u001b[34mreadr  \u001b[39m 2.1.2     \u001b[32m✔\u001b[39m \u001b[34mforcats\u001b[39m 0.5.1\n",
      "── \u001b[1mConflicts\u001b[22m ────────────────────────────────────────── tidyverse_conflicts() ──\n",
      "\u001b[31m✖\u001b[39m \u001b[34mdplyr\u001b[39m::\u001b[32mcombine()\u001b[39m    masks \u001b[34mBiobase\u001b[39m::combine(), \u001b[34mBiocGenerics\u001b[39m::combine()\n",
      "\u001b[31m✖\u001b[39m \u001b[34mtidyr\u001b[39m::\u001b[32mexpand()\u001b[39m     masks \u001b[34mMatrix\u001b[39m::expand()\n",
      "\u001b[31m✖\u001b[39m \u001b[34mdplyr\u001b[39m::\u001b[32mfilter()\u001b[39m     masks \u001b[34mstats\u001b[39m::filter()\n",
      "\u001b[31m✖\u001b[39m \u001b[34mdplyr\u001b[39m::\u001b[32mlag()\u001b[39m        masks \u001b[34mstats\u001b[39m::lag()\n",
      "\u001b[31m✖\u001b[39m \u001b[34mtidyr\u001b[39m::\u001b[32mpack()\u001b[39m       masks \u001b[34mMatrix\u001b[39m::pack()\n",
      "\u001b[31m✖\u001b[39m \u001b[34mggplot2\u001b[39m::\u001b[32mPosition()\u001b[39m masks \u001b[34mBiocGenerics\u001b[39m::Position(), \u001b[34mbase\u001b[39m::Position()\n",
      "\u001b[31m✖\u001b[39m \u001b[34mtidyr\u001b[39m::\u001b[32munpack()\u001b[39m     masks \u001b[34mMatrix\u001b[39m::unpack()\n"
     ]
    }
   ],
   "source": [
    "library(\"tidyverse\")"
   ]
  },
  {
   "cell_type": "code",
   "execution_count": 33,
   "id": "5e1ab968-1392-4b35-a072-90ed4bb7a907",
   "metadata": {},
   "outputs": [],
   "source": [
    "a <- \"apple\""
   ]
  },
  {
   "cell_type": "code",
   "execution_count": 34,
   "id": "d2906340-ca22-446d-b1bd-6f62c4ae6f95",
   "metadata": {},
   "outputs": [
    {
     "data": {
      "text/html": [
       "'a'"
      ],
      "text/latex": [
       "'a'"
      ],
      "text/markdown": [
       "'a'"
      ],
      "text/plain": [
       "[1] \"a\""
      ]
     },
     "metadata": {},
     "output_type": "display_data"
    }
   ],
   "source": [
    "ls()"
   ]
  },
  {
   "cell_type": "code",
   "execution_count": 35,
   "id": "8d4f7189-cfcf-4fef-8229-51742adc02e7",
   "metadata": {},
   "outputs": [],
   "source": [
    "b <- 40"
   ]
  },
  {
   "cell_type": "code",
   "execution_count": 36,
   "id": "23385ef1-8b07-44f0-974e-091d4e3cff1a",
   "metadata": {},
   "outputs": [
    {
     "data": {
      "text/html": [
       "<style>\n",
       ".list-inline {list-style: none; margin:0; padding: 0}\n",
       ".list-inline>li {display: inline-block}\n",
       ".list-inline>li:not(:last-child)::after {content: \"\\00b7\"; padding: 0 .5ex}\n",
       "</style>\n",
       "<ol class=list-inline><li>'a'</li><li>'b'</li></ol>\n"
      ],
      "text/latex": [
       "\\begin{enumerate*}\n",
       "\\item 'a'\n",
       "\\item 'b'\n",
       "\\end{enumerate*}\n"
      ],
      "text/markdown": [
       "1. 'a'\n",
       "2. 'b'\n",
       "\n",
       "\n"
      ],
      "text/plain": [
       "[1] \"a\" \"b\""
      ]
     },
     "metadata": {},
     "output_type": "display_data"
    }
   ],
   "source": [
    "ls()"
   ]
  },
  {
   "cell_type": "code",
   "execution_count": 37,
   "id": "b0aa5ded-35d6-4f67-84d8-0f0166c238c5",
   "metadata": {},
   "outputs": [
    {
     "data": {
      "text/html": [
       "<dl>\n",
       "\t<dt>$a</dt>\n",
       "\t\t<dd>'character'</dd>\n",
       "\t<dt>$b</dt>\n",
       "\t\t<dd>'double'</dd>\n",
       "</dl>\n"
      ],
      "text/latex": [
       "\\begin{description}\n",
       "\\item[\\$a] 'character'\n",
       "\\item[\\$b] 'double'\n",
       "\\end{description}\n"
      ],
      "text/markdown": [
       "$a\n",
       ":   'character'\n",
       "$b\n",
       ":   'double'\n",
       "\n",
       "\n"
      ],
      "text/plain": [
       "$a\n",
       "[1] \"character\"\n",
       "\n",
       "$b\n",
       "[1] \"double\"\n"
      ]
     },
     "metadata": {},
     "output_type": "display_data"
    }
   ],
   "source": [
    "eapply(.GlobalEnv,typeof)"
   ]
  }
 ],
 "metadata": {
  "environment": {
   "kernel": "ir",
   "name": "r-cpu.4-2.m102",
   "type": "gcloud",
   "uri": "gcr.io/deeplearning-platform-release/r-cpu.4-2:m102"
  },
  "kernelspec": {
   "display_name": "R",
   "language": "R",
   "name": "ir"
  },
  "language_info": {
   "codemirror_mode": "r",
   "file_extension": ".r",
   "mimetype": "text/x-r-source",
   "name": "R",
   "pygments_lexer": "r",
   "version": "4.2.2"
  }
 },
 "nbformat": 4,
 "nbformat_minor": 5
}
