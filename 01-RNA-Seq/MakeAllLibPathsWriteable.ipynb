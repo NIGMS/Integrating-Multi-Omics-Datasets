{
 "cells": [
  {
   "cell_type": "code",
   "execution_count": null,
   "id": "31adb661-3a60-42c1-a4bb-549b77f699c0",
   "metadata": {},
   "outputs": [],
   "source": [
    "#\n",
    ".libPaths()"
   ]
  },
  {
   "cell_type": "code",
   "execution_count": null,
   "id": "acac57a2-03b1-49aa-8c8b-5d83e20a3729",
   "metadata": {},
   "outputs": [],
   "source": [
    "BiocManager::install(version = \"3.15\")"
   ]
  },
  {
   "cell_type": "code",
   "execution_count": null,
   "id": "57152051-0f86-4135-87f0-42e5abf11aeb",
   "metadata": {},
   "outputs": [],
   "source": [
    "#ERROR: Installation paths not writeable, unable to update packages\n",
    " # path: /usr/lib/R/library\n",
    " # path: /usr/local/lib/R/site-library\n",
    "\n",
    "##Need to make paths writeable to all users"
   ]
  },
  {
   "cell_type": "code",
   "execution_count": null,
   "id": "215034d4-ffb6-45b5-abc6-626a578e3d7e",
   "metadata": {},
   "outputs": [],
   "source": [
    "system(\"ls -la /usr/local/lib/R\",intern=TRUE)"
   ]
  },
  {
   "cell_type": "code",
   "execution_count": null,
   "id": "8c5d263b-c08e-4656-b913-bdd4e763a677",
   "metadata": {},
   "outputs": [],
   "source": [
    "system(\"sudo chmod -R 777 /usr/lib/R/library\",intern=TRUE)"
   ]
  },
  {
   "cell_type": "code",
   "execution_count": null,
   "id": "58204437-1e56-488f-ba73-7dd568ce8ad8",
   "metadata": {},
   "outputs": [],
   "source": [
    "system(\"sudo chmod -R 777 /usr/local/lib/R/site-library\",intern=TRUE)"
   ]
  },
  {
   "cell_type": "code",
   "execution_count": null,
   "id": "929428c8-9a34-4b04-91c9-5ac1fea71103",
   "metadata": {},
   "outputs": [],
   "source": [
    "system(\"ls -la /usr/local/lib/R\",intern=TRUE)"
   ]
  },
  {
   "cell_type": "code",
   "execution_count": null,
   "id": "a8f1fa61-2898-4d04-9a5d-8b509bdf0642",
   "metadata": {},
   "outputs": [],
   "source": [
    "system(\"ls -la /usr/lib/R\",intern=TRUE)"
   ]
  },
  {
   "cell_type": "code",
   "execution_count": null,
   "id": "70bf501a-4d47-4adb-aaec-5979e6c558e1",
   "metadata": {},
   "outputs": [],
   "source": [
    "BiocManager::install(version = \"3.15\")"
   ]
  },
  {
   "cell_type": "code",
   "execution_count": null,
   "id": "5648472a-985a-4099-9931-3ece0f15654d",
   "metadata": {},
   "outputs": [],
   "source": [
    "# No more ERROR"
   ]
  },
  {
   "cell_type": "code",
   "execution_count": null,
   "id": "46f6873d-931b-46ed-872a-f2bd10065d45",
   "metadata": {},
   "outputs": [],
   "source": [
    "BiocManager::install(\"affy\")\n",
    "BiocManager::install(\"GEOquery\")\n",
    "BiocManager::install(\"affydata\")\n",
    "BiocManager::install(\"frma\")\n",
    "BiocManager::install(\"hgu133plus2frmavecs\")\n",
    "BiocManager::install(\"AffyBatch\")"
   ]
  },
  {
   "cell_type": "code",
   "execution_count": null,
   "id": "48eb5dd7-48b9-4dc5-b4ee-bc641751ac7f",
   "metadata": {},
   "outputs": [],
   "source": [
    "install.packages(\"Matrix\", dependencies = T)\n",
    "install.packages(\"lattice\", dependencies = T)\n",
    "install.packages(\"fdrtool\", dependencies = T)\n",
    "install.packages(\"rpart\", dependencies = T)\n",
    "install.packages(\"tidyverse\", dependencies = T)"
   ]
  },
  {
   "cell_type": "code",
   "execution_count": null,
   "id": "5e89d452-560e-4d93-8d6c-84375978bdde",
   "metadata": {},
   "outputs": [],
   "source": [
    "library(\"affy\")"
   ]
  },
  {
   "cell_type": "code",
   "execution_count": null,
   "id": "8e14f0b3-d190-4612-829a-65407fac3215",
   "metadata": {},
   "outputs": [],
   "source": [
    "library(\"GEOquery\")"
   ]
  },
  {
   "cell_type": "code",
   "execution_count": null,
   "id": "b3e590a5-3234-43bd-b4f3-2d9911a9d387",
   "metadata": {},
   "outputs": [],
   "source": [
    "library(\"affydata\")"
   ]
  },
  {
   "cell_type": "code",
   "execution_count": null,
   "id": "e1a5f2a7-b726-4e53-819d-7271340d9939",
   "metadata": {},
   "outputs": [],
   "source": [
    "library(\"frma\")"
   ]
  },
  {
   "cell_type": "code",
   "execution_count": null,
   "id": "1c02efff-609e-44bc-9291-760a5c9d0308",
   "metadata": {},
   "outputs": [],
   "source": [
    "library(\"hgu133plus2frmavecs\")"
   ]
  },
  {
   "cell_type": "code",
   "execution_count": null,
   "id": "f8b48633-e992-4536-b139-5d66c10855d8",
   "metadata": {},
   "outputs": [],
   "source": [
    "library(\"AffyBatch\")"
   ]
  },
  {
   "cell_type": "code",
   "execution_count": null,
   "id": "2d695d58-2c3b-4cca-8441-587697354403",
   "metadata": {},
   "outputs": [],
   "source": [
    "library(\"Matrix\")"
   ]
  },
  {
   "cell_type": "code",
   "execution_count": null,
   "id": "9898deac-352e-4dad-b9b9-5dd06bbfacca",
   "metadata": {},
   "outputs": [],
   "source": [
    "library(\"lattice\")"
   ]
  },
  {
   "cell_type": "code",
   "execution_count": null,
   "id": "8b8d76f0-d610-48e8-898c-ade3bde22fc8",
   "metadata": {},
   "outputs": [],
   "source": [
    "library(\"fdrtool\")"
   ]
  },
  {
   "cell_type": "code",
   "execution_count": null,
   "id": "f2ee473b-79f1-4b26-b35c-62019e82a6bc",
   "metadata": {},
   "outputs": [],
   "source": [
    "library(\"rpart\")"
   ]
  },
  {
   "cell_type": "code",
   "execution_count": null,
   "id": "a47f4e7b-bf13-47b5-b5b9-1921fa27a224",
   "metadata": {},
   "outputs": [],
   "source": [
    "library(\"tidyverse\")"
   ]
  },
  {
   "cell_type": "code",
   "execution_count": null,
   "id": "5e1ab968-1392-4b35-a072-90ed4bb7a907",
   "metadata": {},
   "outputs": [],
   "source": [
    "a <- \"apple\""
   ]
  },
  {
   "cell_type": "code",
   "execution_count": null,
   "id": "d2906340-ca22-446d-b1bd-6f62c4ae6f95",
   "metadata": {},
   "outputs": [],
   "source": [
    "ls()"
   ]
  },
  {
   "cell_type": "code",
   "execution_count": null,
   "id": "8d4f7189-cfcf-4fef-8229-51742adc02e7",
   "metadata": {},
   "outputs": [],
   "source": [
    "b <- 40"
   ]
  },
  {
   "cell_type": "code",
   "execution_count": null,
   "id": "23385ef1-8b07-44f0-974e-091d4e3cff1a",
   "metadata": {},
   "outputs": [],
   "source": [
    "ls()"
   ]
  },
  {
   "cell_type": "code",
   "execution_count": null,
   "id": "b0aa5ded-35d6-4f67-84d8-0f0166c238c5",
   "metadata": {},
   "outputs": [],
   "source": [
    "eapply(.GlobalEnv,typeof)"
   ]
  }
 ],
 "metadata": {
  "environment": {
   "kernel": "ir",
   "name": "r-cpu.4-2.m108",
   "type": "gcloud",
   "uri": "gcr.io/deeplearning-platform-release/r-cpu.4-2:m108"
  },
  "kernelspec": {
   "display_name": "R",
   "language": "R",
   "name": "ir"
  },
  "language_info": {
   "codemirror_mode": "r",
   "file_extension": ".r",
   "mimetype": "text/x-r-source",
   "name": "R",
   "pygments_lexer": "r",
   "version": "4.2.3"
  }
 },
 "nbformat": 4,
 "nbformat_minor": 5
}
