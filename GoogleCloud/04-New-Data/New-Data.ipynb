{
    "cells": [
     {
      "cell_type": "markdown",
      "id": "1d0516a4-c45d-4ecf-b04c-e21e19f933f3",
      "metadata": {},
      "source": [
       "# <span> Module 4: Running the module with new data <span>"
      ]
     },
     {
      "cell_type": "markdown",
      "id": "8af9faa7-692e-4d8e-b9b9-a2070e21d905",
      "metadata": {},
      "source": [
       "In this notebook, we are going to explore how to run this module with a new dataset. These submodules provide a great framework for running a rigorous and scalable analysis, but there are some considerations that must be made in order to run this with your own data. We will walk through that process here so that hopefully, you are able to take these notebooks to your research group and use them for your own analysis. Notice that we do not give you all the answers in the code blocks, but if you get stuck, use the dropdowns for help. This module largely uses Nextflow for the RNA-seq and Methyl-seq analysis, which makes it very easy to run the same analysis on new datasets by updating the config files."
      ]
     },
     {
      "cell_type": "markdown",
      "id": "8209f0e3-a631-49f2-91cf-aa7ce85fea13",
      "metadata": {},
      "source": [
       "## **Importing the example dataset**"
      ]
     },
     {
      "cell_type": "markdown",
      "id": "f923f5d4-597a-4e39-803e-5252f2fe4cd6",
      "metadata": {},
      "source": [
       "Our new dataset comes from a paper by [Hadad et al. Epigenetics Chromatin. 2019](https://www.ncbi.nlm.nih.gov/pmc/articles/PMC6781367/) that compares methylation changes in mice as they age and correlates those changes to gene expression changes. The data is available in SRA under the bioProject number [PRJNA523985](https://www.ncbi.nlm.nih.gov/sra/?term=PRJNA523985). The impact of methylation on aging, particularly in brain tissue, is of great research interest. There are many samples in this dataset, but we will limit our analysis to young vs old female mice."
      ]
     },
     {
      "cell_type": "markdown",
      "id": "364ce93b-f726-45f5-81da-19ddd214b244",
      "metadata": {},
      "source": [
       "To download the dataset, follow the instructions in the [STRIDES tutorial](https://github.com/STRIDES/NIHCloudLabGCP/blob/main/notebooks/SRADownload/SRA-Download.ipynb) on downloading datasets from SRA using the prefetch+fasterq dump method. The accession numbers for this analysis are: \n",
       "\n",
       "- SRR8616802\n",
       "- SRR8616795\n",
       "- SRR8616796\n",
       "- SRR8616777\n",
       "- SRR8616778\n",
       "- SRR8616772\n",
       "- SRR8616799\n",
       "- SRR8616800\n",
       "- SRR8616801\n",
       "- SRR8616787\n",
       "- SRR8616788\n",
       "- SRR8616789\n",
       "\n",
       "You can save these accession numbers in a file and use that in the `sra-tools` commands. Once you pull these files from SRA, store them in a storage bucket so that Nextflow can see them in the next steps."
      ]
     },
     {
      "cell_type": "markdown",
      "id": "4218d79f-8431-490a-9bc0-76ba89561c83",
      "metadata": {},
      "source": [
       "## **RNA-Seq analysis**"
      ]
     },
     {
      "cell_type": "markdown",
      "id": "0e33ebbe-60c4-4f73-9cf9-70a2245d6fb9",
      "metadata": {},
      "source": [
       "To run the RNA-Seq portion of this tutorial, you need to update the config file to point to your RNA-Seq reads. Let's look at the `rnaseq-gcb.config` file and make the necessary changes. We will need to specify `params.outdir`, `workDir`, `params.input`, and `params.genome`."
      ]
     },
     {
      "cell_type": "markdown",
      "id": "1a96a33c-c580-4aea-889a-02c53378586a",
      "metadata": {},
      "source": [
       "```\n",
       "profiles {\n",
       "  gcb {\n",
       "      // Google batch parameters\n",
       "      process.executor = 'google-batch'\n",
       "      process.container = 'quay.io/nextflow/rnaseq-nf:v1.1'\n",
       "      google.location = 'us-central1'\n",
       "      google.region  = 'us-central1'\n",
       "      google.project = '<Project ID>'\n",
       "      // Workflow parameters\n",
       "      params.outdir = ''\n",
       "      workDir = ''\n",
       "      params.input = ''\n",
       "      params.genome = ''\n",
       "  }\n",
       "}\n",
       "```"
      ]
     },
     {
      "cell_type": "markdown",
      "id": "be4d3374-abf6-4d0a-9fc2-b9bbf356dc0f",
      "metadata": {},
      "source": [
       "Check the [nf-core RNA-seq](https://nf-co.re/rnaseq/3.12.0) documentation to find out how most of this is structured. As with the primary dataset, the workDir and outdir are going to be locations in your Google Cloud storage bucket. The sequences are from mice so we need to specify a mouse genome build. Finally, the most effort goes into the input parameter. The nf-core documentation specifies that the reads need to be structured in a sample sheet. Let's look at an example. Using your bucket paths to your reads, create a .csv like this and put it in your bucket, then provide the bucket path in the config file. If you need help, click the help button below to see how we suggest."
      ]
     },
     {
      "cell_type": "markdown",
      "id": "f51d42b4-7b6e-4ab0-8030-b05f8704bfd7",
      "metadata": {},
      "source": [
       "<details>\n",
       "  <summary>Click for help</summary>\n",
       "\n",
       "```\n",
       "params.outdir = 'gs://PROJECT-ID/rnaseq/results'\n",
       "workDir = 'gs://PROJECT-ID/rnaseq/work'\n",
       "params.input = 'gs://PROJECT-ID/samplesheet.csv'\n",
       "params.genome = 'GRCm38'\n",
       "```\n",
       "\n",
       "</details>\n"
      ]
     },
     {
      "cell_type": "markdown",
      "id": "98f11060-3d5b-43e0-af7a-beda8f4a46c0",
      "metadata": {},
      "source": [
       "Here's how the first row of your sample sheet might look. Make sure to only include the RNA-seq samples in the sample sheet. The methyl-seq samples will be included in that sample sheet when we run that pipeline in the next step."
      ]
     },
     {
      "cell_type": "markdown",
      "id": "351a761b-a1db-4ef8-a671-b5d64b83056d",
      "metadata": {},
      "source": [
       "```   \n",
       "sample,fastq_1,fastq_2,strandedness   \n",
       "Young_1,gs://BUCKETPATH/SRR8616802_1.fastq.gz,gs://BUCKETPATH/SRR8616802_2.fastq.gz,auto\n",
       "```   "
      ]
     },
     {
      "cell_type": "markdown",
      "id": "736c254a-a6b9-4901-a666-4bff478dcea0",
      "metadata": {},
      "source": [
       "Once you have that together, run the Nextflow command again to run the nf-core pipeline on this dataset. "
      ]
     },
     {
      "cell_type": "markdown",
      "id": "491e14b9-e0c6-4310-8660-8172db317c80",
      "metadata": {},
      "source": [
       "After the Nextflow quantification completes, you can follow much of the RNA-seq notebook as written using the `salmon.merged.gene_counts.tsv` file that is produced by this step. You will need to update the `sample-info.txt` file to match the new information from these samples, but that is a simple task. As you go through the analysis, think about what comparisons would be interesting to make. Feel free to consult the manuscript for analysis ideas and try to replicate some of their results. "
      ]
     },
     {
      "cell_type": "markdown",
      "id": "89f2cf3a-51ed-4856-a8b1-3b6554e89bbd",
      "metadata": {},
      "source": [
       "## **DNA Methylation Analysis**"
      ]
     },
     {
      "cell_type": "markdown",
      "id": "bfbb1122-2196-45cb-8d93-fbc12bb29913",
      "metadata": {},
      "source": [
       "We will use the same framework for the methylation analysis as for the RNA-seq, which is to adjust the config file and let Nextflow run the pipeline. Let's look at the methylation config file and determine what we need to change. Like before, we need to specify a sample sheet input, the genome, workdir, and outdir. Fill in those below and try running the Nextflow command to run the core methyl-seq analysis."
      ]
     },
     {
      "cell_type": "markdown",
      "id": "c2197a3a-23f3-4b3c-85e0-9acd582b60f8",
      "metadata": {},
      "source": [
       "```\n",
       "profiles {\n",
       "  gcb {\n",
       "      // Google batch parameters\n",
       "      process.executor = 'google-batch'\n",
       "      process.container = 'quay.io/nextflow/rnaseq-nf:v1.1'\n",
       "      google.project = 'PROJECT-ID'\n",
       "      google.location = 'us-central1'\n",
       "      google.region  = 'us-central1'\n",
       "      process.machineType = 'c2-standard-30'\n",
       "      // Workflow parameters\n",
       "      dag.overwrite = true\n",
       "      params.outdir = 'FILL-IN-HERE'\n",
       "      workDir = 'FILL-IN-HERE'\n",
       "      params.genome = `FILL-IN-HERE`\n",
       "      params.input = `FILL-IN-HERE`\n",
       "  }\n",
       "}\n",
       "```"
      ]
     },
     {
      "cell_type": "markdown",
      "id": "88e6f8a7-b349-4144-85fd-859704b04209",
      "metadata": {},
      "source": [
       "Be sure to consult the [nf-core methylseq documentation](https://nf-co.re/methylseq/2.5.0) to see how the input sample sheet is structured. There are some differences from the RNA-seq input. Here's an example of our suggested first line."
      ]
     },
     {
      "cell_type": "markdown",
      "id": "8ae0255f-f710-43dd-857b-9713f8bb97f9",
      "metadata": {},
      "source": [
       "```\n",
       "sample,fastq_1,fastq_2   \n",
       "Young_1,gs://BUCKETPATH/SRR8616795_1.fastq.gz,gs://BUCKETPATH/SRR8616795_2.fastq.gz\n",
       "```"
      ]
     },
     {
      "cell_type": "markdown",
      "id": "7e85dd37-9c5f-4abb-a9d2-107fb8590a37",
      "metadata": {},
      "source": [
       "As with the RNA-seq portion of this notebook, much of the remaining analysis can be completed as written in the RRBS-downstream.ipynb notebook. You will need to update the cells that hard-code sample and file information to match the samples from the new dataset, but this is a straightforward task. After doing this, try working through the Integration.ipynb notebook with your new "
      ]
     }
    ],
    "metadata": {},
    "nbformat": 4,
    "nbformat_minor": 5
   }
   