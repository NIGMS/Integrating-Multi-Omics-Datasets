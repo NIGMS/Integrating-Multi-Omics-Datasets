{
 "cells": [
  {
   "cell_type": "markdown",
   "id": "d2701e45-708c-4879-b3b1-1141509f3cb9",
   "metadata": {},
   "source": [
    "# <span> Module 2: DNA Methylation Analysis <span>"
   ]
  },
  {
   "cell_type": "markdown",
   "id": "bfce5f63-c32b-408b-844d-a240ab930b18",
   "metadata": {},
   "source": [
    "Watch [this video](https://youtu.be/_T46fuV7qYw) to learn more about this submodule."
   ]
  },
  {
   "cell_type": "markdown",
   "id": "3d3fbfff-c92b-461b-a049-9c274888d555",
   "metadata": {},
   "source": [
    "## **Introduction**\n",
    "\n",
    "### <span> What is Epigenetics? <span>\n",
    "+ Changes in gene expression caused by mechanisms other than changes in the underlying DNA sequence.\n",
    "+ Enables a cell/organism to respond to its dynamic external environment during development and throughout life.\n",
    "+ Epigenetic changes to the genome can be inherited if these changes occur in cells giving rise to gametes.\n",
    "    \n",
    "### <span> Epigenetics Mechanisms <span>\n",
    "+ DNA Methylation\n",
    "+ Histone Modification\n",
    "    \n",
    "### <span> DNA Methylation <span> \n",
    "DNA Methylation is an epigenetic mechanism that can control gene regulation. Methylation involves the transfer of a methyl group and typically occurs at the CpG dinucleotides in vertebrates. The locations of methylated DNA, including hyper- and hypo- methylated DNA can give information on different diseases and allow researchers to predict and study these diseases. Bisulfite sequencing is a technique that can determine the patterns of DNA methylation. Bisulfite sequencing has a single-base resolution that allows researchers to study the methylation patterns at the base level. \n",
    "\n",
    "The addition of methyl groups to DNA, mostly CpG sites, is to convert cytosine to 5-methylcytosine. DNA methylation at promoter regions can impede target gene expression. CpG sites are regions of DNA where a cytosine nucleotide occurs next to a guanine nucleotide in the linear sequence of bases along its length. \"CpG\" stands for cytosine and guanine separated by a phosphate (—C—phosphate—G—), which links the two nucleosides together in DNA. Methyl groups attached to DNA affects accessibility of genes to transcription proteins. Highly methylated DNA stays tightly wound around histones, preventing RNA polymerase binding and gene transcription. Low methylation loosens the coils and make the DNA accessible to RNA polymerase, allowing gene transcription.\n",
    "\n",
    "<figure>\n",
    "<img src=\"../../images/epigenetic-mech.jpeg\" width=\"700\" height=\"500\">\n",
    "<figcaption align = \"center\"> <b> Fig 1: Affect of epigenetic mechanisms on health. [1] </b> </figcaption>\n",
    "    \n",
    "</figure>\n",
    "    \n",
    "<div class=\"alert alert-block alert-warning\">\n",
    "    <i class=\"fa fa-pencil\" aria-hidden=\"true\"></i>\n",
    "    <b>[1] Reference:</b> https://commonfund.nih.gov/epigenomics/figure </div>\n"
   ]
  },
  {
   "cell_type": "markdown",
   "id": "adb9e9d3-762b-488c-a575-6cd1191910fd",
   "metadata": {},
   "source": [
    "### <span> DNA Methylation Flashcards <span>\n"
   ]
  },
  {
   "cell_type": "code",
   "execution_count": null,
   "id": "98324c9c-3bed-41c9-9294-4e77d826aaa4",
   "metadata": {},
   "outputs": [],
   "source": [
    "IRdisplay::display_html('<iframe src = \"../../docs/quiz_files/methylation.html\" width=95% height=600></iframe>')"
   ]
  },
  {
   "cell_type": "markdown",
   "id": "6e5e9c78-6ccc-4390-897f-5c699fda18c6",
   "metadata": {},
   "source": [
    "### <span> Analysis Architecture for Differential Methylation Analysis <span>\n",
    "\n",
    "<figure>\n",
    "<img src=\"../../images/methylation-flowchart.jpeg\" width=\"700\" height=\"500\">\n",
    "<figcaption align = \"center\"><b>Fig 2: Analysis Architecture for Differential Methylation Analysis. </b></figcaption>\n",
    "</figure>  \n",
    "  \n",
    "This figure represents the analysis architecture followed in this module. The module has been designed according to the resources and the availability of data. The blue box represents the pipeline that can be implemented using the Nextflow nf-core/methylseq module. The purple box represents the data that can be directly extracted from GEO. Both the blue and purple boxes generate a methylation coverage file, and the user can implement either of the methods to generate gene counts and feed them to perform the further downstream analysis. However, Nextflow would take a lot of storage and processing power, so it is recommended to extract the data from GEO if available. If the required data is not available from GEO, then the Nextflow pipeline can be used to extract the gene counts. The downstream analysis is carried through using the R kernel of a Jupyter notebook, and all the steps are discussed in detail in this module."
   ]
  },
  {
   "cell_type": "markdown",
   "id": "4563e871-4276-4b46-acf5-a08629408e0b",
   "metadata": {},
   "source": [
    "### <span>Raw Reads to Methylation Coverage File (Optional)<a name=\"RR\"></a> </span>\n",
    "<figure>\n",
    "<img src=\"../../images/nfcore-methylseq.png\" width=\"700\" height=\"500\">\n",
    "<figcaption align = \"center\"><b>Fig 3: Flowchart for converting raw read to methylation coverage. </b></figcaption>\n",
    "</figure>\n",
    "    \n",
    "This figure represents the analysis architecture followed in this module. The module has been designed according to the resources and the availability of data. The analysis steps represent the pipeline that can be implemented using the Nextflow nf-core/methylseq module. In this figure, the analysis steps to perform methyl seq are shown. Now, there are two different workflows that can be followed to implement this pipeline. The first one is Bismark workflow, where it shows all the tools which can be used for each step of the analysis. We have a similar tools list for each step for the bwa-meth workflow. Both of them are very popular workflows to implement methylseq pipeline.\n",
    "    \n",
    "The sample command to run nf-core methylseq pipeline to generate quality control reports and extract methylation call and coverage file is provided below. #### This step is <u>optional</u> as it is the preprocessing step to let you experience generating your own methylation coverage file. To save on computational and storage resources, we have already provided the methylation coverage file you will use in the down processing analysis in step 3. \n",
    "    \n",
    "If you choose to generate your own methylation coverage file then refer to the instructions outlined in the RNAseq submodule, and refer to the nf-core [methylseq](https://nf-co.re/methylseq). Again, you will need to modify the config file to include your bucket and project ID. "
   ]
  },
  {
   "cell_type": "markdown",
   "id": "f1a803ff",
   "metadata": {},
   "source": [
    "## **Learning Objectives**\n",
    "\n",
    "* **Understanding Epigenetics and DNA Methylation:** Learners will gain a foundational understanding of epigenetics, focusing specifically on DNA methylation as a key epigenetic mechanism.  This includes learning about CpG sites, the impact of methylation on gene expression, and the relationship between methylation patterns and disease.\n",
    "\n",
    "* **Familiarity with DNA Methylation Analysis Techniques:** The notebook introduces bisulfite sequencing as a method for determining DNA methylation patterns.  It explains the principle behind the technique and its single-base resolution capabilities.\n",
    "\n",
    "* **Mastering the Methylation Analysis Workflow:** The core objective revolves around learning a complete workflow for differential methylation analysis.  This includes:\n",
    "\n",
    "    * **Data Acquisition:** Understanding how to obtain methylation data, either through public databases (GEO) or by running a Nextflow pipeline (nf-core/methylseq – although this is presented as optional to reduce computational demands).\n",
    "    * **Data Preprocessing:** Performing quality control, filtering, and normalization of methylation data.  This involves using tools within the methylKit R package to filter by coverage and handle potential biases.\n",
    "    * **Differential Methylation Analysis:** Applying statistical methods (Fisher's Exact Test and Logistic Regression) to identify differentially methylated regions (DMRs) between experimental groups.  The notebook also mentions a Betabinomial test but doesn't fully implement it.\n",
    "    * **Data Interpretation and Visualization:** Creating and interpreting visualizations such as histograms, scatter plots, dendrograms, PCA plots, and volcano plots.  This allows for assessing data quality, identifying outliers, and visualizing methylation differences.\n",
    "    * **Annotation and Interpretation:** Annotating differentially methylated CpGs using the genomation package to understand their genomic context (e.g., proximity to genes, location within gene features) for biological interpretation.\n",
    "\n",
    "* **Developing Practical Skills in R and Nextflow:** Learners will gain practical experience using R (specifically the methylKit and genomation packages) for data analysis.  The optional Nextflow component introduces a bioinformatics pipeline for processing raw sequencing data, enhancing the learning experience for those with more advanced bioinformatics skills and resources."
   ]
  },
  {
   "cell_type": "markdown",
   "id": "4a48dba4",
   "metadata": {},
   "source": [
    "## **Prerequisites**\n",
    "\n",
    "**Software and Packages:**\n",
    "\n",
    "* **Nextflow:** For running the RNA-Seq pipeline.\n",
    "* **R and several R packages:**  `ggplot2`, `ggforce`, `tidyverse`, `BiocManager`, `methylKit`, `GenomicRanges`, `genomation`, `matrixStats`, `IRdisplay`.  These are crucial for the differential gene expression analysis and visualization steps. \n",
    "\n",
    "**APIs**\n",
    "\n",
    "* **Amazon S3**  The notebook extensively uses `aws s3` commands, indicating it needs access to Amazon S3 for downloading input files and potentially for storing intermediate and output files from the Nextflow pipeline.  The notebook suggests creating a bucket (`aws s3 mb s3://UNIQUE-BUCKET-NAME`).\n",
    "\n",
    "* **AWS Batch Compute Environment and Job Queue:** You must have an AWS Batch compute environment and job queue configured. The CloudFormation template automates this. You can set up one manually following the instructions in the link provided in the notebook, but using the template is *recommended* for ease of setup."
   ]
  },
  {
   "cell_type": "markdown",
   "id": "60fb5763",
   "metadata": {},
   "source": [
    "## **Get started**"
   ]
  },
  {
   "cell_type": "markdown",
   "id": "38c8751a",
   "metadata": {},
   "source": [
    "Run the following to create a Kernel with all required packaged installed. It will take about 10 minutes to install packages and create a kernel."
   ]
  },
  {
   "cell_type": "code",
   "execution_count": null,
   "id": "0082cf01",
   "metadata": {},
   "outputs": [],
   "source": [
    "system('chmod +x install_rrbs_packages.sh' , intern=TRUE)\n",
    "system('bash install_rrbs_packages.sh >> logs.txt' , intern=TRUE) # This creates \"R-RRBS\" kernel"
   ]
  },
  {
   "cell_type": "markdown",
   "id": "7052c92c",
   "metadata": {},
   "source": [
    "### **Important: Choose \"R-RRBS\" kernel for the rest of the notebook.**"
   ]
  },
  {
   "cell_type": "markdown",
   "id": "bde4a57b",
   "metadata": {},
   "source": [
    "### AWS Batch Setup\n",
    "\n",
    "AWS Batch will create the needed permissions, roles and resources to run Nextflow in a serverless manner. You can set up AWS Batch manually or deploy it **automatically** with a stack template. The Launch Stack button below will take you to the cloud formation create stack webpage with the template with required resources already linked. \n",
    "\n",
    "If you prefer to skip manual deployment and deploy automatically in the cloud, click the Launch Stack button below. For a walkthrough of the screens during automatic deployment please click [here](https://github.com/NIGMS/NIGMS-Sandbox/blob/main/docs/HowToLaunchAWSBatch.md). The deployment should take ~5 min and then the resources will be ready for use. \n",
    "\n",
    "[![Launch Stack](../../images/LaunchStack.jpg)](https://console.aws.amazon.com/cloudformation/home?region=us-east-1#/stacks/new?stackName=aws-batch-nigms&templateURL=https://nigms-sandbox.s3.us-east-1.amazonaws.com/cf-templates/AWSBatch_template.yaml )\n",
    "\n",
    "\n",
    "Before begining this tutorial, if you do not have required roles, policies, permissions or compute environment and would like to **manually** set those up please click [here](https://github.com/NIGMS/NIGMS-Sandbox/blob/main/docs/AWS-Batch-Setup.md) to set that up."
   ]
  },
  {
   "cell_type": "markdown",
   "id": "252ae02c-a505-456f-9eb0-6870f6944321",
   "metadata": {},
   "source": [
    "### Install Nextflow"
   ]
  },
  {
   "cell_type": "code",
   "execution_count": null,
   "id": "8e44f89f-f8eb-45d0-9ef0-76096fcdfbd2",
   "metadata": {},
   "outputs": [],
   "source": [
    "#Install nexflow, make it exceutable, and update it\n",
    "system('curl https://get.nextflow.io | bash' , intern=TRUE)\n",
    "system('chmod +x nextflow' , intern=TRUE)\n",
    "system('./nextflow self-update' , intern=TRUE)"
   ]
  },
  {
   "cell_type": "markdown",
   "id": "3e663878-cd15-446d-873b-80b6e57e82b4",
   "metadata": {},
   "source": [
    "The size of the output data generated by Nextflow is large. We can mitigate that by storing the temporary and output files to a bucket by setting the 'workDir' and 'params.outdir' to a existing bucket:\n",
    " \n",
    "`workDir = 's3://your_bucket_name/meth-tmp`  \n",
    "`params.outdir = 's3://your_bucket_name/meth-outputs`"
   ]
  },
  {
   "cell_type": "code",
   "execution_count": null,
   "id": "6f4ade6c-85ce-46c6-ab25-ffe6cb6fabb7",
   "metadata": {},
   "outputs": [],
   "source": [
    "#This step can take up to 20 min depending on the machine-type and input files.\n",
    "system('./nextflow run nf-core/methylseq -c rrbs-aws.config -profile test,aws', intern=TRUE)"
   ]
  },
  {
   "cell_type": "markdown",
   "id": "5b087eb5-a75f-4b5c-9497-ee67d7421abd",
   "metadata": {},
   "source": [
    "<div class=\"alert alert-block alert-info\">\n",
    "    <i class=\"fa fa-lightbulb-o\" aria-hidden=\"true\"></i>\n",
    "    <b>Tip: </b> If you don't immediately see a output on your screen check your output directory you have pointed to in your config file to insure that Nextflow is running. You should see some output directories/files.\n",
    "</div>"
   ]
  },
  {
   "cell_type": "markdown",
   "id": "07b395cf-8f00-4aa7-8f91-2fdc8f60ae17",
   "metadata": {},
   "source": [
    "### Methylation Coverage to Differential Methylation"
   ]
  },
  {
   "cell_type": "markdown",
   "id": "c4ef3b09-b581-4478-a418-431c8fcf04c2",
   "metadata": {},
   "source": [
    "### <span> Load packages </span>"
   ]
  },
  {
   "cell_type": "code",
   "execution_count": null,
   "id": "f0a92e51-b404-4020-94e5-66fcbdbf1459",
   "metadata": {},
   "outputs": [],
   "source": [
    "library(\"methylKit\")\n",
    "library(\"GenomicRanges\")\n",
    "library(\"genomation\")"
   ]
  },
  {
   "cell_type": "markdown",
   "id": "97aabbdb-3070-435d-a424-d0bb42196e6a",
   "metadata": {},
   "source": [
    "### <span> Reading Methylation Call Files and Design Experiment</span>\n",
    "The sample files are collected in an R list object and then loaded into methylKit using the methRead function. methRead loads all of the methylation files into a methylRawList object and sample location, IDs, assembly, treatment, and context should be supplied in this function"
   ]
  },
  {
   "cell_type": "code",
   "execution_count": null,
   "id": "86802238-2889-4e39-998d-0998eb7263e1",
   "metadata": {},
   "outputs": [],
   "source": [
    "# download data files from storage bucket\n",
    "file.list=list(\"GSM5266860_CD_NP1.txt.gz\",\n",
    "                \"GSM5266861_CD_NP2.txt.gz\",\n",
    "                \"GSM5266862_CD_NP3.txt.gz\", \n",
    "                \"GSM5266863_CD_P1.txt.gz\", \n",
    "                \"GSM5266864_CD_P2.txt.gz\", \n",
    "                \"GSM5266865_CD_P3.txt.gz\", \n",
    "                \"GSM5266866_BN_NP1.txt.gz\", \n",
    "                \"GSM5266867_BN_NP2.txt.gz\",\n",
    "                \"GSM5266868_BN_NP3.txt.gz\", \n",
    "                \"GSM5266869_BN_P1.txt.gz\",\n",
    "                \"GSM5266870_BN_P2.txt.gz\",\n",
    "                \"GSM5266871_BN_P3.txt.gz\")\n",
    "\n",
    "for (f in file.list) {\n",
    "    system(paste0(\"aws s3 cp \",\"s3://nigms-sandbox/nosi-und/RRBS/\",f , \" . \"), intern=TRUE)\n",
    "}"
   ]
  },
  {
   "cell_type": "code",
   "execution_count": null,
   "id": "b72c5799-5a34-47cc-b01f-24ee7fab1fcf",
   "metadata": {},
   "outputs": [],
   "source": [
    "myobj=methRead(file.list,\n",
    "               sample.id=list(\"CD_NP1\",\"CD_NP2\",\"CD_NP3\",\"CD_P1\",\"CD_P2\",\"CD_P3\",\"BN_NP1\",\"BN_NP2\",\"BN_NP3\",\"BN_P1\",\"BN_P2\",\"BN_P3\"),\n",
    "               assembly=\"Rnor_6.0\",\n",
    "               treatment=c(0,0,0,0,0,0,1,1,1,1,1,1),\n",
    "               context=\"CpG\"\n",
    ")"
   ]
  },
  {
   "cell_type": "markdown",
   "id": "db5f3fcd-f60d-4d84-aae3-f70844bf3c1c",
   "metadata": {},
   "source": [
    "<div class=\"alert alert-block alert-success\">\n",
    "    <i class=\"fa fa-hand-paper-o\" aria-hidden=\"true\"></i>\n",
    "    <b>Note: </b>  If you've used Nextflow to produce your methylation coverage files and would like to use them for the down processing analysis instead of the test data provided enter your own files into the two previous code cells above with by copying them from the <b>bismark</b> subdirectory within your Nextflow outputs directory.\n",
    "</div>"
   ]
  },
  {
   "cell_type": "markdown",
   "id": "c958528b-e51e-49a9-9d62-5ff378165d89",
   "metadata": {},
   "source": [
    "### <span> Data Filtration and Exploratory Analysis </span>\n",
    "#### Descriptive Statistics\n",
    "Once the data has been collected into a single object, we now look at the basic statistics for each sample. Basic statistics can include the percentage methylation and the coverage. Percentage methylation histograms normally have peaks on both of the distribution's ends. Within a cell, cytosines are either methylated or unmethylated. Using this knowledge, we can determine if there is a similar pattern between many cells for locations with high methylation, low methylation, and intermediate methylation. Typically, there should be a higher number of locations with high methylation and low methylation, and a lower number of locations with intermediate methylation. Bisulfite sequencing does have a relatively high error rate and because of this, samples between 0% and 10% are typically classified as \"unmethylated\" while samples between 90% and 100% are classified as \"fully methylated\", though these thresholds are not fixed."
   ]
  },
  {
   "cell_type": "code",
   "execution_count": null,
   "id": "f0ec17c4-819f-44ec-9776-c22d4b78166a",
   "metadata": {},
   "outputs": [],
   "source": [
    "# Get a histogram of the methylation percentage per sample\n",
    "# Here for sample 2\n",
    "getMethylationStats(myobj[[2]],plot=TRUE,both.strands=FALSE)"
   ]
  },
  {
   "cell_type": "markdown",
   "id": "861df9be-2b38-4ae4-a21f-5d1cab64bea2",
   "metadata": {},
   "source": [
    "Experiments that are suffering from PCR duplication bias will have a secondary peak towards the right hand side of the coverage histogram."
   ]
  },
  {
   "cell_type": "code",
   "execution_count": null,
   "id": "2c95887c-37ad-4d02-a9a7-d679573aad39",
   "metadata": {},
   "outputs": [],
   "source": [
    "#Histogram of methylation coverage\n",
    "getCoverageStats(myobj[[2]],plot=TRUE,both.strands=FALSE)"
   ]
  },
  {
   "cell_type": "markdown",
   "id": "b12a7a43-cb20-4ffc-8aeb-475098315b1c",
   "metadata": {},
   "source": [
    "### Filter Step\n",
    "Filtering samples based on coverage can often be useful. Specifically, if samples have overamplification or PCR bias, it can be useful to discard bases that have a very high read coverage. Bases with a very low read coverage should also be discarded because they tend to produce statistics that are unreliable and unstable in the downstream analyses. The code shown below filters a methylRawList and discards bases that have covereage below 10 reads, which was already done when the files were read in. Additionally, the code below discards bases with more than 99.9th percentile coverage in each sample."
   ]
  },
  {
   "cell_type": "code",
   "execution_count": null,
   "id": "d5770278-0aaf-46f6-80a5-3237b8e46a50",
   "metadata": {},
   "outputs": [],
   "source": [
    "filtered.myobj=filterByCoverage(myobj,lo.count=10,lo.perc=NULL,\n",
    "                                      hi.count=NULL,hi.perc=99.9)"
   ]
  },
  {
   "cell_type": "markdown",
   "id": "0aa5d39a-cf2b-4990-a520-53e21808b8ad",
   "metadata": {},
   "source": [
    "### <span> Normalization </span>\n",
    "Basic normalization of the coverage values between samples can be performed using a scaling factor. This scaling factor is derived from differences in the median coverage distributions."
   ]
  },
  {
   "cell_type": "code",
   "execution_count": null,
   "id": "20014e56-6224-4666-85bb-bd4b1c01217a",
   "metadata": {},
   "outputs": [],
   "source": [
    "myobj.filt.norm <- normalizeCoverage(filtered.myobj, method = \"median\")"
   ]
  },
  {
   "cell_type": "markdown",
   "id": "d6653eb4-ec29-4d68-bd69-aae43950d73e",
   "metadata": {},
   "source": [
    "### Merging samples into a single table\n",
    "Before further analysis can be performed, bases that are covered by the reads need to be extracted for all samples. The unite() function merges all of the samples into one object covering the base-pair locations in all samples. Setting destrand=TRUE (the default is FALSE) will merge reads on both strands of a CpG dinucleotide. This provides better coverage, but only advised when looking at CpG methylation."
   ]
  },
  {
   "cell_type": "code",
   "execution_count": null,
   "id": "612dca8c-ea6c-4736-9183-c1434636b062",
   "metadata": {},
   "outputs": [],
   "source": [
    "## we use :: notation to make sure unite() function from only methylKit package is called\n",
    "meth=unite(myobj.filt.norm, destrand=FALSE)"
   ]
  },
  {
   "cell_type": "code",
   "execution_count": null,
   "id": "ce50e2b8-956c-4116-a9ba-d5126382b5ac",
   "metadata": {},
   "outputs": [],
   "source": [
    "# creates a methylBase object, where only CpGs covered with at least 1 sample per group will be returned\n",
    "meth.min=unite(myobj,min.per.group=1L)"
   ]
  },
  {
   "cell_type": "markdown",
   "id": "caf5f15d-4df2-44b4-b357-0e8482eed87e",
   "metadata": {},
   "source": [
    "### <span> Filtering CpGs </span>\n",
    "Many CpG sites with little to no variation among study subject are often present in high-throughput methylation data, which is not very informative for downstream analyses. Standard deviation filtering of methylation ratio values (equivalent to Beta values), is the most commonly used and simple method. This method has been shown to be consistent and robust for use in different real datasets and on most occasions will suffice."
   ]
  },
  {
   "cell_type": "code",
   "execution_count": null,
   "id": "1004e74f-1edd-4de0-94f5-64fd4a5c4dbc",
   "metadata": {},
   "outputs": [],
   "source": [
    "# get percent methylation matrix\n",
    "pm=percMethylation(meth) \n",
    "\n",
    "# calculate standard deviation of CpGs\n",
    "sds=matrixStats::rowSds(pm)\n",
    "\n",
    "# Visualize the distribution of the per-CpG standard deviation\n",
    "# to determine a suitable cutoff\n",
    "hist(sds, breaks = 100, col=\"cornflowerblue\", xlab=\"Std. dev. per CpG\")\n",
    "\n",
    "# keep only CpG with standard deviations larger than 2%\n",
    "meth <- meth[sds > 2]\n",
    "\n",
    "# Check the remaining number of CpGs\n",
    "nrow(meth)"
   ]
  },
  {
   "cell_type": "markdown",
   "id": "2f159ea5-b7d7-4913-ab4d-9ab49ed4ca24",
   "metadata": {},
   "source": [
    "C -> T mutations can be further removed because they do not represent true bisulfite-treatment-associated conversions. We can store mutation locations in a GRanges object and we can use the object to remove the overlapping CpGs with the mutations. To perform the overlap operation, we convert the methylKit object to a GRanges object and perform filtering using the %over% function. This results in a returned methylKit object."
   ]
  },
  {
   "cell_type": "code",
   "execution_count": null,
   "id": "c885aeda-cc40-4c7a-9a4d-9b6bcc0bed77",
   "metadata": {},
   "outputs": [],
   "source": [
    "library(GenomicRanges)\n",
    "# example SNP\n",
    "mut=GRanges(seqnames=c(\"chr21\",\"chr21\"),\n",
    "            ranges=IRanges(start=c(9853296, 9853326),\n",
    "                           end=c( 9853296,9853326)))\n",
    "\n",
    "# select CpGs that do not overlap with mutations\n",
    "sub.meth=meth[! as(meth,\"GRanges\") %over% mut,]\n",
    "nrow(meth)\n",
    "nrow(sub.meth)"
   ]
  },
  {
   "cell_type": "markdown",
   "id": "da34db55-7742-4bb5-8e96-1866e9245a7a",
   "metadata": {},
   "source": [
    "### <span> Data Structures and Outlier Detection </span>\n",
    "We can check the correlation between samples using getCorrelation. This function will plot scatter plots with Pearson correlation coefficients."
   ]
  },
  {
   "cell_type": "code",
   "execution_count": null,
   "id": "dfaffe07-8847-4d33-96c7-bdde55b4db8c",
   "metadata": {},
   "outputs": [],
   "source": [
    "getCorrelation(meth,plot=TRUE)"
   ]
  },
  {
   "cell_type": "markdown",
   "id": "30f7a30a-8a08-4da4-9da6-e6a417d2be6d",
   "metadata": {},
   "source": [
    "### <span> Clustering Analysis </span>\n",
    "The data structure can additionally be visualized in a dendrogram using hierarchical clustering of distance measures derived from each samples’ percentage methylation."
   ]
  },
  {
   "cell_type": "code",
   "execution_count": null,
   "id": "3238ad84-c358-47de-882c-82e94983630c",
   "metadata": {},
   "outputs": [],
   "source": [
    "clusterSamples(meth, dist=\"correlation\", method=\"ward.D2\", plot=TRUE)"
   ]
  },
  {
   "cell_type": "markdown",
   "id": "9c855550-c139-423e-8850-3aaf1e450688",
   "metadata": {},
   "source": [
    "### <span> Principal Component Analysis </span>\n",
    "We can also visualize the data through plotting the samples in a principal component space. Multidimensional data (i.e. we have as many dimensions in this data as there are CpG loci in meth) can be projected in into the PCA plot's 2- or 3- dimensional space, while maintaining as much variation as possible. In the PCA space, samples that are more alike will be clustered together, and with this plot we can identify the largest sources of variation in the data as well as if there are sample swaps or outlier samples."
   ]
  },
  {
   "cell_type": "code",
   "execution_count": null,
   "id": "35fb9215-b031-420a-b22b-4cff3e255d61",
   "metadata": {},
   "outputs": [],
   "source": [
    "pc=PCASamples(meth,obj.return = TRUE, scale=FALSE, screeplot = FALSE, comp=c(1,2), transpose=TRUE)\n",
    "summary(pc)"
   ]
  },
  {
   "cell_type": "markdown",
   "id": "6b275030-1b44-4c71-8bca-0617273c4c02",
   "metadata": {},
   "source": [
    "### <span> Differential Methylation </span>\n",
    "### Single CpG Sites\n",
    "Once we have confirmed that the basic statistics and data structures of the samples are reasonable, we can proceed to differential methylation. Differential DNA methylation is usually calculated by comparing the proportion of methylated Cs in a test sample relative to a control. The Fisher's Exact Test and similar methods can be applied when there are no replicates for the test and control cases. This can allow us to make simple comparisons between the pairs of samples such as the test and control. When replicates are present, regression based methods are typically used to model the methylation levels relative to the sample groups and variation between the replicates. Regression methods also have another additional advantage over the use of the Fisher's Exact test in that they all for the inclusion of sample specific covariates (categorical or continuous) as well as the ability to adjust for confounding variables. \n",
    "\n",
    "There are three options provided to get the differential methylation results namely Fisher’s Exact Test, Betabinomial Distribution Based Test, and Logistic Regression Based Test as you will see below. Only the Fisher’s exact test and the Logistic Regression based test will be explored. If you plan to use Betabinomial Distribution Based Test or compare the results of all three types of tests, the code can be uncommented. "
   ]
  },
  {
   "cell_type": "markdown",
   "id": "8746ae4b-50ef-440e-8793-c8d95d2ba357",
   "metadata": {},
   "source": [
    "### Fisher’s Exact Test"
   ]
  },
  {
   "cell_type": "code",
   "execution_count": null,
   "id": "0a2fb51c-c36e-41b0-abfe-4607b113a352",
   "metadata": {},
   "outputs": [],
   "source": [
    "pooled.meth=pool(meth,sample.ids=c(\"test\",\"control\"))\n",
    "dm.pooledf=calculateDiffMeth(pooled.meth)"
   ]
  },
  {
   "cell_type": "code",
   "execution_count": null,
   "id": "2c9c8b94-c9e2-424f-9c8e-47c6cdac2b6a",
   "metadata": {},
   "outputs": [],
   "source": [
    "# get differentially methylated bases/regions with specific cutoffs\n",
    "all.diff=getMethylDiff(dm.pooledf,difference=25,qvalue=0.01,type=\"all\")\n",
    "\n",
    "# get hyper-methylated\n",
    "hyper=getMethylDiff(dm.pooledf,difference=25,qvalue=0.01,type=\"hyper\")\n",
    "\n",
    "# get hypo-methylated\n",
    "hypo=getMethylDiff(dm.pooledf,difference=25,qvalue=0.01,type=\"hypo\")\n",
    "\n",
    "#using [ ] notation\n",
    "hyper2=dm.pooledf[dm.pooledf$qvalue < 0.01 & dm.pooledf$meth.diff > 25,]"
   ]
  },
  {
   "cell_type": "code",
   "execution_count": null,
   "id": "42faa1ac-8dae-49e6-a251-ecb33f022a0c",
   "metadata": {},
   "outputs": [],
   "source": [
    "head(dm.pooledf)\n",
    "nrow(dm.pooledf)"
   ]
  },
  {
   "cell_type": "code",
   "execution_count": null,
   "id": "45743138-d8e5-4c4a-9303-1213b31929f8",
   "metadata": {},
   "outputs": [],
   "source": [
    "#Check the results\n",
    "head(hyper)\n",
    "nrow(hyper)\n",
    "head(hypo)\n",
    "nrow(hypo)"
   ]
  },
  {
   "cell_type": "markdown",
   "id": "9fb7afee-deb5-4c0c-a9c0-43a2a4bdfdaf",
   "metadata": {},
   "source": [
    "### Optional: Betabinomial-Distribution-Based Tests\n",
    "The beta-binominal model for calculating the differential methylation can be accessed through the code below. This accounts for both sampling and epigenetic variablity, and is useful for better modeling of the variance. This model follows the binominal distribution of the number of reads which is similar to how logistic regression works. However, the beta distribution can have varying methylation proportions across samples.\n",
    "\n",
    "If you plan to use Betabinomial Distribution Based Test or compare the results of all three types of tests, the code can be uncommented. "
   ]
  },
  {
   "cell_type": "code",
   "execution_count": null,
   "id": "154d6d74-1ef6-4769-9dfd-de4513faf365",
   "metadata": {},
   "outputs": [],
   "source": [
    "#dm.dss=calculateDiffMethDSS(meth)"
   ]
  },
  {
   "cell_type": "markdown",
   "id": "427de19a-4068-4adc-b6e1-28edf4162662",
   "metadata": {},
   "source": [
    "### Logistic Regression Based Tests\n",
    "The following code tests for the differential methylation of our dataset; i.e comparing methylation levels between two groups. If the data has replicates, logistic regression should be used."
   ]
  },
  {
   "cell_type": "code",
   "execution_count": null,
   "id": "a1526c96-f139-4b17-9bcf-2133b37a028a",
   "metadata": {},
   "outputs": [],
   "source": [
    "# Test for differential methylation... This might take a few minutes.\n",
    "dm.lr=calculateDiffMeth(meth,overdispersion = \"MN\",test =\"Chisq\")"
   ]
  },
  {
   "cell_type": "code",
   "execution_count": null,
   "id": "bf36b322-8b1d-4891-883e-c19d904a9ae7",
   "metadata": {},
   "outputs": [],
   "source": [
    "# Simple volcano plot to get an overview of differential methylation\n",
    "plot(dm.lr$meth.diff, -log10(dm.lr$qvalue))\n",
    "abline(v=0)"
   ]
  },
  {
   "cell_type": "markdown",
   "id": "9bfdb5d8-2ced-480a-86dc-c6c7fe9f7282",
   "metadata": {},
   "source": [
    "Next, we can visualize the number of hyper- and hypomethylation events per chromosome, as a percent of the sites with minimum coverage and minimal differential methylation. By default this is a 25% change in methylation and all samples with 10X coverage."
   ]
  },
  {
   "cell_type": "markdown",
   "id": "24a854bb-c1bd-4786-b24e-37ae45ce540f",
   "metadata": {},
   "source": [
    "### <span> Explore Results </span>"
   ]
  },
  {
   "cell_type": "code",
   "execution_count": null,
   "id": "f9b8eeec-53ce-42ac-b30c-5895f0d57d32",
   "metadata": {},
   "outputs": [],
   "source": [
    "# Overview of percentage hyper and hypo CpGs per chromosome.\n",
    "diffMethPerChr(dm.lr)"
   ]
  },
  {
   "cell_type": "markdown",
   "id": "fdb12379-2a6c-40a7-812b-5c2c67d652c2",
   "metadata": {},
   "source": [
    "After q-value calculation, we can select the differentially methylated regions/bases based on q-value and percent methylation difference cutoffs of Treatment versus Control. The following bits of code selects the bases that have q-value < 0.01 and percent methylation difference larger than 25%. If you specify type=\"hyper\" or type=\"hypo\" options, you will extract the hyper-methylated or hypo-methylated regions/bases.\n",
    "\n",
    "If necessary, covariates (such as age, sex, smoking status, …) can be included in the regression analysis. The function will then try to separate the influence of the covariates from the treatment effect via the logistic regression model."
   ]
  },
  {
   "cell_type": "code",
   "execution_count": null,
   "id": "afacf59d-3be2-4e97-99fe-234ad16e0993",
   "metadata": {},
   "outputs": [],
   "source": [
    "# get hyper methylated bases and order by qvalue\n",
    "myDiff25p.hyper <- getMethylDiff(dm.lr,\n",
    "                              difference=25,\n",
    "                              qvalue=0.01,\n",
    "                              type=\"hyper\")\n",
    "myDiff25p.hyper <- myDiff25p.hyper[order(myDiff25p.hyper$qvalue),]\n",
    "\n",
    "# get hypo methylated bases and order by qvalue\n",
    "myDiff25p.hypo <- getMethylDiff(dm.lr,\n",
    "                             difference=25,\n",
    "                             qvalue=0.01,\n",
    "                             type=\"hypo\")\n",
    "myDiff25p.hypo <- myDiff25p.hypo[order(myDiff25p.hypo$qvalue),]\n",
    "\n",
    "# get all differentially methylated bases and order by qvalue\n",
    "myDiff25p <- getMethylDiff(dm.lr,\n",
    "                        difference=25,\n",
    "                        qvalue=0.01)\n",
    "\n",
    "#get all differentially methylated bases with pvalue < 0.05\n",
    "myDiff25p <- getMethylDiff(dm.lr,\n",
    "                        difference=25,\n",
    "                        qvalue=0.01)\n",
    "\n",
    "#Order by qvalue\n",
    "myDiff25p <- myDiff25p[order(myDiff25p$qvalue),]\n"
   ]
  },
  {
   "cell_type": "code",
   "execution_count": null,
   "id": "629b56ac-c36e-4555-8eda-6a1f2a847b84",
   "metadata": {},
   "outputs": [],
   "source": [
    "#Explore the results\n",
    "head(dm.lr)\n",
    "nrow(dm.lr)\n",
    "head(myDiff25p.hyper)\n",
    "nrow(myDiff25p.hyper)\n",
    "head(myDiff25p.hypo)\n",
    "nrow(myDiff25p.hypo)\n",
    "head(myDiff25p)\n",
    "nrow(myDiff25p)"
   ]
  },
  {
   "cell_type": "markdown",
   "id": "6fb42767-5bb4-44a6-854a-d3d6090e752e",
   "metadata": {},
   "source": [
    "### <span> CpG Annotation </span>\n",
    "Annotation of the differentially methylated regions and bases using the genomation package can help with biological interpretation of the data. A common annotation task looks at where the CpGs of interest are relative to genes, gene parts, and regulatory regions. The code below shows an example of reading the gene annotation information from a BED file (Browser Extensible Data - file format containing genome coordinates and associated annotations), and the following annotation of the differentially methylated regions using genomation functions. This annotation file can be downloaded from the UCSC TableBrowser."
   ]
  },
  {
   "cell_type": "code",
   "execution_count": null,
   "id": "7d60de64-2fd1-46d8-939c-133d96999512",
   "metadata": {},
   "outputs": [],
   "source": [
    "# download data files from storage bucket\n",
    "system(\"aws s3 cp s3://nigms-sandbox/nosi-und/RRBS/rn6_ensGene.bed .\", intern=TRUE)\n"
   ]
  },
  {
   "cell_type": "code",
   "execution_count": null,
   "id": "caa30161-015b-404d-8a87-c882f0677fe7",
   "metadata": {},
   "outputs": [],
   "source": [
    "# First load the annotation data; i.e the coordinates of promoters, TSS, intron and exons\n",
    "gene.obj <- readTranscriptFeatures(\"rn6_ensGene.bed\")"
   ]
  },
  {
   "cell_type": "code",
   "execution_count": null,
   "id": "3f9fb368-e05d-40ea-b76c-0592914828e2",
   "metadata": {},
   "outputs": [],
   "source": [
    "head(gene.obj)"
   ]
  },
  {
   "cell_type": "markdown",
   "id": "062b9b3e-e6e7-4ff6-b401-136f1df96f75",
   "metadata": {},
   "source": [
    "Annotate the results from the differentially methylated calls calculated. Some data wrangling is required to make the data compatible with the annotateWithGeneParts function. Here the chr is added to annotate the chromosome number and then the data is converted into a GRanger object."
   ]
  },
  {
   "cell_type": "code",
   "execution_count": null,
   "id": "c2d55ccd-8bef-4a40-b8f9-fa75c54eaa65",
   "metadata": {},
   "outputs": [],
   "source": [
    "anot.diff <- myDiff25p\n",
    "anot.diff$chr <- sapply(anot.diff$chr, function(x) paste('chr', x, sep = \"\"))\n",
    "head(anot.diff)\n",
    "class(anot.diff)\n",
    "anot.diff <- as(anot.diff,\"GRanges\")"
   ]
  },
  {
   "cell_type": "markdown",
   "id": "0158f96e-150c-4bb2-90d5-537ea8e27fd2",
   "metadata": {},
   "source": [
    "The final data (anot.diff) is then used in the next step for annotation using annotateWithGeneParts function."
   ]
  },
  {
   "cell_type": "code",
   "execution_count": null,
   "id": "d4763449-18ae-4ab0-b816-390a1e0f04ee",
   "metadata": {},
   "outputs": [],
   "source": [
    "myDiff25p.all.anot <- annotateWithGeneParts(anot.diff, gene.obj)"
   ]
  },
  {
   "cell_type": "code",
   "execution_count": null,
   "id": "ed94ae05-3ff3-4680-9f42-a2fc5a99c25e",
   "metadata": {},
   "outputs": [],
   "source": [
    "# Summary of target set annotation\n",
    "myDiff25p.all.anot"
   ]
  },
  {
   "cell_type": "code",
   "execution_count": null,
   "id": "7fce9e3f-5660-4985-95d8-d0da5d7b047e",
   "metadata": {},
   "outputs": [],
   "source": [
    "# View the distance to the nearest Transcription Start Site; the target.row column in the output indicates the row number in the initial target set\n",
    "dist_tss <- getAssociationWithTSS(myDiff25p.all.anot)\n",
    "head(dist_tss)\n",
    "\n",
    "# See whether the differentially methylated CpGs are within promoters,introns or exons; the order is the same as the target set\n",
    "head(getMembers(myDiff25p.all.anot))\n",
    "\n",
    "# This can also be summarized for all differentially methylated CpGs\n",
    "plotTargetAnnotation(myDiff25p.all.anot, main = \"Differential Methylation Annotation\")"
   ]
  },
  {
   "cell_type": "markdown",
   "id": "20fb0258-5560-44b5-9059-c9294186ca41",
   "metadata": {},
   "source": [
    "### <span> (Optional) Make a dataframe with TSS, values and qvalues for future analysis. </span>"
   ]
  },
  {
   "cell_type": "code",
   "execution_count": null,
   "id": "5a03f970-1162-430b-9766-69f9acea3591",
   "metadata": {},
   "outputs": [],
   "source": [
    "bs_results <- cbind(dist_tss, qvalue = anot.diff$qvalue, pvalue = anot.diff$pvalue)"
   ]
  },
  {
   "cell_type": "markdown",
   "id": "41b9e5f7-121a-41bc-9c1e-402729bdbc81",
   "metadata": {},
   "source": [
    "### <span> (Optional) Write the Results to a Text File. </span>"
   ]
  },
  {
   "cell_type": "code",
   "execution_count": null,
   "id": "7a16cebf-0d6f-4679-8adc-28f64260dd08",
   "metadata": {},
   "outputs": [],
   "source": [
    "#Write results to a text file. \n",
    "write.table(bs_results, \"bs_results.txt\", sep = \"\\t\")"
   ]
  },
  {
   "cell_type": "markdown",
   "id": "be6d1241",
   "metadata": {},
   "source": [
    "## **Conclusion**\n",
    "\n",
    "This module provided a comprehensive overview of DNA methylation analysis, starting with an introduction to epigenetics and DNA methylation mechanisms. We explored the practical aspects of differential methylation analysis, including data acquisition from public sources or through the optional nf-core/methylseq pipeline, quality control, normalization, and statistical testing using the methylKit R package. The module emphasized data interpretation through various visualization techniques and biological annotation using the genomation package, enabling the identification of differentially methylated regions and their genomic context. By working through this notebook, learners have gained valuable skills in R and Nextflow for analyzing DNA methylation data and can now apply these techniques to explore the role of epigenetics in various biological processes and diseases."
   ]
  },
  {
   "cell_type": "markdown",
   "id": "094b9e02",
   "metadata": {},
   "source": [
    "## **Clean up**\n",
    "\n",
    "Remember stop your notebook instance if you are finished."
   ]
  },
  {
   "cell_type": "markdown",
   "id": "b75a33f0-dcec-4c86-8bc8-436f15f22498",
   "metadata": {},
   "source": [
    "<hr style=\"border:2px solid Orange\">"
   ]
  },
  {
   "cell_type": "markdown",
   "id": "8ae72409-7b74-484f-ab2a-84f169d1cdd0",
   "metadata": {},
   "source": [
    "### <span> References and useful links </span>"
   ]
  },
  {
   "cell_type": "markdown",
   "id": "5c960b60-8eee-47df-9eb7-144e31aed77e",
   "metadata": {},
   "source": [
    "- #### https://www.bioconductor.org/packages/release/bioc/vignettes/methylKit/inst/doc/methylKit.html#4_Annotating_differentially_methylated_bases_or_regions\n",
    "- #### https://nbis-workshop-epigenomics.readthedocs.io/en/stable/content/tutorials/methylationSeq/Seq_Tutorial.html\n",
    "- #### https://compgenomr.github.io/book/bsseq.html"
   ]
  }
 ],
 "metadata": {
  "kernelspec": {
   "display_name": "R-RRBS",
   "language": "R",
   "name": "r-rrbs"
  },
  "language_info": {
   "codemirror_mode": "r",
   "file_extension": ".r",
   "mimetype": "text/x-r-source",
   "name": "R",
   "pygments_lexer": "r",
   "version": "4.2.2"
  }
 },
 "nbformat": 4,
 "nbformat_minor": 5
}
