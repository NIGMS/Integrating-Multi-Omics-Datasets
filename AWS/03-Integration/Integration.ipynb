{
 "cells": [
  {
   "cell_type": "markdown",
   "id": "636ad27c-6ec1-4e64-a473-1ceade534303",
   "metadata": {},
   "source": [
    "# <span> Module 3: Integration of Epigenetic and Transcriptomic </span>\n",
    "\n",
    "Please watch the [this video](https://youtu.be/VvQbtGXo0rg) for additional insights into the steps taken in this submodule. "
   ]
  },
  {
   "cell_type": "markdown",
   "id": "5192b850-7c54-44f8-9fcd-ecb6d91f6b4f",
   "metadata": {},
   "source": [
    "## **Introduction**\n",
    "\n",
    "Integration involving bisulfite sequencing has many important applications. In one study, DNA methylation was used to profile primary breast tumors into several subgroups, adding another potential dimension to breast cancer subtype or profile classification. There have been many efforts within breast cancer research to develop an understanding of breast cancer subtypes or profiles to improve treatment outcomes. However, many patients with the same subtype or profile can still respond differently to treatments. However, using multiomics or by integrating data from one platform to another, we can explore the possibility of creating improved and more accurate breast cancer sub-types. "
   ]
  },
  {
   "cell_type": "markdown",
   "id": "fa2ee1c0",
   "metadata": {},
   "source": [
    "## **Learning Objectives**\n",
    "\n",
    "* **Understanding Correlation-Based Integration:** Students learn how correlation analysis can reveal relationships between DNA methylation patterns and gene expression levels. This is illustrated using case studies focusing on breast cancer subtypes and the use of hierarchical clustering (pvclust package in R) to identify methylation clusters related to different cancer profiles.\n",
    "\n",
    "* **Performing Correlation-Based Integration using R:**  The notebook provides hands-on practice in using the `pvclust` R package to perform hierarchical clustering on gene expression data, visualizing the results, and interpreting the resulting clusters.\n",
    "\n",
    "* **Mastering Integrative Analysis with the MethReg Package:** The notebook introduces the MethReg R package, demonstrating its use for correlation-based integrative analysis, specifically focusing on analyzing individual CpGs and differentially methylated regions (DMRs).  Students learn how to create and interpret interaction and stratified models to assess the regulatory potential of CpGs or DMRs on gene expression.\n",
    "\n",
    "* **Integrating Sequencing Data (RNA-Seq and RRBS):** The notebook walks through the process of integrating RNA-Seq and Reduced Representation Bisulfite Sequencing (RRBS) data. This includes data pre-processing, normalization, annotation, and integration steps using R packages (`methylKit`, `DESeq2`, etc.). Students learn to prepare the data for downstream analysis.\n",
    "\n",
    "* **Visualizing Integrative Analysis Results:**  The notebook emphasizes data visualization techniques using `ggplot2` and other R packages to represent the integrated data and its interpretation. This includes scatter plots, histograms, and boxplots showcasing the relationships between methylation and expression.\n",
    "\n",
    "* **Conducting Functional and Pathway Enrichment Analyses:** Students learn to perform Gene Set Enrichment Analysis (GSEA) using the `clusterProfiler` R package, integrating both RNA-Seq and DNA methylation data to identify enriched pathways. The notebook demonstrates how to interpret GSEA results using various visualization methods (dot plots, enrichment maps, category netplots, ridgeplots, GSEA plots).  It also covers KEGG pathway enrichment analysis and visualization.\n",
    "\n",
    "* **Performing Motif Search:**  The notebook introduces motif analysis as a method to explore the regulatory regions and transcription factor binding sites involved in gene regulation. Students learn how to use the `motifStack` R package to visualize motifs and interpret their potential biological roles."
   ]
  },
  {
   "cell_type": "markdown",
   "id": "ff239ddc",
   "metadata": {},
   "source": [
    "## Prerequisites\n",
    "\n",
    "**Software and Packages:**\n",
    "\n",
    "* **R Packages:** The notebook utilizes a large number of R packages.  These must be installed and loaded. The notebook includes installation commands. The key packages include: \n",
    "`pvclust`, `MethReg`, `BSgenome`, `clusterProfiler`, `pathview`, `enrichplot`, `Repitools`, `RNAAgeCalc`,  \n",
    "`motifmatchr`, `TFBSTools`, `JASPAR2022`, `methylKit`, `GenomicRanges`, `genomation`, `DESeq2`, `tidyverse`,  \n",
    "`ggnewscale`, `ggridges`, `europepmc`, `ggseqlogo`, `motifStack`, `JASPAR2020`, `ade4`, `DOSE`, `ggforce`, `ggpubr`.\n",
    "\n",
    "**Amazon S3 API:**  The notebook extensively uses `aws s3` commands, indicating it needs access to Amazon S3 for downloading input file (rn6_ensGtp.csv)."
   ]
  },
  {
   "cell_type": "markdown",
   "id": "293c39b1",
   "metadata": {},
   "source": [
    "## **Get Started**\n",
    "\n",
    "### Contents\n",
    "1. [Correlation Based Integration](#1.-correlation-based-integration)\n",
    "2. [Functional and Pathway Relationships](#2.-functional-and-pathway-relationships)\n",
    "3. [Motif Search](#3.-motif-search-using-example-data-set)"
   ]
  },
  {
   "cell_type": "markdown",
   "id": "d26c15bf-a1b8-4a01-a1d1-8911edf41bd7",
   "metadata": {},
   "source": [
    "### **1. Correlation Based Integration**\n",
    "\n",
    "### Case Study 1 \n",
    "\n",
    "There are many important applications for the involvement of bisulfite sequencing in integration. In one example study, information about DNA methylation was used to profile primary breast tumors into several subgroups. This added another potential dimension to breast cancer subtype or profile classification, furthering efforts within the breast cancer research community to develop an understanding of discrete breast cancer subtypes or profiles to improve treatment outcomes. \n",
    "\n",
    "In the study described below, expression and bisulfite sequencing’s DNA methylation information were integrated together to better understand the breast cancer subtype profiles of a set of patients. Methylation and expression data was found for each of the patients in this study and was compared between patients with ESR1 positive and ESR1 negative statuses. ESR1 is an emerging biomarker for breast cancer subtypes. It was found that the methylation and expression data for the different groups were anti-correlated. Methylation data underwent unsupervised clustering to yield six methylation clusters. These six methylation clusters were compared with the different breast cancer subtypes and different groupings were found. Together, the integration of the expression and bisulfite data found previously unrecognized breast cancer subtype groups which helped to better understand the uniqueness of breast cancer subtypes and profiles. \n",
    "\n",
    "To study the DNA methylation profiles of different breast cancer tissues, steps in the experimental outline shown below were taken.\n",
    "\n",
    "<figure>\n",
    "<img src=\"../../images/methylation-experiment.png\" width=\"700\" height=\"500\">\n",
    "<figcaption align=\"center\"> <b> Fig. 1: Experimental outline for DNA methylation analysis of 248 breast tissues with the Infinium Methylation Assay. [1] </b> </figcaption>\n",
    "</figure>\n",
    "    \n",
    "Hierarchical clustering between different breast cancer samples based on methylation percentage in this study found that there were two major clusters as seen in A) of the figure below. From this, two distinct clusters were identified. B) of the figure below shows that members of clusters 1 and 2 have distinct differences in estrogen receptor expression and tumor grade. Estrogen receptor(ER) expression is more prevalent in cluster 2 and in cluster 1, the HER2 expression and grade can be seen as having a greater presence. C) and D) show a difference in the methylation (red) and expression (blue) between the two clusters for both ESR1 positive and ESR1 negative modules, highlighting a difference in the profiles between the two clusters. \n",
    "\n",
    "<figure>\n",
    "<img src=\"../../images/methylation-hclust.png\" width=\"600\" height=\"400\">\n",
    "<figcaption align=\"center\"> <b> Fig. 2: DNA methylation profiling identifies two main breast tumour categories with different ER status [1] </b> </figcaption>\n",
    "</figure>\n",
    "    \n",
    "Unsupervised clustering of the main set of breast cancer samples in this study was performed using the pvclust package in R as shown in A). From this, six methylation clusters were identified based on the approximately unbiased and bootstrap probability p-values given by pvclust from its multiscale bootstrap resampling which tests the uncertainty in hierarchical clustering analysis. For these six clusters breast cancer subtypes including basal-like, HER2, Luminal A, and Luminal B are shown. B) shows a comparison of the different methylation groups assigned by unsupervised clustering and the 86 CpG-classifier. C) further breaks down the subtypes and demographic characteristics behind the 86 CpG-classifier. Overall, validation samples tested in this figure show a strong correlation with one of the six methylation groups. \n",
    "\n",
    "<figure>\n",
    "<img src=\"../../images/methylation-pvclust.png\" width=\"600\" height=\"400\">\n",
    "<figcaption align=\"center\"> <b> Fig. 3: Complexity and heterogeneity of breast cancers as revealed by DNA methylation: a meaningful basis for refining breast tumour taxonomy. [1] </b> </figcaption>\n",
    "</figure>\n",
    "\n",
    "### <span> Clustering Example using pvclust </span>"
   ]
  },
  {
   "cell_type": "code",
   "execution_count": null,
   "id": "3425c469-290d-4972-a0e3-ad0ea3d0d0cd",
   "metadata": {},
   "outputs": [],
   "source": [
    "install.packages(\"pvclust\")"
   ]
  },
  {
   "cell_type": "code",
   "execution_count": null,
   "id": "a24535f4-2372-4264-a67a-e2d2786ab2be",
   "metadata": {},
   "outputs": [],
   "source": [
    "# Example lung data: DNA Microarray data of 73 lung tissues including 67 lung tumors. \n",
    "# There are 916 observations of genes for each lung tissue\n",
    "library(pvclust)\n",
    "data(lung)\n",
    "head(lung)"
   ]
  },
  {
   "cell_type": "code",
   "execution_count": null,
   "id": "82dd72f9-bb15-4b93-8c5c-7cd71823db64",
   "metadata": {},
   "outputs": [],
   "source": [
    "#This will take a couple of minutes\n",
    "options(repr.plot.width=16, repr.plot.height=9)\n",
    "result <- pvclust(lung, method.dist=\"cor\", method.hclust=\"average\", nboot=1000, parallel=TRUE)\n",
    "plot(result)\n",
    "pvrect(result, alpha=0.95)"
   ]
  },
  {
   "cell_type": "markdown",
   "id": "8cd20ed9-034b-40d7-9ee4-ee986080aeae",
   "metadata": {},
   "source": [
    "**The plot above shows the hierarchical clustering of the example data included in pvclust.**"
   ]
  },
  {
   "cell_type": "markdown",
   "id": "73b9783a-448c-4b08-9223-f109809eea86",
   "metadata": {},
   "source": [
    "The DNA methylation profiles found in this study also reflected cell-type composition of the tumor microenvironment as seen in the figure below. C) shows the differences in lymphocyte infiltration with both stromal and intratumoral infiltration present in the center image. \n",
    "\n",
    "<figure>\n",
    "<img src=\"../../images/methylation-celltype.png\" width=\"600\" height=\"400\">\n",
    "<figcaption align=\"center\"> <b> Fig. 4: DNA methylation profiles reflect the cell-type composition of the tumour microenvironment. [1] </b> </figcaption>\n",
    "</figure>\n",
    "\n",
    "<div class=\"alert alert-block alert-warning\">\n",
    "    <i class=\"fa fa-pencil\" aria-hidden=\"true\"></i>\n",
    "    <b>[1] Reference:</b> Dedeurwaerder, S., Desmedt, C., Calonne, E., Singhal, S. K., Haibe‐Kains, B., Defrance, M., ... & Fuks, F. (2011). DNA methylation profiling reveals a predominant immune component in breast cancers. EMBO molecular medicine, 3(12), 726-741. \n",
    "</div>"
   ]
  },
  {
   "cell_type": "markdown",
   "id": "45ce6a5d-beba-45e8-be5f-d668607f0f1a",
   "metadata": {},
   "source": [
    "### Case Study 2\n",
    "DNA methylation, histone modifications, and RNA-mediated silencing are examples of epigenetic modifications, which are heritably stable changes. A shared biological foundation for a number of significant human disorders, including breast cancer, is aberrant DNA methylation. Global patterns of gene expression are significantly impacted by changes in DNA methylation. A relationship between DNA methylation and gene expression that is more dynamic and nuanced than previously thought is beginning to emerge. Here, we present a comprehensive analysis of DNA methylation in conjunction with the characteristics of gene expression data and discuss the unique features of low-level and high-level studies of DNA methylation data.\n",
    "\n",
    "The major goals of this article are to describe the specifics of low-level and high-level analyses of DNA methylation data and to give an in-depth analysis of DNA methylation in comparison with gene expression data features. High-level analysis is concerned with demonstrating the application of the widely used class comparison, class prediction, and class discovery methods to DNA methylation data, whereas low-level analysis refers to the preprocessing of methylation data, i.e., normalization, transformation, and filtering.\n",
    "\n",
    "<figure>\n",
    "<img src=\"../../images/methylation-towards.jpeg\" width=\"600\" height=\"400\">\n",
    "<figcaption align=\"center\"> <b> Fig. 5: Association between DNA methylation and gene expression. [2] </b> </figcaption>\n",
    "</figure>\n",
    "    \n",
    "<div class=\"alert alert-block alert-warning\">\n",
    "    <i class=\"fa fa-pencil\" aria-hidden=\"true\"></i>\n",
    "    <b>[2] Reference:</b> Singhal, S. K., Usmani, N., Michiels, S., Metzger-Filho, O., Saini, K. S., Kovalchuk, O., & Parliament, M. (2016). Towards understanding the breast cancer epigenome: a comparison of genome-wide DNA methylation and gene expression data. Oncotarget, 7(3), 3002. \n",
    "</div>\n",
    "\n",
    "Here, we calculated the average gene expression across all of Series 1's samples in order to compare the levels of expression and methylation in the entire genomic region. Based on the average gene expression, all probes were divided into three groups, called low, medium, and high expression, for which the average gene expression was less than the first quartile, between the first and third quartile, and greater than the third quartile, respectively. The figure shows that the majority of the CpGs in the genes with low expression are hyper-methylated, whereas the majority of the CpGs in the genes with high expression are hypo methylated. As a result, we may say that inside the promoter region, methylation levels and gene expression are typically inversely associated. Hypermethylation indicates increased intensity in the tumor, and then hypomethylation is an indication of decreased intensity in the tumor, and no change means no substantial differences in intensity. A scatter plot showing the mean methylation levels in relation to distance from the transcription start site for each gene expression tertile. The smoothed curve is depicted by the red line. Boxplots are used to display the distribution of average methylation values and data across the CpGs in relation to their distance from the transcription start site.\n"
   ]
  },
  {
   "cell_type": "markdown",
   "id": "20b31652-a555-4afc-b40a-5fb6842263d6",
   "metadata": {},
   "source": [
    "### <span> Correlation Integrative Analysis using MethReg package. </span>\n",
    "This sections gives an example of how to use \n",
    "\n",
    "\n",
    "<div class=\"alert alert-block alert-danger\">\n",
    "    <i class=\"fa fa-exclamation-circle\" aria-hidden=\"true\"></i>\n",
    "    <b>Alert:</b> If the clusterProfiler package does not install, please follow the following steps: <br>\n",
    "Open terminal using New launcher (+ button in blue on the top left corner under File and Edit dropdown) <br>\n",
    "Open R with admin rights using command <br> > sudo R <br>\n",
    "Install clusterProfiler <br>\n",
    "> BiocManager::install(\"clusterProfiler\")\n",
    "    \n",
    "</div>\n",
    "\n",
    "### <span> Required Package Installation </span>"
   ]
  },
  {
   "cell_type": "code",
   "execution_count": null,
   "id": "e4826e94-ee72-44e2-b5ab-44027e12a9dd",
   "metadata": {},
   "outputs": [],
   "source": [
    "# System commands to download some linux libraries that are required to install the following packages\n",
    "system('sudo apt-get install gsl-bin libgsl-dev -y',intern=TRUE)\n",
    "system('sudo apt-get install libnetcdf-dev -y',intern=TRUE)"
   ]
  },
  {
   "cell_type": "code",
   "execution_count": null,
   "id": "4033cb93-b7b2-4282-9ac0-e61450d002a3",
   "metadata": {},
   "outputs": [],
   "source": [
    "# Intall r-base packages\n",
    "packages <- c(\"ggnewscale\", \"ggridges\", \"europepmc\", \"ggseqlogo\")\n",
    "\n",
    "# Install packages not yet installed\n",
    "installed_packages <- packages %in% rownames(installed.packages())\n",
    "if (any(installed_packages == FALSE)) {\n",
    "  install.packages(packages[!installed_packages])\n",
    "}"
   ]
  },
  {
   "cell_type": "code",
   "execution_count": null,
   "id": "a7392d67-9821-4ec2-ae13-92c521ac8c0c",
   "metadata": {},
   "outputs": [],
   "source": [
    "# Install BiocManager if not already installed. This can take up to 5 min.\n",
    "if (!require(\"BiocManager\", quietly = TRUE))\n",
    "  install.packages(\"BiocManager\")\n",
    "\n",
    "## Install Bioconductor packages.\n",
    "packages <- c(\"MethReg\", \"BSgenome\",\"clusterProfiler\", \"pathview\", \"enrichplot\", \"Repitools\", \"RNAAgeCalc\")\n",
    "\n",
    "# Install packages not yet installed\n",
    "installed_packages <- packages %in% rownames(installed.packages())\n",
    "if (any(installed_packages == FALSE)) {\n",
    "  BiocManager::install(packages[!installed_packages])\n",
    "}"
   ]
  },
  {
   "cell_type": "code",
   "execution_count": null,
   "id": "c8515bec-2851-483c-a8f7-ab39ad391def",
   "metadata": {},
   "outputs": [],
   "source": [
    "if (!require(\"BiocManager\", quietly = TRUE))\n",
    "  install.packages(\"BiocManager\")\n",
    "\n",
    "packages <- c(\"motifmatchr\", \"TFBSTools\",\"JASPAR2022\", \"BSgenome.Hsapiens.UCSC.hg38\")\n",
    "\n",
    "installed_packages <- packages %in% rownames(installed.packages())\n",
    "if (any(installed_packages == FALSE)) {\n",
    "  BiocManager::install(packages[!installed_packages])\n",
    "}"
   ]
  },
  {
   "cell_type": "markdown",
   "id": "a05a2caa-b27a-487e-9ce9-79de93cc197a",
   "metadata": {},
   "source": [
    "### <span> Analysis for Individual CpGs data </span>"
   ]
  },
  {
   "cell_type": "code",
   "execution_count": null,
   "id": "16dd1f73-4d9e-4d2a-bbb3-4bf604a6e0e4",
   "metadata": {},
   "outputs": [],
   "source": [
    "library(MethReg)\n",
    "library(BSgenome)"
   ]
  },
  {
   "cell_type": "code",
   "execution_count": null,
   "id": "a778ee56-5919-4b7b-bf2e-5492ef60bc1b",
   "metadata": {},
   "outputs": [],
   "source": [
    "# TCGA-COAD DNA methylation matrix (beta-values) for 38 samples (only chr21) \n",
    "# Retrieved from GDC(Genomic Data Commons) using TCGAbiolinks inluded in the MethReg package\n",
    "data(\"dna.met.chr21\")\n",
    "head(dna.met.chr21)"
   ]
  },
  {
   "cell_type": "code",
   "execution_count": null,
   "id": "fe5bf471-ad58-455b-9092-b0121b865b4f",
   "metadata": {},
   "outputs": [],
   "source": [
    "# Transform DNA methylation array into a summarized Experiment\n",
    "dna.met.chr21.se <- make_dnam_se(\n",
    "  dnam = dna.met.chr21,\n",
    "  genome = \"hg38\",\n",
    "  arrayType = \"450k\",\n",
    "  betaToM = FALSE, # transform beta to m-values \n",
    "  verbose = FALSE # hide informative messages\n",
    ")\n",
    "SummarizedExperiment::rowRanges(dna.met.chr21.se)[1:4,1:4]"
   ]
  },
  {
   "cell_type": "markdown",
   "id": "e644d3eb-8b28-449e-a78b-6884d223e9e7",
   "metadata": {},
   "source": [
    "### <span> Analysis for DMRs </span>\n",
    "### <span> Extract Gene Expression Data </span>"
   ]
  },
  {
   "cell_type": "code",
   "execution_count": null,
   "id": "34ce57bd-617b-4c66-bf18-c982dc62779a",
   "metadata": {},
   "outputs": [],
   "source": [
    "# TCGA-COAD gene expression matrix (log2 (FPKM-UQ + 1)) for 38 samples (only chromosome 21) \n",
    "# Retrieved from GDC(Genomic Data Commons) using TCGAbiolinks and included in MethReg\n",
    "data(\"gene.exp.chr21.log2\")\n",
    "head(gene.exp.chr21.log2)"
   ]
  },
  {
   "cell_type": "markdown",
   "id": "fd5bce7d-4220-4d46-b608-c454d0486973",
   "metadata": {},
   "source": [
    "### <span> Create summarized experiment object for gene expression data </span>"
   ]
  },
  {
   "cell_type": "code",
   "execution_count": null,
   "id": "710105e9-8cc9-4773-9a68-10e1b0c76652",
   "metadata": {},
   "outputs": [],
   "source": [
    "#Transform gene expression data into a summarized Experiment\n",
    "gene.exp.chr21.se <- make_exp_se(\n",
    "  exp = gene.exp.chr21.log2,\n",
    "  genome = \"hg38\",\n",
    "  verbose = FALSE\n",
    ")\n",
    "SummarizedExperiment::rowRanges(gene.exp.chr21.se)[1:5,]"
   ]
  },
  {
   "cell_type": "markdown",
   "id": "28fbe8d8-390f-4dcf-8b1e-c2ac1f6c50c1",
   "metadata": {},
   "source": [
    "<div class=\"alert alert-block alert-danger\">\n",
    "    <i class=\"fa fa-exclamation-circle\" aria-hidden=\"true\"></i>\n",
    "    <b>Alert:</b> If you see an error message stating BSgenome package is corrupt, please restart the kernel using dropdown menu on top and then load the BSgenome library again. \n",
    "</div>"
   ]
  },
  {
   "cell_type": "markdown",
   "id": "e04c033c-b50e-411c-886c-84dea959ae5e",
   "metadata": {},
   "source": [
    "### <span> Create Triplet Dataset </span>\n",
    "This function will map a region to a target gene using three methods (mapping to the closest gene, mapping to any gene within a given window of distance, or mapping to a fixed number of nearby genes upstream or downstream)."
   ]
  },
  {
   "cell_type": "code",
   "execution_count": null,
   "id": "2b4e7aaa-99c6-4dc2-83b9-26287f7c7755",
   "metadata": {},
   "outputs": [],
   "source": [
    "triplet.promoter <- create_triplet_distance_based(\n",
    "  region = dna.met.chr21.se,\n",
    "  target.method = \"genes.promoter.overlap\",\n",
    "  genome = \"hg38\",\n",
    "  target.promoter.upstream.dist.tss = 2000,\n",
    "  target.promoter.downstream.dist.tss = 2000,\n",
    "  motif.search.window.size = 400,\n",
    "  motif.search.p.cutoff  = 1e-08,\n",
    "  cores = 1  \n",
    ")\n",
    "str(triplet.promoter)"
   ]
  },
  {
   "cell_type": "code",
   "execution_count": null,
   "id": "651186e0-bcdb-42a5-9a26-e847ec5e7c6f",
   "metadata": {},
   "outputs": [],
   "source": [
    "# Explore triplet data frame\n",
    "triplet.promoter$distance_region_target_tss %>% range\n",
    "triplet.promoter %>% head"
   ]
  },
  {
   "cell_type": "markdown",
   "id": "fa35b741-54dd-460b-a094-8390c16834c8",
   "metadata": {},
   "source": [
    "### <span> Evaluate the Regulatory potential of CpGs or DMRs </span>"
   ]
  },
  {
   "cell_type": "code",
   "execution_count": null,
   "id": "06514093-8a30-4d5f-8ffe-0700e6fa6794",
   "metadata": {},
   "outputs": [],
   "source": [
    "# Interaction model\n",
    "# Evaluates regulatory potential of DNA methylation (DNAm) on gene expression, by fitting a model to the triplet data. \n",
    "# These models consist of terms to model direct effect of DNAm on target gene expression, direct effect of TF on gene expression, as well as an interaction term that evaluates the synergistic effect of DNAm and TF on gene expression.\n",
    "results.interaction.model <- interaction_model(\n",
    "    triplet = triplet.promoter, \n",
    "    dnam = dna.met.chr21.se,\n",
    "    exp = gene.exp.chr21.se,\n",
    "    dnam.group.threshold = 0.1,\n",
    "    sig.threshold = 0.05,\n",
    "    fdr = T,\n",
    "    stage.wise.analysis = FALSE,\n",
    "    filter.correlated.tf.exp.dnam = F,\n",
    "    filter.triplet.by.sig.term = T\n",
    ")"
   ]
  },
  {
   "cell_type": "code",
   "execution_count": null,
   "id": "8dd97219-30a6-4795-9df7-176123e506db",
   "metadata": {},
   "outputs": [],
   "source": [
    "# Results for quartile model\n",
    "results.interaction.model %>% dplyr::select(\n",
    "  c(1,4,5,grep(\"RLM\",colnames(results.interaction.model)))\n",
    "  ) %>% head"
   ]
  },
  {
   "cell_type": "code",
   "execution_count": null,
   "id": "ee71f697-9f2e-4c21-be3f-cd8108f359ce",
   "metadata": {},
   "outputs": [],
   "source": [
    "# Results for Stratified analysis for high and low DNA methylation levels.\n",
    "results.stratified.model <- stratified_model(\n",
    "    triplet = results.interaction.model,\n",
    "    dnam = dna.met.chr21.se,\n",
    "    exp = gene.exp.chr21.se,\n",
    "    dnam.group.threshold = 0.25\n",
    ")"
   ]
  },
  {
   "cell_type": "markdown",
   "id": "4ebe5ea4-f3b2-4167-9814-cb9b36fcc6c8",
   "metadata": {},
   "source": [
    "### <span> Visualize the Results </span>"
   ]
  },
  {
   "cell_type": "code",
   "execution_count": null,
   "id": "862e20ef-5951-4cb0-a2a4-b2e11ea4574b",
   "metadata": {},
   "outputs": [],
   "source": [
    "options(repr.plot.width=14, repr.plot.height=10)\n",
    "plots <- plot_interaction_model(\n",
    "    triplet.results = results.interaction.model[1,], \n",
    "    dnam = dna.met.chr21.se, \n",
    "    exp = gene.exp.chr21.se,\n",
    "    dnam.group.threshold = 0.25\n",
    ")\n",
    "plots"
   ]
  },
  {
   "cell_type": "markdown",
   "id": "5d4a6c24-d1bd-4f7d-8d6b-869ad9ae6df7",
   "metadata": {},
   "source": [
    "In the first row of this figure pairwise association between DNA methylation, transcription factor (TF), and target gene expression levels are shown. The second row shows the DNA methylation level variation based on the TF activity on target gene expression levels. TF and gene expression association is expected to vary based on high or low DNA methylation when the TF by methylation interaction is significant.  \n",
    "\n",
    "In the first row, we can see a fitting model from MethReg in the center. This figure shows that the TF expression and target expression are relatively independent without consideration of the DNA methylation levels. On the top right, we see that at low and high levels of DNA methylation, target expression differs. \n",
    "\n",
    "This is further explored in the bottom center and bottom right fitting models that show at low DNA methylation levels, the target expression is relatively independent of TF expression whereas at high DNA methylation levels, the target expression correlates with TF expression. From this, we can conclude that in this situation, DNA methylation and TF work together to affect target gene expression.  "
   ]
  },
  {
   "cell_type": "markdown",
   "id": "b482d958-8135-4296-98f3-9f8852205e2e",
   "metadata": {},
   "source": [
    "### <span> Correlation Analysis with sequencing data from the RNA-Seq and RRBS module</span>"
   ]
  },
  {
   "cell_type": "code",
   "execution_count": null,
   "id": "21d01f34-07d2-4b6e-b5c9-a785762be0cd",
   "metadata": {},
   "outputs": [],
   "source": [
    "library(clusterProfiler)\n",
    "library(enrichplot)\n",
    "library(ggplot2)\n",
    "library(Repitools)\n",
    "library(methylKit)\n",
    "library(GenomicRanges)\n",
    "library(genomation)\n",
    "library(DESeq2)\n",
    "library(tidyverse)"
   ]
  },
  {
   "cell_type": "markdown",
   "id": "d84d4b56-44b8-4be1-8197-4e8aaf6a3780",
   "metadata": {},
   "source": [
    "First, Read and join all the methylation files, and filter as performed in the RRBS downstream module. For additional information on these steps, go back to submodule 02 RRBS and read the descriptions within. The input data is the same from the RRBS submodule."
   ]
  },
  {
   "cell_type": "code",
   "execution_count": null,
   "id": "a9b5625a-6e77-4be5-b5a5-b3b12fde3125",
   "metadata": {},
   "outputs": [],
   "source": [
    "file.list=list(\"../02-RRBS/GSM5266860_CD_NP1.txt.gz\",\n",
    "                \"../02-RRBS/GSM5266861_CD_NP2.txt.gz\",\n",
    "                \"../02-RRBS/GSM5266862_CD_NP3.txt.gz\", \n",
    "                \"../02-RRBS/GSM5266863_CD_P1.txt.gz\", \n",
    "                \"../02-RRBS/GSM5266864_CD_P2.txt.gz\", \n",
    "                \"../02-RRBS/GSM5266865_CD_P3.txt.gz\", \n",
    "                \"../02-RRBS/GSM5266866_BN_NP1.txt.gz\", \n",
    "                \"../02-RRBS/GSM5266867_BN_NP2.txt.gz\",\n",
    "                \"../02-RRBS/GSM5266868_BN_NP3.txt.gz\", \n",
    "                \"../02-RRBS/GSM5266869_BN_P1.txt.gz\",\n",
    "                \"../02-RRBS/GSM5266870_BN_P2.txt.gz\",\n",
    "                \"../02-RRBS/GSM5266871_BN_P3.txt.gz\")\n",
    "myobj=methRead(file.list,\n",
    "               sample.id=list(\"CD_NP1\",\"CD_NP2\",\"CD_NP3\",\"CD_P1\",\"CD_P2\",\"CD_P3\",\"BN_NP1\",\"BN_NP2\",\"BN_NP3\",\"BN_P1\",\"BN_P2\",\"BN_P3\"),\n",
    "               assembly=\"Rnor_6.0\",\n",
    "               treatment=c(0,0,0,0,0,0,1,1,1,1,1,1),\n",
    "               context=\"CpG\"\n",
    ")\n"
   ]
  },
  {
   "cell_type": "code",
   "execution_count": null,
   "id": "12769a3f-af28-40b1-9851-bf6f1f160274",
   "metadata": {},
   "outputs": [],
   "source": [
    "#Filter by coverage\n",
    "filtered.myobj=filterByCoverage(myobj,lo.count=10,lo.perc=NULL,\n",
    "                                      hi.count=NULL,hi.perc=99.9)\n",
    "\n",
    "#Normalize coverage\n",
    "myobj.filt.norm <- normalizeCoverage(filtered.myobj, method = \"median\")\n",
    "\n",
    "#Unite\n",
    "meth=methylKit::unite(myobj.filt.norm, destrand=FALSE)"
   ]
  },
  {
   "cell_type": "markdown",
   "id": "f4d31db3-8300-4c13-9537-02d2cc384302",
   "metadata": {},
   "source": [
    "#### Annotate the RRBS Data"
   ]
  },
  {
   "cell_type": "code",
   "execution_count": null,
   "id": "0b1ed0f5-6360-46dc-8452-edb72f8f601f",
   "metadata": {},
   "outputs": [],
   "source": [
    "# First load the annotation data; i.e the coordinates of promoters, TSS, intron and exons\n",
    "gene.obj <- readTranscriptFeatures(\"../02-RRBS/rn6_ensGene.bed\")"
   ]
  },
  {
   "cell_type": "code",
   "execution_count": null,
   "id": "c94ee225-8e7f-45e9-8416-b7be4f38b7d4",
   "metadata": {},
   "outputs": [],
   "source": [
    "#Annotate with promoter, exon, intron and intergenic regions\n",
    "meth$chr <- sapply(meth$chr, function(x) paste('chr', x, sep = \"\"))\n",
    "meth <- as(meth,\"GRanges\")                  \n",
    "all.anot <- annotateWithGeneParts(meth, gene.obj)\n",
    "dist_tss <- getAssociationWithTSS(all.anot)\n",
    "head(dist_tss)\n",
    "nrow(dist_tss)\n",
    "nrow(gene.obj)"
   ]
  },
  {
   "cell_type": "markdown",
   "id": "e5b0442a-15d8-49eb-b6c3-68ab7f0b2c67",
   "metadata": {},
   "source": [
    "#### Convert the methylKit object to a dataframe for easier processing and add the annotation data"
   ]
  },
  {
   "cell_type": "code",
   "execution_count": null,
   "id": "13119663-23a2-4d9c-962a-e55406f59358",
   "metadata": {},
   "outputs": [],
   "source": [
    "#Convert to a dataframe\n",
    "library(\"Repitools\")\n",
    "df <- annoGR2DF(meth)"
   ]
  },
  {
   "cell_type": "code",
   "execution_count": null,
   "id": "5fa89b53-ad39-40c2-8dce-508f0bfaaf01",
   "metadata": {},
   "outputs": [],
   "source": [
    "#Add annotation\n",
    "anot.diff <- cbind(df, dist_tss = dist_tss$dist.to.feature)\n",
    "anot.diff <- cbind(anot.diff, feature.name = dist_tss$feature.name)"
   ]
  },
  {
   "cell_type": "markdown",
   "id": "1b354601-0e9d-4b56-9fb1-212c17cd9aec",
   "metadata": {},
   "source": [
    "#### Prepare the dataframe for integration by selecting only the required coverage columns and rename according to the experiment if required"
   ]
  },
  {
   "cell_type": "code",
   "execution_count": null,
   "id": "f256930d-9350-4b59-b406-884c96834e59",
   "metadata": {},
   "outputs": [],
   "source": [
    "#Select the required coverage files.\n",
    "myvars <- c(\"feature.name\", \"dist_tss\",  \"coverage1\", \"coverage2\", \"coverage3\", \"coverage4\", \"coverage5\", \"coverage6\", \n",
    "            \"coverage7\", \"coverage8\", \"coverage9\", \"coverage10\", \"coverage11\", \"coverage12\")\n",
    "\n",
    "bs_coverage <- anot.diff[myvars]\n",
    "head(bs_coverage)\n",
    "\n",
    "#Calculate the row average\n",
    "bs_coverage$avg <- rowMeans(bs_coverage[,c(3,4,5,6,7,8,9,10,11,12,13,14)]) \n",
    "\n",
    "#Change column names according to the experiment if required.\n",
    "colnames(bs_coverage) <- c(\"feature.name\", \"dist_tss\", \"CD_NP1\", \"CD_NP2\", \"CD_NP3\", \"CD_P1\", \"CD_P2\", \n",
    "                         \"CD_P3\", \"BN_NP1\", \"BN_NP2\", \"BN_NP3\", \"BN_P1\", \"BN_P2\", \"BN_P3\", \"avg\")\n",
    "head(bs_coverage)"
   ]
  },
  {
   "cell_type": "markdown",
   "id": "1957e3b6-4860-4cc5-bc74-6058ba7bdea8",
   "metadata": {},
   "source": [
    "#### Convert the feature names(ENSEMBL transcript id) to gene id for integration with RNA-Seq data"
   ]
  },
  {
   "cell_type": "code",
   "execution_count": null,
   "id": "2de1e123-c4ad-44f7-96c3-80c01264c991",
   "metadata": {},
   "outputs": [],
   "source": [
    "#Import the annoation file to convert the transcript id to gene id.\n",
    "system(\"aws s3 cp gs://nigms-sandbox/nosi-und/Integration/rn6_ensGtp.csv .\", intern=TRUE)\n",
    "rn6_ensGtp <- read.csv(\"rn6_ensGtp.csv\", na.strings=\"\", header = T, comment = \"/\")\n",
    "head(rn6_ensGtp)\n",
    "colnames(rn6_ensGtp) <- c('gene.name', 'feature.name', 'protein')\n",
    "head(rn6_ensGtp)"
   ]
  },
  {
   "cell_type": "code",
   "execution_count": null,
   "id": "c2984bbe-d8fd-47b6-a034-49bc6d2afda5",
   "metadata": {},
   "outputs": [],
   "source": [
    "#Add the gene names to the methylation coverage file. \n",
    "bs_coverage <- merge (x = bs_coverage, y = rn6_ensGtp, by = \"feature.name\")\n",
    "bs_coverage$gene.name <- gsub('\\\\..*', '', bs_coverage$gene.name)\n",
    "head(bs_coverage)"
   ]
  },
  {
   "cell_type": "code",
   "execution_count": null,
   "id": "6b1efa3e-b980-4c0f-b2d4-dfd476b73004",
   "metadata": {},
   "outputs": [],
   "source": [
    "#Keep only the required columns for further analysis\n",
    "bs_normalized <- bs_coverage[c(16, 2, 9:14, 3:8, 15)]\n",
    "head(bs_normalized)"
   ]
  },
  {
   "cell_type": "markdown",
   "id": "060fea69-4739-4137-9b64-c96ac4fae6f9",
   "metadata": {},
   "source": [
    "#### Import and prepare the RNA-Seq data for integration"
   ]
  },
  {
   "cell_type": "code",
   "execution_count": null,
   "id": "41db04c9-2437-4f30-b578-0b77d610413e",
   "metadata": {},
   "outputs": [],
   "source": [
    "readcounts <- read.table(\"../01-RNA-Seq/GSE173380_RNAseq_counts.csv.gz\", sep = \",\", header = T, row.names = 1)\n",
    "sample_info <- read.table(\"../01-RNA-Seq/sample_info.txt\", sep = \"\\t\")"
   ]
  },
  {
   "cell_type": "code",
   "execution_count": null,
   "id": "5d51651a-6324-4282-94a3-2a59f1efd065",
   "metadata": {},
   "outputs": [],
   "source": [
    "DESeq.ds <- DESeqDataSetFromMatrix(countData = round(readcounts), colData = sample_info, design = ~condition)"
   ]
  },
  {
   "cell_type": "code",
   "execution_count": null,
   "id": "5c936011-ec97-47f3-b89c-5cc139c1685e",
   "metadata": {},
   "outputs": [],
   "source": [
    "DESeq.ds <- DESeq.ds[ rowSums(counts(DESeq.ds)) > 0, ] "
   ]
  },
  {
   "cell_type": "markdown",
   "id": "75d98e37-315b-4e3a-b266-50cdadd91174",
   "metadata": {},
   "source": [
    "#### Normalize RNA-Seq data"
   ]
  },
  {
   "cell_type": "code",
   "execution_count": null,
   "id": "08a2d590-5599-4e31-a441-727a4c9086bf",
   "metadata": {},
   "outputs": [],
   "source": [
    "# Get the size factor using estimateSizeFactors from DESeq.\n",
    "DESeq.ds <- estimateSizeFactors(DESeq.ds)\n",
    "# Check that the size factor has been added to the dataframe replacing raw reads.\n",
    "sizeFactors(DESeq.ds)\n",
    "# colData now contains the normalized reads in the form of sizeFactors\n",
    "colData(DESeq.ds)\n",
    "# We can also retrieve the normalized read counts using counts() function\n",
    "counts.sf_normalized <- counts(DESeq.ds, normalized = TRUE)"
   ]
  },
  {
   "cell_type": "code",
   "execution_count": null,
   "id": "d66f2506-1295-4e8a-a7a5-99867626cf64",
   "metadata": {},
   "outputs": [],
   "source": [
    "# transform size-factor normalized read counts to log2 scale using pseudocount of 1\n",
    "log.norm.counts <- log2(counts.sf_normalized + 1)\n",
    "par(mfrow=c(2,1)) # to plot the following two images parallel.\n",
    "\n",
    "# first, boxplots of non-transformed read counts (one per sample)\n",
    "boxplot(counts.sf_normalized, notch = TRUE,\n",
    "        main = \"raw read counts\", ylab = \"read counts\")\n",
    "\n",
    "# box plots of log2-transformed read counts\n",
    "boxplot(log.norm.counts, notch = TRUE,\n",
    "          main = \"log2-transformed read counts\",\n",
    "          ylab = \"log2(read counts)\")"
   ]
  },
  {
   "cell_type": "markdown",
   "id": "b85beecf-7cb8-491d-8ca2-01881a127b69",
   "metadata": {},
   "source": [
    "In the above boxplots, due to outliers, it is hard to visualize the distribution of the data in the raw read counts graph. Therefore we transformed to log2 scale which will help us see the distribution clearly. "
   ]
  },
  {
   "cell_type": "code",
   "execution_count": null,
   "id": "a148f2e3-beb8-4950-bdf5-fcaf1948495d",
   "metadata": {},
   "outputs": [],
   "source": [
    "#View normalized counts\n",
    "head(log.norm.counts)"
   ]
  },
  {
   "cell_type": "markdown",
   "id": "ffee435f-d1eb-4a5c-b51d-84a3661c839d",
   "metadata": {},
   "source": [
    "#### Convert RNA-Seq data to dataframe for easy manupulation"
   ]
  },
  {
   "cell_type": "code",
   "execution_count": null,
   "id": "1ffc579b-8212-4ca2-9baf-9c2e810d0fb5",
   "metadata": {},
   "outputs": [],
   "source": [
    "#rna_normalized <- DataFrame(counts(DESeq.ds, normalized = TRUE))\n",
    "rna_normalized <- as_tibble(log.norm.counts, rownames = \"gene.name\") \n",
    "#Calculate the row average\n",
    "rna_normalized$avg <- rowMeans(rna_normalized[,c(2,3,4,5,6,7,8,9,10,11,12,13)]) \n",
    "head(rna_normalized)"
   ]
  },
  {
   "cell_type": "markdown",
   "id": "c49cfe54-ca64-4110-a81f-4196034d1ef1",
   "metadata": {},
   "source": [
    "#### Now we have both the methylation and RNA-Seq files ready for integration."
   ]
  },
  {
   "cell_type": "code",
   "execution_count": null,
   "id": "2ae46058-fe54-4de3-b777-ae42074b8767",
   "metadata": {},
   "outputs": [],
   "source": [
    "#Preview both data frames\n",
    "head(bs_normalized)\n",
    "head(rna_normalized)"
   ]
  },
  {
   "cell_type": "markdown",
   "id": "9da1ba8d-9fb8-4ccc-8d5e-a92c05263343",
   "metadata": {},
   "source": [
    "#### We will make three groups from the RNA-Seq data based on the expression values."
   ]
  },
  {
   "cell_type": "code",
   "execution_count": null,
   "id": "4aed7ea8-3e1b-4a45-93e9-a2900465fbe3",
   "metadata": {},
   "outputs": [],
   "source": [
    "print(\"Bisulfite\")\n",
    "summary(bs_normalized$avg)\n",
    "print(\"RNA-Seq\")\n",
    "summary(rna_normalized$avg)\n",
    "boxplot(rna_normalized$avg, pars = list(cex.axis=2.0))"
   ]
  },
  {
   "cell_type": "markdown",
   "id": "f53e9bb3-e3cc-4efc-86ef-f044b1d343f1",
   "metadata": {},
   "source": [
    "The three groups of RNA-Seq data will be formed based on the quartiles of the boxplot above. As you can see, the median line lines up with the medium we printed above:5.7017.   "
   ]
  },
  {
   "cell_type": "markdown",
   "id": "e07980b2-08e0-4314-a957-ce5de7202916",
   "metadata": {},
   "source": [
    "#### For further analysis we only need the gene names, averages, and TSS."
   ]
  },
  {
   "cell_type": "code",
   "execution_count": null,
   "id": "535921a5-0d1d-4d7e-96d4-737bb9168d3a",
   "metadata": {},
   "outputs": [],
   "source": [
    "# Selecting BS data\n",
    "bs_res <- bs_normalized[c(1,2,15)]\n",
    "# Naming columns\n",
    "colnames(bs_res) <- c(\"gene.name\", \"dist_tss\", \"bs_avg\")\n",
    "#Selecting RNA data\n",
    "rna_res <- rna_normalized[c(1,14)]\n",
    "#Naming columns\n",
    "colnames(rna_res) <- c(\"gene.name\", \"rna_avg\")\n",
    "#Preview data\n",
    "head(bs_res)\n",
    "head(rna_res)"
   ]
  },
  {
   "cell_type": "code",
   "execution_count": null,
   "id": "9be3f1c6-7edd-4d28-8853-a9257c93f6dc",
   "metadata": {},
   "outputs": [],
   "source": [
    "# Group RNA Data by low, medium, high expression\n",
    "# Notice 1.17 is the cutoff printed above for the 1st quartile while 8.29 represents the 3rd quartile\n",
    "low_expression <- subset(rna_res, rna_avg<1.17)\n",
    "medium_expression <- subset(rna_res, rna_avg>=1.17 & rna_avg<8.29)\n",
    "high_expression <- subset(rna_res, rna_avg>=8.29)"
   ]
  },
  {
   "cell_type": "code",
   "execution_count": null,
   "id": "d6f1ec35-0043-47b3-b601-4bc7acca3dbf",
   "metadata": {},
   "outputs": [],
   "source": [
    "# Print stats\n",
    "summary(low_expression$rna_avg)\n",
    "summary(medium_expression$rna_avg)\n",
    "summary(high_expression$rna_avg)"
   ]
  },
  {
   "cell_type": "code",
   "execution_count": null,
   "id": "1eee01ce-a0bf-4607-965d-5dc7761139e3",
   "metadata": {},
   "outputs": [],
   "source": [
    "# Join two data tables by the matching gene name column\n",
    "rna_bs_low <- merge(x = low_expression, y = bs_res, by = \"gene.name\")\n",
    "rna_bs_medium <- merge(x = medium_expression, y = bs_res, by = \"gene.name\")\n",
    "rna_bs_high <- merge(x = high_expression, y = bs_res, by = \"gene.name\")\n",
    "head(rna_bs_low)"
   ]
  },
  {
   "cell_type": "code",
   "execution_count": null,
   "id": "0e2781e4-c356-406f-8585-3cd0fb0eb3a7",
   "metadata": {},
   "outputs": [],
   "source": [
    "#Size of data\n",
    "nrow(rna_bs_low)\n",
    "nrow(rna_bs_medium)\n",
    "nrow(rna_bs_high)"
   ]
  },
  {
   "cell_type": "markdown",
   "id": "053d0581-5a11-4dcb-8572-20ee13ac1a7d",
   "metadata": {},
   "source": [
    "### Scatter Plot Visualizations\n",
    "Here, we plot the mean methylation level in each gene expression profile(low, medium, and high) as a function of the distance from the transcription start site."
   ]
  },
  {
   "cell_type": "code",
   "execution_count": null,
   "id": "47c89a2a-5ec1-4498-a190-1b5d61602191",
   "metadata": {},
   "outputs": [],
   "source": [
    "library(ggplot2)\n",
    "library(ggforce)\n",
    "library(ggpubr)\n",
    "\n",
    "low <- ggplot(rna_bs_low, aes(x=dist_tss,y=bs_avg)) +\n",
    "    geom_point() +\n",
    "    geom_smooth(se = F, method=\"loess\") +\n",
    "    xlim(-500, 500) +\n",
    "    theme_grey(base_size = 22)\n",
    "    \n",
    "\n",
    "medium <- ggplot(rna_bs_medium, aes(x=dist_tss,y=bs_avg)) +\n",
    "    geom_point() +\n",
    "    geom_smooth(se = F, method=\"loess\") +\n",
    "    xlim(-500, 500) +\n",
    "    theme_grey(base_size = 22)\n",
    "    \n",
    "\n",
    "high <- ggplot(rna_bs_high, aes(x=dist_tss,y=bs_avg)) +\n",
    "    geom_point() +\n",
    "    geom_smooth(se = F, method=\"loess\") +\n",
    "    xlim(-500, 500) +\n",
    "    theme_grey(base_size = 22)\n",
    "   \n",
    "\n",
    "ggarrange(low, medium, high, heights = c(1,1,1), ncol = 1, nrow = 3, align = \"v\", labels=\"AUTO\")"
   ]
  },
  {
   "cell_type": "markdown",
   "id": "c438b68a-b438-4fb0-be33-f6565ad47ba7",
   "metadata": {},
   "source": [
    "In this section, we can visualize the scatter plot of mean methylation levels in each gene expression (A-low, B-medium, and C-high) as a function of the distance from the transcription start site. For medium and high gene expression values, the average methylation value falls more towards the start of the transcription start site, but as the gene expression decreases, the average methylation value moves away from the transcription start site. The blue line shows the smoothed curve. For this data-set we do not see a clear anti-corelation but, in the case study provided above, we could clearly see the inverse relationship between gene expression and average methylation value for TSS. "
   ]
  },
  {
   "cell_type": "markdown",
   "id": "a9deb902-02d1-4b7d-b414-c77d93ea983b",
   "metadata": {},
   "source": [
    "#### Histogram Visualizations\n",
    "Here, we plot histograms of the low, medium, high "
   ]
  },
  {
   "cell_type": "code",
   "execution_count": null,
   "id": "c1585d0a-65c8-439a-96b0-e8bc9a18b9ec",
   "metadata": {},
   "outputs": [],
   "source": [
    "lowhist <- ggplot(rna_bs_low, aes(x=bs_avg)) + geom_histogram(binwidth = 2) + ylim(0, 25000)+ xlim(0, 50)\n",
    "mediumhist <- ggplot(rna_bs_medium, aes(x=bs_avg)) + geom_histogram(binwidth = 2) + ylim(0, 25000)+ xlim(0, 50)\n",
    "highhist <- ggplot(rna_bs_high, aes(x=bs_avg)) + geom_histogram(binwidth = 2) + ylim(0, 25000)+ xlim(0, 50)\n",
    "\n",
    "ggarrange(lowhist, mediumhist, highhist, heights = c(1,1,1), ncol = 1, nrow = 3, labels=\"AUTO\")"
   ]
  },
  {
   "cell_type": "markdown",
   "id": "1bb6333a-cb9c-42f5-8701-082c950a9db5",
   "metadata": {},
   "source": [
    "Here, we can see the mean methylation levels according to the three tertiles, which are A-low, B-medium, and C-high. They depict the gene expression levels of a number of genes and display the frequency of average methylation values for each case. Again, in this particular data-set we do not see a clear distinction or correlation but, in the case study provided above clearly depicts that for low gene expression, the frequency of average beta is high, whereas it is low for medium and high gene expression, indicating an anti-correlation."
   ]
  },
  {
   "cell_type": "markdown",
   "id": "71312e86-5812-46b9-96f0-a01a26bf55b9",
   "metadata": {},
   "source": [
    "### **2. Functional and Pathway Relationships**\n",
    "Integration of expression and methylation pathway analyses strengthens claims of enriched or depleted pathways and provides insight into pathway relationships. For example, if a pathway is enriched in both expression and methylation pathway analyses, overall conclusions about the enrichment of the pathway are easier to make. However, if a pathway is enriched in one analysis and depleted in another, this can provide a launching point for further investigation into what could possibly cause the difference at the transcriptomic or epigenetic level. Overall, the overlap of enriched and depleted pathways from methylation and expression pathway analyses can narrow pathways for further analysis and help with understanding phenotype influences on the pathways. "
   ]
  },
  {
   "cell_type": "markdown",
   "id": "2d156078-1557-4703-8a7a-dd5653d0ac56",
   "metadata": {},
   "source": [
    "### <span> Gene Set Enrichment Analysis based Integration </span>\n",
    "A computational technique called Gene Set Enrichment Analysis (GSEA) examines the statistical significance and consistency of differences between two biological states in a predefined set of genes. This part of the R Notebook explains how to use the clusterProfiler package in R to implement GSEA. Here, get the RNA-Seq differentially expressed gene list into a data frame \"df\"."
   ]
  },
  {
   "cell_type": "code",
   "execution_count": null,
   "id": "b5aec8cc-5505-4f43-bb24-1409ea9d40cf",
   "metadata": {},
   "outputs": [],
   "source": [
    "#Get RNA-Seq differentially expressed gene list.\n",
    "df <- read.table(\"../01-RNA-Seq/rna-seq_dge-results.txt\", sep = \"\\t\", row.names = NULL)\n",
    "colnames(df) <- c(\"gene.name\", \"baseMean\", \"log2FoldChange\", \"ifcSE\", \"stat\", \"pvalue\", \"padj\")\n",
    "head(df)\n",
    "\n",
    "#Get Bisulfite data and change transcript IDs to gene IDs using annotaion file. \n",
    "df_bs <- read.table(\"../02-RRBS/bs_results.txt\", sep = \"\\t\", row.names = NULL)\n",
    "#Import the annoation file to convert the transcript id to gene id.\n",
    "rn6_ensGtp <- read.csv(\"rn6_ensGtp.csv\", na.strings=\"\", header = T, comment = \"/\")\n",
    "colnames(rn6_ensGtp) <- c('gene.name', 'feature.name', 'protein')\n",
    "#Add the gene names to the methylation coverage file. \n",
    "df_bs <- merge (x = df_bs, y = rn6_ensGtp, by = \"feature.name\")\n",
    "df_bs$gene.name <- gsub('\\\\..*', '', df_bs$gene.name)\n",
    "head(df_bs)"
   ]
  },
  {
   "cell_type": "markdown",
   "id": "ce6dcddb-217b-4449-9d09-39e9373b9b3e",
   "metadata": {},
   "source": [
    "The sample dataset is from Rattus, so here we install and load the annotation \"org.Rn.eg.db\". All the annotations are available here:  http://bioconductor.org/packages/release/BiocViews.html#___OrgDb \n",
    "\n",
    "You can download the annotation file for the desired organism from the above link."
   ]
  },
  {
   "cell_type": "code",
   "execution_count": null,
   "id": "7f3c10e9-51f7-4679-93fb-e84e14c69b83",
   "metadata": {},
   "outputs": [],
   "source": [
    "organism = \"org.Rn.eg.db\"\n",
    "BiocManager::install(organism, character.only = TRUE)\n",
    "library(organism, character.only = TRUE)"
   ]
  },
  {
   "cell_type": "markdown",
   "id": "b105da62-2cff-48f2-81a2-f7b4c6526374",
   "metadata": {},
   "source": [
    "### Prepare Input for GSEA\n",
    "\n",
    "In this step, we want to examine the log2 fold change and name the vector through the gene names. After omitting all the NA values, the list should be sorted in decreasing order which is a requiremnet to perform clusterProfiler "
   ]
  },
  {
   "cell_type": "code",
   "execution_count": null,
   "id": "2088f0bc-747a-4f49-b1ba-432c4411dc3f",
   "metadata": {},
   "outputs": [],
   "source": [
    "#Values for RNA-Seq \n",
    "# we want the log2 fold change \n",
    "rna_gene_list <- df$log2FoldChange\n",
    "# name the vector\n",
    "names(rna_gene_list) <- df$gene.name\n",
    "# omit any NA values \n",
    "rna_gene_list<-na.omit(rna_gene_list)\n",
    "# sort the list in decreasing order (required for clusterProfiler)\n",
    "rna_gene_list = sort(rna_gene_list, decreasing = TRUE)\n",
    "\n",
    "#Values for Bisulfite seq.\n",
    "# we want the pvalue as bisulfite does not have fold change differences \n",
    "bs_gene_list <- df_bs$pvalue\n",
    "\n",
    "# name the vector\n",
    "names(bs_gene_list) <- df_bs$gene.name\n",
    "\n",
    "# omit any NA values \n",
    "bs_gene_list<-na.omit(bs_gene_list)\n",
    "\n",
    "# sort the list in decreasing order (required for clusterProfiler)\n",
    "bs_gene_list = sort(bs_gene_list, decreasing = TRUE)"
   ]
  },
  {
   "cell_type": "code",
   "execution_count": null,
   "id": "c6c73120-3896-4112-92c7-691a6aa650e3",
   "metadata": {},
   "outputs": [],
   "source": [
    "#Check for the available keys and choose one as per your database.\n",
    "keytypes(org.Rn.eg.db)"
   ]
  },
  {
   "cell_type": "markdown",
   "id": "88ae6af0-0d84-4dda-a522-f0418b7d7cc4",
   "metadata": {},
   "source": [
    "### Gene Set Enrichment\n",
    "<b>geneList</b> has been downloaded from the above mentioned link <br>\n",
    "<b>ont</b> one of “BP”, “MF”, “CC” or “ALL” <br>\n",
    "<b>nPerm</b> the analysis time depends on the number of permutations.The higher the number of permutations you set, the more accurate your result will. <br>\n",
    "<b>minGSSize</b> minimum number of genes in set (gene sets with lower than this many genes in your dataset will be ignored). <br>\n",
    "<b>maxGSSize</b> maximum number of genes in set (gene sets with greater than this many genes in your dataset will be ignored). <br>\n",
    "<b>pvalueCutoff</b> Cutoff for p-value. <br>\n",
    "<b>pAdjustMethod</b> one of “holm”, “hochberg”, “hommel”, “bonferroni”, “BH”, “BY”, “fdr”, “none” <br>"
   ]
  },
  {
   "cell_type": "code",
   "execution_count": null,
   "id": "3ed220e9-9a39-44c6-bb36-2dc56a0b51e5",
   "metadata": {},
   "outputs": [],
   "source": [
    "rna_gse <- gseGO(geneList=rna_gene_list, \n",
    "             ont =\"ALL\", \n",
    "             keyType = \"ENSEMBL\", \n",
    "             nPerm = 10000, \n",
    "             minGSSize = 3, \n",
    "             maxGSSize = 800, \n",
    "             pvalueCutoff = 0.05, \n",
    "             verbose = TRUE, \n",
    "             OrgDb = organism, \n",
    "             pAdjustMethod = \"none\")\n",
    "\n",
    "bs_gse <- gseGO(geneList=bs_gene_list, \n",
    "             ont =\"ALL\", \n",
    "             keyType = \"ENSEMBL\", \n",
    "             nPerm = 10000, \n",
    "             minGSSize = 3, \n",
    "             maxGSSize = 800, \n",
    "             pvalueCutoff = 0.05, \n",
    "             verbose = TRUE, \n",
    "             OrgDb = organism, \n",
    "             pAdjustMethod = \"none\")"
   ]
  },
  {
   "cell_type": "markdown",
   "id": "d87508ba-86ac-4b36-8b9a-9263eb19c5cf",
   "metadata": {},
   "source": [
    "### Explore the GSEA output\n",
    "#### Dot plot\n",
    "Based on the values of each point, a dot plot visually groups the number of data points in a data set. Here, we are using a DOSE package to get the gene ratio for all the supressed and activated genes."
   ]
  },
  {
   "cell_type": "code",
   "execution_count": null,
   "id": "faad0428-1499-4dcc-8a4d-c4ea8ebcd40d",
   "metadata": {},
   "outputs": [],
   "source": [
    "require(DOSE)\n",
    "dotplot(rna_gse, showCategory=10, split=\".sign\") + facet_grid(.~.sign)\n",
    "dotplot(bs_gse, showCategory=10, split=\".sign\") + facet_grid(.~.sign)"
   ]
  },
  {
   "cell_type": "markdown",
   "id": "38b11e9b-3ea6-4a31-9631-9de981bdee00",
   "metadata": {},
   "source": [
    "### Encrichment Map\n",
    "The enriched terms are arranged into a network through an enrichment map, which has edges connecting related gene sets. The tendency of mutually overlapping gene sets to group together in this way makes it simple to recognize functional modules."
   ]
  },
  {
   "cell_type": "code",
   "execution_count": null,
   "id": "7de24205-5a93-4870-b30a-2ba315a8cf0a",
   "metadata": {},
   "outputs": [],
   "source": [
    "x1 <- pairwise_termsim(rna_gse) \n",
    "emapplot(x1)\n",
    "x2 <- pairwise_termsim(bs_gse) \n",
    "emapplot(x2)"
   ]
  },
  {
   "cell_type": "markdown",
   "id": "7d8e95dd-9cbc-4037-9aa2-4fa2f6d9d1ad",
   "metadata": {},
   "source": [
    "### Category Netplot\n",
    "The cnetplot shows the connections between biological ideas (such KEGG pathways or GO terms) and genes as a network. It is useful to identify the genes that participate in enriched pathways and the genes that might fall under several annotation categories."
   ]
  },
  {
   "cell_type": "code",
   "execution_count": null,
   "id": "1c4c46a8-e8fd-4a1a-8b11-0723d421836f",
   "metadata": {},
   "outputs": [],
   "source": [
    "# categorySize can be either 'pvalue' or 'geneNum'\n",
    "library(\"ggnewscale\")\n",
    "cnetplot(rna_gse, categorySize=\"pvalue\", foldChange=rna_gene_list, showCategory = 2)\n",
    "cnetplot(bs_gse, categorySize=\"pvalue\", foldChange=bs_gene_list, showCategory = 5)"
   ]
  },
  {
   "cell_type": "markdown",
   "id": "1ef4b8d6-a8c9-49fb-b06c-8c6f13256d4e",
   "metadata": {},
   "source": [
    "### Ridgeplot\n",
    "The frequency of fold change values for each gene within each set is used to create density charts that are organized by gene set. It is useful for deciphering up- and down-regulated pathways."
   ]
  },
  {
   "cell_type": "code",
   "execution_count": null,
   "id": "3abb9fe1-dc5b-481a-8cdc-372acf426ae1",
   "metadata": {},
   "outputs": [],
   "source": [
    "library(\"ggridges\")\n",
    "ridgeplot(rna_gse) + labs(x = \"enrichment distribution\")\n",
    "ridgeplot(bs_gse) + labs(x = \"enrichment distribution\")"
   ]
  },
  {
   "cell_type": "markdown",
   "id": "91a6382e-e716-496b-8aab-83884e689018",
   "metadata": {},
   "source": [
    "### GSEA Plot\n",
    "Plot illustrates the Running Enrichment Score for a gene set as the analysis moves down the sorted gene list, showing the maximum enrichment score (the red line). The leading edge subset is indicated by the black lines in the Running Enrichment Score, which illustrate where the members of the gene set fall in the ranking list of genes. As you scroll down the list of ranked genes, the Ranked list metric displays the value of the ranking measure (log2 fold change). The ranking metric quantifies the relationship between a gene and a phenotype."
   ]
  },
  {
   "cell_type": "code",
   "execution_count": null,
   "id": "5ed2e082-d237-4103-bee7-cf1798063801",
   "metadata": {},
   "outputs": [],
   "source": [
    "# Use the `Gene Set` param for the index in the title, and as the value for geneSetId\n",
    "gseaplot(rna_gse, by = \"all\", title = rna_gse$Description[1], geneSetID = 1)\n",
    "gseaplot(bs_gse, by = \"all\", title = bs_gse$Description[1], geneSetID = 1)"
   ]
  },
  {
   "cell_type": "markdown",
   "id": "7bcbdb7a-85af-4768-94bb-7f37ce0ab6da",
   "metadata": {},
   "source": [
    "### PubMed trend of enriched terms\n",
    "Based on the PubMed Central search result, it plots the trend in the number or percentage of articles."
   ]
  },
  {
   "cell_type": "code",
   "execution_count": null,
   "id": "b290f4b8-4010-41b7-8bb0-92be59270b00",
   "metadata": {},
   "outputs": [],
   "source": [
    "library(\"europepmc\")\n",
    "rna_terms <- rna_gse$Description[1:5]\n",
    "pmcplot(rna_terms, 2016:2022, proportion=FALSE)\n",
    "bs_terms <- bs_gse$Description[1:5]\n",
    "pmcplot(bs_terms, 2016:2022, proportion=FALSE)"
   ]
  },
  {
   "cell_type": "markdown",
   "id": "e38720e2-da72-4930-a900-d14124789db8",
   "metadata": {},
   "source": [
    "### KEGG Gene Set Enrichment Analysis\n",
    "#### Prepare Input"
   ]
  },
  {
   "cell_type": "code",
   "execution_count": null,
   "id": "bc9fd435-3ed1-4d1a-80ed-ef3673993ce9",
   "metadata": {},
   "outputs": [],
   "source": [
    "# Convert gene IDs for gseKEGG function\n",
    "# We will lose some genes here because not all IDs will be converted\n",
    "rna_ids<-bitr(names(rna_gene_list), fromType = \"ENSEMBL\", toType = \"ENTREZID\", OrgDb=organism)\n",
    "nrow(rna_ids)\n",
    "bs_ids<-bitr(names(bs_gene_list), fromType = \"ENSEMBL\", toType = \"ENTREZID\", OrgDb=organism)\n",
    "nrow(bs_ids)"
   ]
  },
  {
   "cell_type": "code",
   "execution_count": null,
   "id": "805bb59d-21dc-491c-a2b4-3bcd19b946ab",
   "metadata": {},
   "outputs": [],
   "source": [
    "# remove duplicate IDS (here I use \"ENSEMBL\", but it should be whatever was selected as keyType)\n",
    "rna_dedup_ids = rna_ids[!duplicated(rna_ids[c(\"ENSEMBL\")]),]\n",
    "bs_dedup_ids = bs_ids[!duplicated(bs_ids[c(\"ENSEMBL\")]),]"
   ]
  },
  {
   "cell_type": "code",
   "execution_count": null,
   "id": "bbe4f4a8-6998-414e-9ca6-c101c18220e2",
   "metadata": {},
   "outputs": [],
   "source": [
    "library(\"dplyr\")\n",
    "# Create a new dataframe which has only the genes which were successfully mapped using the bitr function above\n",
    "rna_df = df[df$gene.name %in% rna_dedup_ids$ENSEMBL,]\n",
    "bs_df = df_bs[df_bs$gene.name %in% bs_dedup_ids$ENSEMBL,]\n",
    "bs_df = distinct(bs_df, gene.name, .keep_all = TRUE)"
   ]
  },
  {
   "cell_type": "code",
   "execution_count": null,
   "id": "ff8b49f6-791a-42a7-b545-6e635a354d26",
   "metadata": {},
   "outputs": [],
   "source": [
    "# Create a new column in df2 with the corresponding ENTREZ IDs\n",
    "rna_df$Y = rna_dedup_ids$ENTREZID\n",
    "bs_df$Y = bs_dedup_ids$ENTREZID"
   ]
  },
  {
   "cell_type": "code",
   "execution_count": null,
   "id": "c88e87d7-da32-4500-ae7e-f27c7f217366",
   "metadata": {},
   "outputs": [],
   "source": [
    "#RNA-Seq data\n",
    "# Create a vector of the gene unuiverse\n",
    "rna_kegg_gene_list <- rna_df$log2FoldChange\n",
    "# Name vector with ENTREZ ids\n",
    "names(rna_kegg_gene_list) <- rna_df$Y\n",
    "# omit any NA values \n",
    "rna_kegg_gene_list<-na.omit(rna_kegg_gene_list)\n",
    "# sort the list in decreasing order (required for clusterProfiler)\n",
    "rna_kegg_gene_list = sort(rna_kegg_gene_list, decreasing = TRUE)\n",
    "\n",
    "#Bisulfite data\n",
    "# Create a vector of the gene unuiverse\n",
    "bs_kegg_gene_list <- bs_df$pvalue\n",
    "\n",
    "# Name vector with ENTREZ ids\n",
    "names(bs_kegg_gene_list) <- bs_df$Y\n",
    "\n",
    "# omit any NA values \n",
    "bs_kegg_gene_list<-na.omit(bs_kegg_gene_list)\n",
    "\n",
    "# sort the list in decreasing order (required for clusterProfiler)\n",
    "bs_kegg_gene_list = sort(bs_kegg_gene_list, decreasing = TRUE)"
   ]
  },
  {
   "cell_type": "markdown",
   "id": "54871ec2-35ff-4ef6-9bf1-834cc161f127",
   "metadata": {},
   "source": [
    "### Initiate KEGG object\n",
    "We need convert id types in order to use the gseKEGG() tool for KEGG pathway enrichment. See helpful definitions below. \n",
    "\n",
    "<b>organism</b> KEGG Organism Code: The full list is here: https://www.genome.jp/kegg/catalog/org_list.html (need the 3 letter code). I define this as kegg_organism first, because it is used again below when making the pathview plots. <br>\n",
    "<b>nPerm</b> the higher the number of permutations you set, the more accurate your result will, but the longer the analysis will take. <br>\n",
    "<b>minGSSize</b> minimum number of genes in set (gene sets with lower than this many genes in your dataset will be ignored).<br>\n",
    "<b>maxGSSize</b> maximum number of genes in set (gene sets with greater than this many genes in your dataset will be ignored).<br>\n",
    "<b>pvalueCutoff</b> pvalue Cutoff.<br>\n",
    "<b>pAdjustMethod</b> one of “holm”, “hochberg”, “hommel”, “bonferroni”, “BH”, “BY”, “fdr”, “none”.<br>\n",
    "<b>keyType</b> one of ‘kegg’, ‘ncbi-geneid’, ‘ncib-proteinid’ or ‘uniprot’. <br>\n",
    "#### KEGG organism annotation can be found at https://www.genome.jp/kegg/catalog/org_list.html"
   ]
  },
  {
   "cell_type": "code",
   "execution_count": null,
   "id": "aacb14cd-babf-4ee5-b73b-6e1fd32aaf08",
   "metadata": {},
   "outputs": [],
   "source": [
    "kegg_organism = \"rno\"\n",
    "rna_kk <- gseKEGG(geneList     = rna_kegg_gene_list,\n",
    "               organism     = kegg_organism,\n",
    "               nPerm        = 10000,\n",
    "               minGSSize    = 3,\n",
    "               maxGSSize    = 800,\n",
    "               pvalueCutoff = 0.05,\n",
    "               pAdjustMethod = \"none\",\n",
    "               keyType       = \"ncbi-geneid\")\n",
    "\n",
    "bs_kk <- gseKEGG(geneList     = bs_kegg_gene_list,\n",
    "               organism     = kegg_organism,\n",
    "               nPerm        = 10000,\n",
    "               minGSSize    = 3,\n",
    "               maxGSSize    = 800,\n",
    "               pvalueCutoff = 0.05,\n",
    "               pAdjustMethod = \"none\",\n",
    "               keyType       = \"ncbi-geneid\")"
   ]
  },
  {
   "cell_type": "markdown",
   "id": "6919c806-65b6-4184-8bdb-3be1f93c7479",
   "metadata": {},
   "source": [
    "### Explore KEGG results\n",
    "#### Dotplot"
   ]
  },
  {
   "cell_type": "code",
   "execution_count": null,
   "id": "c8d3dfe1-3219-4d24-931a-45b994eef86e",
   "metadata": {},
   "outputs": [],
   "source": [
    "dotplot(rna_kk, showCategory = 10, title = \"Enriched Pathways\" , split=\".sign\") + facet_grid(.~.sign)\n",
    "dotplot(bs_kk, showCategory = 10, title = \"Enriched Pathways\" , split=\".sign\") + facet_grid(.~.sign)"
   ]
  },
  {
   "cell_type": "code",
   "execution_count": null,
   "id": "f322f10d-8d26-4024-8d64-ee6037a701b5",
   "metadata": {},
   "outputs": [],
   "source": [
    "rna_x <- pairwise_termsim(rna_kk) \n",
    "emapplot(rna_x)\n",
    "#bs_x <- pairwise_termsim(bs_kk) \n",
    "#emapplot(bs_x)"
   ]
  },
  {
   "cell_type": "markdown",
   "id": "bfc6673e-5bc4-47c3-b25d-ad31efe1ce9d",
   "metadata": {},
   "source": [
    "### Category Netplot"
   ]
  },
  {
   "cell_type": "code",
   "execution_count": null,
   "id": "09e6c8a6-0478-481a-81d5-52d98c5a541d",
   "metadata": {},
   "outputs": [],
   "source": [
    "# categorySize can be either 'pvalue' or 'geneNum'\n",
    "cnetplot(rna_kk, categorySize=\"pvalue\", foldChange=rna_kegg_gene_list)"
   ]
  },
  {
   "cell_type": "markdown",
   "id": "dd9d0301-540e-4108-8da8-45d905d8be8c",
   "metadata": {},
   "source": [
    "### Ridgeplot"
   ]
  },
  {
   "cell_type": "code",
   "execution_count": null,
   "id": "c57ed26a-bbf4-4c11-b8e6-547315e4bdc9",
   "metadata": {},
   "outputs": [],
   "source": [
    "ridgeplot(rna_kk) + labs(x = \"enrichment distribution\")\n",
    "#ridgeplot(bs_kk) + labs(x = \"enrichment distribution\")"
   ]
  },
  {
   "cell_type": "markdown",
   "id": "ecb039b3-ed92-45f8-8da9-111c55e08f85",
   "metadata": {},
   "source": [
    "### GSEA Plot"
   ]
  },
  {
   "cell_type": "code",
   "execution_count": null,
   "id": "635c5791-8a3e-48ea-87f9-51e1768b28a5",
   "metadata": {},
   "outputs": [],
   "source": [
    "# Use the `Gene Set` param for the index in the title, and as the value for geneSetId\n",
    "gseaplot(rna_kk, by = \"all\", title = rna_kk$Description[1], geneSetID = 1)\n",
    "#gseaplot(bs_kk, by = \"all\", title = bs_kk$Description[1], geneSetID = 1)"
   ]
  },
  {
   "cell_type": "markdown",
   "id": "8bc0fe0a-1475-4f77-8550-c88b5098513f",
   "metadata": {},
   "source": [
    "### PubMed trend of enriched terms"
   ]
  },
  {
   "cell_type": "code",
   "execution_count": null,
   "id": "5465e1c6-1345-4731-bc53-f0752888408a",
   "metadata": {},
   "outputs": [],
   "source": [
    "terms <- rna_kk$Description[1:5]\n",
    "pmcplot(terms, 2010:2022, proportion=FALSE)"
   ]
  },
  {
   "cell_type": "markdown",
   "id": "68b6b9ca-3daf-44b3-84de-20b79cabaad1",
   "metadata": {},
   "source": [
    "### **3. Motif Search using Example data-set**"
   ]
  },
  {
   "cell_type": "markdown",
   "id": "02a5c97c-bbc2-4a39-ae64-6ffe45c1e157",
   "metadata": {},
   "source": [
    "Motifs are regions of a DNA sequence that encode a specific protein structure or function. Motif search, the process of identifying motifs within a sequence, can be useful in providing information about the function or structure of a sequence. Sequence motifs are often shorter than regular sequences and using sequence motifs can improve efficiency. Sequence motifs can also have alternate sequences compared to regular sequences. Overall, motif search can be a more efficient and accurate way to investigate certain structures or functions of a protein.   "
   ]
  },
  {
   "cell_type": "code",
   "execution_count": null,
   "id": "98e51280-041d-4564-a74e-3b525ca89f45",
   "metadata": {},
   "outputs": [],
   "source": [
    "# Load the required packages\n",
    "require(ggplot2)\n",
    "require(ggseqlogo)\n",
    "\n",
    "# Some sample data\n",
    "data(ggseqlogo_sample)"
   ]
  },
  {
   "cell_type": "code",
   "execution_count": null,
   "id": "a6c7092a-8f40-4f18-991d-39384ad28d41",
   "metadata": {},
   "outputs": [],
   "source": [
    "ggseqlogo(seqs_dna, ncol=4)"
   ]
  },
  {
   "cell_type": "markdown",
   "id": "0c084b76-cb7f-4b7e-b886-21104ed8c422",
   "metadata": {},
   "source": [
    "The expression of genes is significantly influenced by motif, which controls both transcriptional and post-transcriptional levels. Numerous biological processes, such as alternative splicing, transcription, and translation, are involved in DNA/RNA motifs. The challenge of identifying a collection of briefs, related, conserved sequence fragments (also known as \"motifs\") with shared biological roles in biological sequences is known as motif mining (or motif discovery). Since transcription factor binding site (TFBS) has such high biological and bioinformatics value, motif mining has received a lot of attention in the field of bioinformatics.\n",
    "\n",
    "The amount of data available in vivo has significantly risen because of ChIP-seq and high-throughput sequencing, making it viable to investigate motif mining. The tasks of biological image analysis include DNA methylation, protein categorization, splicing regulation, and gene expression. The creation of applications for motif mining, such as DNA-/RNA-protein binding sites, chromatin accessibility, enhancer, and DNA-shape, is particularly pertinent to our work."
   ]
  },
  {
   "cell_type": "code",
   "execution_count": null,
   "id": "a50b706f-9216-4870-9be1-274dc6785155",
   "metadata": {},
   "outputs": [],
   "source": [
    "## Install Bioconductor packages.\n",
    "system(\"sudo apt-get install gsl-bin libgsl-dev\", intern=TRUE)\n",
    "\n",
    "packages <- c(\"motifStack\", \"JASPAR2020\", \"TFBSTools\")\n",
    "\n",
    "# Install packages not yet installed\n",
    "installed_packages <- packages %in% rownames(installed.packages())\n",
    "if (any(installed_packages == FALSE)) {\n",
    "  BiocManager::install(packages[!installed_packages])\n",
    "}"
   ]
  },
  {
   "cell_type": "code",
   "execution_count": null,
   "id": "fcb21e73-4de7-4af3-a86b-8a171161af9b",
   "metadata": {},
   "outputs": [],
   "source": [
    "library(motifStack)\n",
    "library(JASPAR2020)\n",
    "library(TFBSTools)\n",
    "library(ade4)"
   ]
  },
  {
   "cell_type": "code",
   "execution_count": null,
   "id": "8fe9319e-9d4b-4eb0-aedf-bf0c96eafe09",
   "metadata": {},
   "outputs": [],
   "source": [
    "# Import matrix and convert motifs from XMatrixList to motifStack compatable format\n",
    "motifs <- importMatrix(getMatrixSet(JASPAR2020, \n",
    "                                    list(species=\"Mus musculus\")))\n",
    "plot(motifs[[1]])\n",
    "\n",
    "\n",
    "# Import motifs from files\n",
    "RUNX1 <- importMatrix(system.file(\"extdata\", \"MA0002.1.jaspar\",\n",
    "                                  package = \"motifStack\",\n",
    "                                  mustWork = TRUE))[[1]]\n",
    "plot(RUNX1)"
   ]
  },
  {
   "cell_type": "code",
   "execution_count": null,
   "id": "dee07056-3f6e-4718-9247-4e23ebdaa93e",
   "metadata": {},
   "outputs": [],
   "source": [
    "# Examples of using motifStack\n",
    "pcm <- read.table(file.path(find.package(\"motifStack\"), \n",
    "                            \"extdata\", \"bin_SOLEXA.pcm\"))\n",
    "pcm <- pcm[,3:ncol(pcm)]\n",
    "rownames(pcm) <- c(\"A\",\"C\",\"G\",\"T\")\n",
    "motif <- new(\"pcm\", mat=as.matrix(pcm), name=\"bin_SOLEXA\")\n",
    "plot(motif)\n",
    "\n",
    "#plot the logo with same height\n",
    "plot(motif, ic.scale=FALSE, ylab=\"probability\")"
   ]
  },
  {
   "cell_type": "code",
   "execution_count": null,
   "id": "83b77225-ad4c-446b-9c0f-930f879ca851",
   "metadata": {},
   "outputs": [],
   "source": [
    "# Plot sequence logo with markers\n",
    "markerRect <- new(\"marker\", type=\"rect\", start=6, stop=7, gp=gpar(lty=2, fill=NA, col=\"orange\"))\n",
    "markerLine <- new(\"marker\", type=\"line\", start=2, stop=7, gp=gpar(lwd=2, col=\"red\"))\n",
    "markerText <- new(\"marker\", type=\"text\", start=c(1, 5), \n",
    "                  label=c(\"*\", \"core\"), gp=gpar(cex=2, col=\"red\"))\n",
    "motif <- new(\"pcm\", mat=as.matrix(pcm), name=\"bin_SOLEXA\", \n",
    "             markers=c(markerRect, markerLine, markerText))\n",
    "plot(motif)"
   ]
  },
  {
   "cell_type": "code",
   "execution_count": null,
   "id": "e496cc4c-f5ed-498b-afa1-f8a19ea36d5a",
   "metadata": {},
   "outputs": [],
   "source": [
    "# Plot a RNA sequence logo\n",
    "rna <- pcm\n",
    "rownames(rna)[4] <- \"U\"\n",
    "motif <- new(\"pcm\", mat=as.matrix(rna), name=\"RNA_motif\")\n",
    "plot(motif)"
   ]
  },
  {
   "cell_type": "code",
   "execution_count": null,
   "id": "74c58d12-71a8-4e99-958e-c419b260950d",
   "metadata": {},
   "outputs": [],
   "source": [
    "# Plot an amino acid sequence logo\n",
    "protein<-read.table(file.path(find.package(\"motifStack\"),\"extdata\",\"cap.txt\"))\n",
    "protein<-t(protein[,1:20])\n",
    "motif<-pcm2pfm(protein)\n",
    "motif<-new(\"pfm\", mat=motif, name=\"CAP\", \n",
    "           color=colorset(alphabet=\"AA\",colorScheme=\"chemistry\"))\n",
    "plot(motif)"
   ]
  },
  {
   "cell_type": "markdown",
   "id": "8c6c2995",
   "metadata": {},
   "source": [
    "## **Conclusion**\n",
    "\n",
    "This Jupyter Notebook explored the integration of epigenetic (DNA methylation) and transcriptomic (gene expression) data to gain a deeper understanding of breast cancer subtypes.  We demonstrated several approaches, including correlation-based integration using the `pvclust` and `MethReg` R packages, which revealed previously unrecognized subtype groupings based on methylation patterns and their relationship to gene expression.  Furthermore, we employed Gene Set Enrichment Analysis (GSEA) with the `clusterProfiler` package to identify enriched pathways in both methylation and expression data, highlighting the power of multi-omics integration in uncovering functional relationships. Finally, we showcased motif search techniques using the `motifStack` package, illustrating how to analyze sequence motifs to further elucidate the regulatory mechanisms underlying observed patterns.  The integrated analyses presented here demonstrate the potential for a more comprehensive understanding of complex diseases like breast cancer by combining epigenetic and transcriptomic data."
   ]
  },
  {
   "cell_type": "markdown",
   "id": "fca9826e",
   "metadata": {},
   "source": [
    "## **Clean up**\n",
    "\n",
    "Remember stop your notebook instance if you are finished."
   ]
  },
  {
   "cell_type": "markdown",
   "id": "0c65626b-1f8d-478f-ba44-c036f2c237e8",
   "metadata": {},
   "source": [
    "<hr style=\"border:2px solid Orange\">"
   ]
  },
  {
   "cell_type": "markdown",
   "id": "bca83d87-7470-463c-a366-aaae42381f2d",
   "metadata": {},
   "source": [
    "### <span> References and useful links </span>"
   ]
  },
  {
   "cell_type": "markdown",
   "id": "361747f0-656b-4325-add3-a05f7d167675",
   "metadata": {},
   "source": [
    "- #### https://compgenomr.github.io/book/motif-discovery.html\n",
    "- #### https://omarwagih.github.io/ggseqlogo/\n",
    "- #### Ou, J., Wolfe, S. A., Brodsky, M. H., & Zhu, L. J. (2018). motifStack for the analysis of transcription factor binding site evolution. Nature methods, 15(1), 8-9.\n",
    "- #### Scala, G., Federico, A. & Greco, D. CpGmotifs: a tool to discover DNA motifs associated to CpG methylation events. BMC Bioinformatics 22, 278 (2021). https://doi.org/10.1186/s12859-021-04191-8\n"
   ]
  }
 ],
 "metadata": {
  "language_info": {
   "name": "python"
  }
 },
 "nbformat": 4,
 "nbformat_minor": 5
}
