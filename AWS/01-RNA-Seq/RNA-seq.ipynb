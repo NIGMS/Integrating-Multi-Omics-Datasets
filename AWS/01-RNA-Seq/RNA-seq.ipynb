{
 "cells": [
  {
   "cell_type": "markdown",
   "id": "9204cae7-66d3-4dce-9a1d-ca007c666bbc",
   "metadata": {},
   "source": [
    "# <span> Module 1: RNA-seq analysis <span>"
   ]
  },
  {
   "cell_type": "markdown",
   "id": "0d86bb1c-96d9-495a-9382-c380ae075451",
   "metadata": {},
   "source": [
    "### <span> Pre-Module Flashcards to Revise the Basics <span>"
   ]
  },
  {
   "cell_type": "code",
   "execution_count": null,
   "id": "f0e9ac26-e308-471a-83a4-113f767524b0",
   "metadata": {},
   "outputs": [],
   "source": [
    "IRdisplay::display_html('<iframe src = \"../../docs/quiz_files/rna-pre_module.html\" width=95% height=600></iframe>')"
   ]
  },
  {
   "cell_type": "markdown",
   "id": "b491749f-1501-40c9-ac0e-188ce48d8935",
   "metadata": {},
   "source": [
    "## Overview\n",
    "### <span> Central Dogma of Molecular Biology. <span>\n",
    "    \n",
    "<figure>\n",
    "<img src=\"../../images/central-dogma.jpeg\" width=\"800\" height=\"400\">\n",
    "<figcaption align = \"center\"> <b> Fig 1: Different omes and corresponding omics technologies. [1]</b> </figcaption>\n",
    "</figure>\n",
    "    \n",
    "<div class=\"alert alert-block alert-warning\">\n",
    "    <i class=\"fa fa-pencil\" aria-hidden=\"true\"></i>\n",
    "    <b>[1] Reference:</b> Virkud, Y. V., Kelly, R. S., Wood, C., & Lasky-Su, J. A. (2019). The nuts and bolts of omics for the clinical allergist. Annals of Allergy, Asthma and Immunology, 123(6), 558-563.\n",
    "</div>\n",
    "\n",
    "The central dogma of molecular biology is the representation of omes and omics. Omic data of various kinds are frequently employed in human medical research. The fields of omic research include the omic data produced by the central dogma, which includes the fields of genomics (DNA), transcriptomics (RNA), proteomics (proteins), and metabolomics (small molecules, including amino acids, fatty acids, carbohydrates, vitamins, lipids, and nucleotides); however, new types of omic data have emerged, including the fields of epigenomics (methyl tags and histones), exposomics (allergens, toxins, diet (bacteria and microorganisms). As a result, the majority of early scientific efforts were devoted to describing the genome, transcriptome, and proteome. However, seven major omics disciplines are currently being investigated in great detail: the genome (DNA), transcriptome (RNA), proteome (proteins), epigenome (DNA modifications that influence expression), metabolome (metabolites), microbiome (microbiota), and exposome (exposures).\n",
    "\n",
    "### <span> Next Generation Sequencing Technique for RNA-Seq. <span>\n",
    "\n",
    "<figure>\n",
    "<img src=\"../../images/ngs.png\" width=\"800\" height=\"400\">\n",
    "<figcaption align = \"center\"> <b> Fig 2: High level workflow of RNA sequencing. [2]</b> </figcaption>\n",
    "</figure>\n",
    "    \n",
    "<div class=\"alert alert-block alert-warning\">\n",
    "    <i class=\"fa fa-pencil\" aria-hidden=\"true\"></i>\n",
    "    <b>[2] Reference:</b> Van den Berge, K., Hembach, K. M., Soneson, C., Tiberi, S., Clement, L., Love, M. I., ... & Robinson, M. D. (2019). RNA sequencing data: Hitchhiker's guide to expression analysis. Annual Review of Biomedical Data Science, 2(1), 139-173.\n",
    "</div>\n",
    "    \n",
    "The above figure displays an overview of an RNA-seq protocol's experimental phases. The sequenced reads from the cDNA library are mapped to a reference genome or transcriptome after being created from isolated RNA targets. Depending on the objective of the experiment, downstream data analysis may entail, among other things, evaluating differential expression, variant calling, or genome annotation.\n",
    "\n",
    "### <span> **Gene Expression** <span>\n",
    "The phrase \"gene expression\" refers to how a gene affects a cell's overall phenotype and functions through the activity of the molecular products that are encoded in a given nucleotide sequence of the gene.\n",
    "\n",
    "Knowing how much gene expression levels vary from the norm can help identify the genes that are genuinely crucial for things like disease prognosis or cell/tissue identity. In order to determine whether a single gene is expressed at all, low-throughput techniques such using a reporter gene and fluorescent protein product have been replaced by high-throughput techniques.\n",
    "  \n",
    "### <span> **RNA-Seq** <span>\n",
    "RNA sequencing has proven to be a ground breaking tool in the study of transcriptomics in the last decade. The accuracy, throughput, and the resolution produced with RNA-seq analysis has provided phenomenal results. There is a variety of applications available for transcriptomic sequencing. Currently, RNA-seq is considered to be the most effective, reliable, and flexible method to determine gene expression and transcription activation at genome-wide level.\n",
    "    \n",
    "### <span> **Differential Expression Analysis** <span>    \n",
    "Differential expression analysis is the process of statistically analyzing the normalized read count data to identify quantifiable differences in expression levels between experimental groups. A gene is said to be differentially expressed if there is a statistically significant difference or change in read counts or expression levels between two experimental conditions. Understanding the biological differences between healthy and diseased states depends on differential gene expression. With the use of this approach, researchers can choose specific gene expression targets for further investigation and pinpoint the molecular causes of phenotypic variations.\n",
    "    \n",
    "### <span> General Roadmap for RNA-Seq Experiment <span>   \n",
    "    \n",
    "<figure>\n",
    "<img src=\"../../images/rna-seq-roadmap.png\" width=\"800\" height=\"400\">\n",
    "<figcaption align = \"center\"> <b> Fig 3: Extensive roadmap for types of computational RNA-Seq methods. [3]</b> </figcaption>\n",
    "</figure>\n",
    "    \n",
    "<div class=\"alert alert-block alert-warning\">\n",
    "    <i class=\"fa fa-pencil\" aria-hidden=\"true\"></i>\n",
    "    <b>[3] Reference:</b> Conesa, A., Madrigal, P., Tarazona, S., Gomez-Cabrero, D., Cervera, A., McPherson, A., Szcześniak, M. W., Gaffney, D. J., Elo, L. L., Zhang, X., & Mortazavi, A. (2016). A survey of best practices for RNA-seq data analysis. Genome biology, 17, 13. https://doi.org/10.1186/s13059-016-0881-8</div>\n",
    "    \n",
    "This figure depicts a generic strategy for computing analysis using RNA-seq. The primary analytical steps for pre-analysis, core analysis, and advanced analysis are listed above the lines. The text discusses the major analysis points for each stage that are mentioned below the lines. (a) Experimental design, sequencing design, and quality control are all processes in preprocessing. (b) Transcriptome profiling, differential gene expression, and functional profiling are fundamental analyses. (c) Advanced analysis involves data integration, visualization, and other RNA-seq technologies.\n",
    "    \n",
    "### <span> Some Handy Abbreviations. <span>\n",
    "+ **ChIP-seq:** Chromatin immunoprecipitation sequencing\n",
    "+ **eQTL:** Expression quantitative loci\n",
    "+ **sQTL:** Splicing quantitative trait loci\n",
    "+ **TPM:** Transcripts per million\n",
    "+ **FPKM:** Fragments per kilobase of exon model per million mapped reads\n",
    "+ **RPKM:** Reads per kilobase of exon model per million reads\n",
    "+ **GSEA:** Gene set enrichment analysis\n",
    "+ **PCA:** Principal component analysis\n",
    "+ **TF:** Transcription factor\n",
    "\n"
   ]
  },
  {
   "cell_type": "markdown",
   "id": "1c59a399-9632-4cf0-bd12-dc52c5a23396",
   "metadata": {},
   "source": [
    "### <span> **Analysis Architecture for this Module** <span>\n",
    "\n",
    "<figure>\n",
    "<img src=\"../../images/read_counts.png\" width=\"900\" height=\"400\">\n",
    "<figcaption align = \"center\"> <b> Fig 4: Analysis workflow for RNA-Seq module.</b> </figcaption>\n",
    "</figure>\n",
    "    \n",
    "This figure represents the analysis architecture followed in this module. The module has been designed according to the resources and the availability of data. The blue box represents the pipeline that can be implemented using the Nextflow nf-core/rnaseq module. The purple box represents the data that can be directly extracted from GEO. Both the blue and purple boxes generate gene counts, and the user can implement either of the methods to generate gene counts and feed them to perform the further downstream analysis. However, Nextflow would take a lot of storage and processing power, so it is recommended to extract the data from GEO if available. If the required data is not available from GEO, then the Nextflow pipeline can be used to extract the gene counts. The downstream analysis is carried through using the R kernel of a Jupyter notebook, and all the steps are discussed in detail in this module."
   ]
  },
  {
   "cell_type": "markdown",
   "id": "d6d83b99-a263-4335-a480-cc5e7c1a5175",
   "metadata": {},
   "source": [
    "### Raw Reads to Gene Counts Table (Optional)"
   ]
  },
  {
   "cell_type": "markdown",
   "id": "52c3191d-ac11-4a7e-b5b3-a4ad71dce613",
   "metadata": {},
   "source": [
    "### <span> Preprocessing Raw reads to generate gene count table using nextflow </span>\n",
    "\n",
    "<figure>\n",
    "<img src=\"../../images/nfcore-rnaseq.png\" width=\"900\" height=\"400\">\n",
    "<figcaption align = \"center\"> <b> Fig 5: Summary of different methods under nf-core RNA-Seq pipeline. [4]</b> </figcaption>\n",
    "</figure>\n",
    "\n",
    "<div class=\"alert alert-block alert-warning\">\n",
    "    <i class=\"fa fa-pencil\" aria-hidden=\"true\"></i>\n",
    "    <b>[4] Reference:</b> Philip Ewels, Alexander Peltzer, Sven Fillinger, Harshil Patel, Johannes Alneberg, Andreas Wilm, Maxime Ulysse Garcia, Paolo Di Tommaso & Sven Nahnsen. Nat Biotechnol. 2020 Feb 13. doi: 10.1038/s41587-020-0439-x. </div>\n",
    "\n",
    "\n",
    "A bioinformatics pipeline called nf-core/rnaseq can be used to analyze RNA sequencing data from organisms with an annotated reference genome. This pipeline represents different stages of the analysis. It contains all the analysis steps, starting from preprocessing of the fastq data followed by genome alignment and quantification. Gene expression levels are generated from mRNA and miRNA sequencing data using RNA-Seq quantification. The next step is pseudo-alignment and quantification, followed by post-processing of the data, and then the final quality control of the input data is performed. The different colors of the pipeline represent the different methods of processing the fastq files. For example, the black line represents STAR, quantification, and salmon software usage to process the files. The user can choose any method of their choice while processing their files. \n",
    "\n",
    "This step is **optional** as it is the preprocessing step to let you experience generating your own gene counts table. To save on computational and storage resources, we have already provided the gene count table with this module that will be copied from our bucket in step 3. The gene counts can also be extracted from the NCBI's GEO website using the same data acccession under the supplementary files section.  \n",
    "\n",
    "If however you want to try the nextflow analysis, here are a few tips to help you along. You will need to configure your config file to point to AWS Batch. We provide a template that you can modify with your S3 bucket (need to create one, `aws s3 mb s3://UNIQUE-BUCKET-NAME`. For further details on how to use Nextflow for RNA Seq analysis, please refer to [nf-core/rnaseq](https://nf-co.re/rnaseq) or [Transcriptome-Assembly-Refinement-and-Applications](https://github.com/NIGMS/Transcriptome-Assembly-Refinement-and-Applications) module to learn more about pre-processing through Nextflow."
   ]
  },
  {
   "cell_type": "markdown",
   "id": "c3825955",
   "metadata": {},
   "source": [
    "## Learning Objectives\n",
    "\n",
    "* **Understanding RNA-seq fundamentals:**  The notebook introduces the central dogma of molecular biology, gene expression, RNA-seq technology, and differential expression analysis.\n",
    "\n",
    "* **RNA-seq data processing:**  It demonstrates how to process raw RNA-seq data (using the optional Nextflow pipeline) to generate a gene counts table. This includes concepts like quality control and read mapping (though the details are mostly referenced rather than fully explained within the notebook).\n",
    "\n",
    "* **Differential gene expression analysis using DESeq2:** The core of the notebook focuses on using the `DESeq2` R package to perform differential gene expression analysis on a provided gene count table (or one generated by Nextflow).  This includes normalization, transformation, exploration of results (using plots like MA plots and heatmaps), and interpretation of the results.\n",
    "\n",
    "* **Data visualization and interpretation:** The notebook emphasizes creating and interpreting various visualizations, including boxplots, mean-standard deviation plots, PCA plots, histograms of p-values, MA plots, and heatmaps.\n",
    "\n",
    "* **Using bioinformatics tools:** The notebook shows how to use Nextflow (a workflow management system) for RNA-seq data processing and R for statistical analysis and visualization."
   ]
  },
  {
   "cell_type": "markdown",
   "id": "7773af0b",
   "metadata": {},
   "source": [
    "## Prerequisites\n",
    "\n",
    "**Software and Packages:**\n",
    "\n",
    "* **Nextflow:** For running the RNA-Seq pipeline (optional, but recommended for learning the complete process).\n",
    "* **R and several R packages:**  `DESeq2`, `vsn`, `genomation`, `hexbin`, `tidyverse`, `Biobase`, `NMF`, `ggplot2` and `BiocManager`.  These are crucial for the differential gene expression analysis and visualization steps.  The notebook includes code to install many of these.\n",
    "\n",
    "**APIs that should be enabled:**\n",
    "\n",
    "* **Amazon S3**  The notebook extensively uses `aws s3` commands, indicating it needs access to Amazon S3 for downloading input files (`GSE173380_RNAseq_counts.csv.gz`, `sample_info.txt`) and potentially for storing intermediate and output files from the Nextflow pipeline.  The notebook suggests creating a bucket (`aws s3 mb s3://UNIQUE-BUCKET-NAME`).\n",
    "\n",
    "* **AWS Batch Compute Environment and Job Queue:** You must have an AWS Batch compute environment and job queue configured. The CloudFormation template automates this. You can set up one manually following the instructions in the link provided in the notebook, but using the template is *recommended* for ease of setup."
   ]
  },
  {
   "cell_type": "markdown",
   "id": "1a6b4a8a-732c-4cb6-a99c-934a0f9253f7",
   "metadata": {},
   "source": [
    "## Get Started"
   ]
  },
  {
   "cell_type": "markdown",
   "id": "159e61ad",
   "metadata": {},
   "source": [
    "### AWS Batch Setup\n",
    "\n",
    "AWS Batch will create the needed permissions, roles and resources to run Nextflow in a serverless manner. You can set up AWS Batch manually or deploy it **automatically** with a stack template. The Launch Stack button below will take you to the cloud formation create stack webpage with the template with required resources already linked. \n",
    "\n",
    "If you prefer to skip manual deployment and deploy automatically in the cloud, click the Launch Stack button below. For a walkthrough of the screens during automatic deployment please click [here](https://github.com/NIGMS/NIGMS-Sandbox/blob/main/docs/HowToLaunchAWSBatch.md). The deployment should take ~5 min and then the resources will be ready for use. \n",
    "\n",
    "[![Launch Stack](../../images/LaunchStack.jpg)](https://console.aws.amazon.com/cloudformation/home?region=us-east-1#/stacks/new?stackName=aws-batch-nigms&templateURL=https://nigms-sandbox.s3.us-east-1.amazonaws.com/cf-templates/AWSBatch_template.yaml )\n",
    "\n",
    "\n",
    "Before begining this tutorial, if you do not have required roles, policies, permissions or compute environment and would like to **manually** set those up please click [here](https://github.com/NIGMS/NIGMS-Sandbox/blob/main/docs/AWS-Batch-Setup.md) to set that up."
   ]
  },
  {
   "cell_type": "markdown",
   "id": "a34b0ffa",
   "metadata": {},
   "source": [
    "### Install Nextflow"
   ]
  },
  {
   "cell_type": "code",
   "execution_count": null,
   "id": "6da16610-a83f-42b5-be52-f8116db3fb03",
   "metadata": {},
   "outputs": [],
   "source": [
    "#Install nexflow, make it exceutable, and update it\n",
    "system('curl https://get.nextflow.io | bash' , intern=TRUE)\n",
    "system('chmod +x nextflow' , intern=TRUE)\n",
    "system('./nextflow self-update' , intern=TRUE)"
   ]
  },
  {
   "cell_type": "markdown",
   "id": "3852204f-a42a-40a2-8b3f-4c153a9b0416",
   "metadata": {},
   "source": [
    "**The size of the output data generated by Nextflow is quite large we can mitigate that by storing the temporary and output files to a bucket by setting the 'workDir' and 'params.outdir' to an existing bucket. Make sure you modify the file called rnaseq-aws.config**\n",
    " \n",
    "`workDir = 's3://your_bucket_name/rna-tmp'`  \n",
    "`params.outdir = 's3://your_bucket_name/rna-outputs'`"
   ]
  },
  {
   "cell_type": "markdown",
   "id": "7b289373-fda0-483d-86ea-984b38fee3af",
   "metadata": {},
   "source": [
    "This next step can take about 45 min, but since it runs serverlessly using AWS Batch, we recommend you actually paste the command into a terminal, and then run the rest of the notebook. Then you can review the output at the end and see how the different jobs were processed. Plus Nextflow looks strange in `R` so it is better in the terminal anyway. "
   ]
  },
  {
   "cell_type": "code",
   "execution_count": null,
   "id": "bb2e1f61-eea1-4464-9842-76fabae4c39a",
   "metadata": {},
   "outputs": [],
   "source": [
    "system('./nextflow run nf-core/rnaseq -c rnaseq-aws.config -profile test,aws', intern=TRUE)"
   ]
  },
  {
   "cell_type": "markdown",
   "id": "a2b8d218-4302-4090-9bb1-b619d1b0f178",
   "metadata": {},
   "source": [
    "<div class=\"alert alert-block alert-info\">\n",
    "    <i class=\"fa fa-lightbulb-o\" aria-hidden=\"true\"></i>\n",
    "    <b>Tip: </b> If you don't immediately see a output on your screen check your output directory you have pointed to in your config file to insure that Nextflow is running. You should see some output directories/files.\n",
    "</div>"
   ]
  },
  {
   "cell_type": "markdown",
   "id": "3d97711b-544c-4562-a7c5-4fafa4a69315",
   "metadata": {},
   "source": [
    "## Gene Counts Table to Differential Expression"
   ]
  },
  {
   "cell_type": "markdown",
   "id": "92edbc62-6497-429b-a278-a1f5f364896e",
   "metadata": {},
   "source": [
    "### <span> Install and Load required packages </span>"
   ]
  },
  {
   "cell_type": "markdown",
   "id": "3bdc06df",
   "metadata": {},
   "source": [
    "Run the following to create a Kernel with all required packaged installed. It will take about 5 minutes to install packages and create a kernel."
   ]
  },
  {
   "cell_type": "code",
   "execution_count": null,
   "id": "d888aacf-8f6d-427e-8646-f33a33203fd9",
   "metadata": {},
   "outputs": [],
   "source": [
    "system('chmod +x install_packages.sh' , intern=TRUE)\n",
    "system('bash install_packages.sh >> logs.txt' , intern=TRUE) # This creates \"R-Custom-Kernel\""
   ]
  },
  {
   "cell_type": "markdown",
   "id": "8ad88e67",
   "metadata": {},
   "source": [
    "**Important**: Choose \"R-Custom-Kernel\" for the rest of the notebook."
   ]
  },
  {
   "cell_type": "code",
   "execution_count": null,
   "id": "a5ea70df-98ba-4a69-aeec-2baed34a72fc",
   "metadata": {},
   "outputs": [],
   "source": [
    "library(DESeq2)\n",
    "library(magrittr)"
   ]
  },
  {
   "cell_type": "markdown",
   "id": "54112688-a0dc-4cb8-8680-4d4f3da306d2",
   "metadata": {},
   "source": [
    "An RNA-Seq experiment analysis involves a number of phases. Sequencing reads are analyzed first (FASTQ files). Usually, they are aligned to a reference genome. The number of reads that were mapped to each gene may then be determined. We execute statistical studies on a table of counts as a result to identify differentially expressed genes and pathways.\n",
    "\n",
    "### <span> Importing RNA_seq raw counts and annotation file </span>\n",
    "\n",
    "The importing file can be generated locally. It combines several samples from multiple runs. We will annotate all of these runs and file names as control since, for instance, control might have four different names for runs and files."
   ]
  },
  {
   "cell_type": "code",
   "execution_count": null,
   "id": "e49c7007-61b3-4057-89de-3f3fb1085800",
   "metadata": {},
   "outputs": [],
   "source": [
    "# download data files from storage bucket\n",
    "system(\"aws s3 cp s3://nigms-sandbox/nosi-und/RNA-Seq/GSE173380_RNAseq_counts.csv.gz .\", intern=TRUE)\n",
    "system(\"aws s3 cp s3://nigms-sandbox/nosi-und/RNA-Seq/sample_info.txt .\", intern=TRUE)\n",
    "\n",
    "readcounts <- read.table(\"GSE173380_RNAseq_counts.csv.gz\", sep = \",\", header = T, row.names = 1)\n",
    "sample_info <- read.table(\"sample_info.txt\", sep = \"\\t\")"
   ]
  },
  {
   "cell_type": "markdown",
   "id": "bba34d55-a676-46e4-884f-15f1fecec1de",
   "metadata": {},
   "source": [
    "<div class=\"alert alert-block alert-success\">\n",
    "    <i class=\"fa fa-hand-paper-o\" aria-hidden=\"true\"></i>\n",
    "    <b>Note: </b>  If you've used Nextflow to produce your gene counts table and would like to use it for the down processing analysis instead of the provided counts table enter your own files into the code above by copying the <b>salmon.merged.gene_counts.tsv</b> from the salmon subdirectory within your Nextflow output directory.\n",
    "</div>"
   ]
  },
  {
   "cell_type": "markdown",
   "id": "672cae94-ddd5-44c5-9f36-f0393253e63f",
   "metadata": {},
   "source": [
    "### <span> Store the information in a dataframe </span>\n",
    "The next step is to make a data frame. We will store the raw read counts, sample informations, and the conditions data into the dataframe here named as DESeq.ds."
   ]
  },
  {
   "cell_type": "code",
   "execution_count": null,
   "id": "5fce0d5b-740b-4f9c-8479-fa60a0566532",
   "metadata": {},
   "outputs": [],
   "source": [
    "DESeq.ds <- DESeqDataSetFromMatrix(countData = round(readcounts), colData = sample_info, design = ~condition)\n"
   ]
  },
  {
   "cell_type": "markdown",
   "id": "18800b8f-e68a-4993-9ca6-ca95e0f4267a",
   "metadata": {},
   "source": [
    "### <span> Explore the dataframe </span>\n",
    "\n",
    "It is important to investigate the dataframe to see if the raw counts uploaded correctly and all the required information for the analysis is available. "
   ]
  },
  {
   "cell_type": "code",
   "execution_count": null,
   "id": "cb7c8095-8d5c-4165-a0bf-9acfec7d97fe",
   "metadata": {},
   "outputs": [],
   "source": [
    "colData(DESeq.ds) %>% head\n",
    "assay(DESeq.ds, \"counts\") %>% head\n",
    "rowData(DESeq.ds) %>% head\n",
    "counts(DESeq.ds) %>% str\n",
    "rowSums(counts(DESeq.ds)) %>% head"
   ]
  },
  {
   "cell_type": "markdown",
   "id": "e4acc357-e06b-4b52-a34d-6028ae56b2e3",
   "metadata": {},
   "source": [
    "### <span> Improving the quality by removing the genes with no gene count </span>\n",
    "Enhancing the quality of the input reads is the following stage in the RNA-seq analysis workflow. When the sequencing quality is very high, this step may be viewed as optional. However, this step may still enhance the quality of the input sequences even with the highest-quality sequencing datasets. The adapter sequences that contaminate the sequenced reads and the low-quality nucleotides that are typically present at the ends of the sequences are the most frequent technical artifacts that can be filtered out.\n",
    "\n",
    "Before going on to the downstream analytical processes, the sequencing quality control and read pre-processing steps can be repeated several times until a suitable level of quality in the sequence data is reached."
   ]
  },
  {
   "cell_type": "code",
   "execution_count": null,
   "id": "4fc2ab39-8608-435b-a8f9-fb6f379be65a",
   "metadata": {},
   "outputs": [],
   "source": [
    "DESeq.ds <- DESeq.ds[ rowSums(counts(DESeq.ds)) > 0, ]\n",
    "#Inspect data after manupalation\n",
    "rowSums(counts(DESeq.ds)) %>% head\n",
    "colSums(readcounts)\n",
    "colSums(counts(DESeq.ds)) \n",
    "#colSums(counts(DESeq.ds)) and colSums(readcounts) as we only removed the genes that did not express in any of the samples. "
   ]
  },
  {
   "cell_type": "markdown",
   "id": "575d6a2d-2ae4-4d50-826c-c286c3d2f2b8",
   "metadata": {},
   "source": [
    "### <span> Normalizing the read counts</span>\n",
    "The read counts are normalized by computing size factors, which addresses the differences not only in the library sizes, but also the library compositions.\n"
   ]
  },
  {
   "cell_type": "code",
   "execution_count": null,
   "id": "40aa5366-4c12-4443-99a9-39ac707639d3",
   "metadata": {},
   "outputs": [],
   "source": [
    "# Get the size factor using estimateSizeFactors from DESeq.\n",
    "DESeq.ds <- estimateSizeFactors(DESeq.ds)\n",
    "# Check that the size factor has been added to the dataframe replacing raw reads.\n",
    "sizeFactors(DESeq.ds)\n",
    "# colData now contains the normalized reads in the form of sizeFactors\n",
    "colData(DESeq.ds)\n",
    "# We can also retrieve the normalized read counts using counts() function\n",
    "counts.sf_normalized <- counts(DESeq.ds, normalized = TRUE)"
   ]
  },
  {
   "cell_type": "markdown",
   "id": "ae15406a-d20b-4a9f-9d1c-9878980fa99e",
   "metadata": {},
   "source": [
    "The next step is to transform the size-factor normalized read counts to log2 scale. If the read counts are further changed to log scale after normalization, most downstream analyses perform better. This is a result of the RNA-seq data's unusually wide range of expression values, which may be explored and visualized in various ways."
   ]
  },
  {
   "cell_type": "code",
   "execution_count": null,
   "id": "38523c0a-b9af-49ca-b7e8-2dbb4604fe5c",
   "metadata": {},
   "outputs": [],
   "source": [
    "# transform size-factor normalized read counts to log2 scale using pseudocount of 1\n",
    "log.norm.counts <- log2(counts.sf_normalized + 1)\n",
    "par(mfrow=c(2,1)) # to plot the following two images parallel.\n",
    "\n",
    "# first, boxplots of non-transformed read counts (one per sample)\n",
    "boxplot(counts.sf_normalized, notch = TRUE,\n",
    "        main = \"Untransformed Read Counts\", ylab = \"read counts\")\n",
    "\n",
    "# box plots of log2-transformed read counts\n",
    "boxplot(log.norm.counts, notch = TRUE,\n",
    "          main = \"log2-Transformed Read Counts\",\n",
    "          ylab = \"log2(read counts)\")"
   ]
  },
  {
   "cell_type": "markdown",
   "id": "af43d13e-3e90-452a-ab28-5235b53ccbd7",
   "metadata": {},
   "source": [
    "Numerous statistical tests and analyses make the assumption that the data is homoskedastic, or that the variance of each variable is identical. But heteroskedastic behavior frequently appears in data with significant variations in the sizes of the individual observations. Plotting the mean vs. the standard deviation is one method for visually examining heteroskedasticity. Some variability is expected, but if there is a hump as in these data, it means that the variance is influenced by the mean, which goes against the homoskedasticity assumption."
   ]
  },
  {
   "cell_type": "code",
   "execution_count": null,
   "id": "a283f6d7-3370-41e7-a85c-c54c695f721f",
   "metadata": {},
   "outputs": [],
   "source": [
    "# mean-sd plot\n",
    "library(vsn)\n",
    "library(ggplot2)\n",
    "library(hexbin)\n",
    "\n",
    "msd_plot <- meanSdPlot(log.norm.counts, \n",
    "                       ranks=FALSE, # show the data on the original scale\n",
    "                       plot = FALSE)\n",
    "msd_plot$gg + \n",
    "  ggtitle(\"Sequencing Depth Normalized log2(read counts)\") +\n",
    "  ylab(\"standard deviation\")"
   ]
  },
  {
   "cell_type": "markdown",
   "id": "0f9019fd-d1ee-46a5-a25a-e85e1b6f2212",
   "metadata": {},
   "source": [
    "Utilizing DESeq's rlog() method, we will lower the heteroskedasticity. Rlog() translates numbers to log2 scale and normalizes for sequencing depth."
   ]
  },
  {
   "cell_type": "code",
   "execution_count": null,
   "id": "8f444ca6-b525-4e2e-9f9e-4363663b45fc",
   "metadata": {},
   "outputs": [],
   "source": [
    "# Regularized log-transformed values\n",
    "DESeq.rlog <- rlog(DESeq.ds, blind = TRUE)\n",
    "rlog.norm.counts <- assay(DESeq.rlog)\n",
    "# Mean-SD plot for rlog-transformed data\n",
    "msd_plot <- meanSdPlot(rlog.norm.counts, \n",
    "                       ranks=FALSE, \n",
    "                       plot = FALSE)\n",
    "msd_plot$gg + \n",
    "  ggtitle(\"rlog-Transformed Read Counts\") +\n",
    "  ylab(\"standard deviation\")"
   ]
  },
  {
   "cell_type": "markdown",
   "id": "df199c4c-b6e2-4a09-8e8e-8546a4f89d81",
   "metadata": {},
   "source": [
    "### <span> Hierarchical clustering </span>\n",
    "As an exploratory tool, clustering RNA-seq data enables the user to arrange and visualize correlations between groups of genes and to choose particular genes for further analysis. Based on chosen traits, this approach aims to isolate reasonably homogeneous gene groupings. Here, we are performing Pearson method of clustering."
   ]
  },
  {
   "cell_type": "code",
   "execution_count": null,
   "id": "8ca292e8-27a2-4336-b047-07751cef499d",
   "metadata": {},
   "outputs": [],
   "source": [
    "# cor() calculates the correlation between columns of a matrix\n",
    "distance.m_rlog <- as.dist(1 - cor(rlog.norm.counts, method = \"pearson\" ))\n",
    "# plot() can directly interpret the output of hclust()\n",
    "plot( hclust(distance.m_rlog), \n",
    "      labels = colnames(rlog.norm.counts),\n",
    "      main = \"rlog Transformed Read Counts\\nDistance: Pearson Correlation\")"
   ]
  },
  {
   "cell_type": "markdown",
   "id": "dde86016-3ede-49a2-8226-e3c19942b757",
   "metadata": {},
   "source": [
    "The outcomes of differential gene expression analysis are frequently plotted in shapes like volcano, MA, and heatmaps, while many other types of analysis can be carried out as well. These plots enable one to look more closely at the output list of differentially expressed genes and perhaps find or further explore prospective genes.\n",
    "\n",
    "### <span> PCA using DESeq </span>\n",
    "Lets generate a PCA plot to visualize the clustering of the replicates as scatter plot in a two dimension plot.\n",
    "\n",
    "A PCA plot biological reproducibility of the sample replicates might be used to make a final diagnosis. We must take the normalized counts out of the DESeqDataSet object in order to plot the PCA findings. To see if the duplicates cluster properly, it is feasible to color the points in the scatter plot according to the relevant variable."
   ]
  },
  {
   "cell_type": "code",
   "execution_count": null,
   "id": "b38f5fab-4b48-4e74-9e23-793e202312dc",
   "metadata": {},
   "outputs": [],
   "source": [
    "P <- plotPCA(DESeq.rlog)\n",
    "P <- P + theme_bw() + ggtitle(\"Rlog Transformed Counts\")\n",
    "print(P)"
   ]
  },
  {
   "cell_type": "markdown",
   "id": "9c417748-487c-43fa-9fa4-a7f839617c78",
   "metadata": {},
   "source": [
    "### <span> Differential Gene Expression Analysis (DGE) </span>\n",
    "One of the most popular uses of RNA-sequencing (RNA-seq) data is differential gene expression (DGE) analysis. This procedure is frequently utilized in various RNA-seq data analysis applications because it enables the identification of genes that are differentially expressed across two or more conditions.\n",
    "\n",
    "Internal normalization is carried out by DESeq2 in which the geometric mean for each gene across all samples is determined. Then, this mean is divided by the gene counts in each sample. The size factor for a sample is the median of these ratios in that sample."
   ]
  },
  {
   "cell_type": "code",
   "execution_count": null,
   "id": "f36513db-22f6-417f-aaa8-39ba1837ca35",
   "metadata": {},
   "outputs": [],
   "source": [
    "# DESeq2 uses the levels of the condition to determine the order of the comparison\n",
    "str(colData(DESeq.ds)$condition)\n",
    "# set the first-level-factor\n",
    "colData(DESeq.ds)$condition <- relevel(colData(DESeq.ds)$condition , \"control\")\n",
    "# Finally run the DESeq analysis\n",
    "DESeq.ds <- DESeq(DESeq.ds)"
   ]
  },
  {
   "cell_type": "markdown",
   "id": "9b7a4189-9a0e-4f68-b23a-4f042633290d",
   "metadata": {},
   "source": [
    "### <span> Explore the DGE analysis results </span>"
   ]
  },
  {
   "cell_type": "code",
   "execution_count": null,
   "id": "17827bd4-0938-49e8-9f3a-b4e979fedb3a",
   "metadata": {},
   "outputs": [],
   "source": [
    "#Check the results of deseq analysis\n",
    "DGE.results <- results(DESeq.ds, independentFiltering = TRUE, alpha = 0.05)\n",
    "summary(DGE.results)"
   ]
  },
  {
   "cell_type": "markdown",
   "id": "c91efec4-cdd8-4fd2-8ddf-f9b87c0bcab8",
   "metadata": {},
   "source": [
    "### <span> P-value Histogram </span>\n",
    "Our DE results can be quickly and easily \"sanity checked\" by creating a p-value histogram. A high bar between 0 and 0.05 should be seen, followed by a somewhat uniform tail to the right."
   ]
  },
  {
   "cell_type": "code",
   "execution_count": null,
   "id": "39a986b0-3ee2-436a-927b-37f539e7c627",
   "metadata": {},
   "outputs": [],
   "source": [
    "#Histogram\n",
    "hist(DGE.results$pvalue, \n",
    "     col = \"grey\", border = \"white\", xlab = \"\", ylab = \"\",\n",
    "     main = \"Frequencies of P-values (all genes)\")"
   ]
  },
  {
   "cell_type": "markdown",
   "id": "63fb1f85-9820-4725-9298-149f57c82a23",
   "metadata": {},
   "source": [
    "### <span> MA Plot</span>\n",
    "MA plot is helpful to determine whether the data normalization was successful. The MA plot is a scatter plot where the y-axis represents the log fold change in the specified contrast and the x-axis represents the average of normalized counts across samples. Since most genes are not anticipated to have differential expression, the majority of points are predicted to be on the horizontal 0 line."
   ]
  },
  {
   "cell_type": "code",
   "execution_count": null,
   "id": "079404d0-d179-4bdf-8a2a-63e135b68c45",
   "metadata": {},
   "outputs": [],
   "source": [
    "#MA plot\n",
    "plotMA(DGE.results, alpha = 0.05, main = \"Control vs Test\", ylim = c(-4,4))"
   ]
  },
  {
   "cell_type": "markdown",
   "id": "09b12790-7e7f-4331-8671-831e5f347d0c",
   "metadata": {},
   "source": [
    "### <span> Heatmap</span>\n",
    "<div class=\"alert alert-block alert-success\">\n",
    "    <i class=\"fa fa-hand-paper-o\" aria-hidden=\"true\"></i>\n",
    "    <b>Note:</b> Heatmap will be saved as a PDF file in the current working directory. </div>\n",
    "\n",
    "This step shows how to make a heatmap of the top genes in an RNA-seq dataset that have differential expression. To do this we need to extract the differentially expressed genes from the DE results. Heat Maps help viewers focus on the parts of data visualizations that matter most by helping to better visualize the volume of locations and events inside a dataset."
   ]
  },
  {
   "cell_type": "code",
   "execution_count": null,
   "id": "5bdda266-08e2-47fd-bdd8-f06cd4dd7f0c",
   "metadata": {},
   "outputs": [],
   "source": [
    "#HEATMAP\n",
    "# load the library with the aheatmap() function\n",
    "library(NMF)\n",
    "\n",
    "# aheatmap needs a matrix of values, e.g., a matrix of DE genes with the transformed read counts for each replicate\n",
    "# sort the results according to the adjusted p-value\n",
    "DGE.results.sorted <- DGE.results[order(DGE.results$padj), ]\n",
    "# identify genes with the desired adjusted p-value cut-off\n",
    "DGEgenes <- rownames(subset(DGE.results.sorted, padj < 0.05))\n",
    "# extract the normalized read counts for DE genes into a matrix\n",
    "hm.mat_DGEgenes <- log.norm.counts[DGEgenes , ]\n",
    "#plot the normalized read counts of DE genes sorted by the adjusted p-value\n",
    "pdf(\"plot.pdf\")\n",
    "aheatmap(hm.mat_DGEgenes, Rowv = NA, Colv = NA)\n",
    "# combine the heatmap with hierarchical clustering\n",
    "image1 <- aheatmap(hm.mat_DGEgenes, Rowv = TRUE, Colv = TRUE, # add dendrograms to rows and columns \n",
    "         distfun = \"euclidean\", hclustfun = \"average\")\n",
    "\n",
    "\n",
    "# scale the read counts per gene to emphasize the sample-type-specific differences\n",
    "aheatmap(hm.mat_DGEgenes ,\n",
    "         Rowv = TRUE , Colv = TRUE ,\n",
    "         distfun = \"euclidean\", hclustfun = \"average\",\n",
    "         scale = \"row\") \n",
    "dev.off()\n",
    "#values are transformed into distances from the center of the \n",
    "#row-specific average: (actual value - mean of the group) / standard deviation"
   ]
  },
  {
   "cell_type": "markdown",
   "id": "f869e5f6-8f42-4c1a-aad8-e8ff3fec2eda",
   "metadata": {},
   "source": [
    "### <span> Write the DGE results to a text file </span>"
   ]
  },
  {
   "cell_type": "code",
   "execution_count": null,
   "id": "38f62bcf-3150-417e-bebb-787763db04aa",
   "metadata": {},
   "outputs": [],
   "source": [
    "write.table(DGE.results.sorted, file=\"rna-seq_dge-results.txt\", sep = \"\\t\")"
   ]
  },
  {
   "cell_type": "markdown",
   "id": "bf5a025f",
   "metadata": {},
   "source": [
    "## Conclusion\n",
    "\n",
    "This Jupyter Notebook provided a comprehensive introduction to RNA-seq analysis, guiding users through the process from raw read data to differential gene expression results.  We explored key concepts such as the central dogma, next-generation sequencing, and differential expression analysis, illustrated with clear diagrams and explanations. The notebook offered both a Nextflow pipeline for processing raw reads (optional, due to computational demands) and a streamlined approach utilizing pre-processed gene count data readily available from GEO.  Downstream analysis using R and DESeq2 enabled normalization, quality control assessment (through mean-SD plots and PCA), and the identification of differentially expressed genes, visualized via MA plots and heatmaps.  The resulting differentially expressed gene list, along with generated visualizations, provides a solid foundation for further biological interpretation and investigation.  Supplementary resources and references are provided for users seeking to delve deeper into specific aspects of RNA-seq data analysis."
   ]
  },
  {
   "cell_type": "markdown",
   "id": "6f86c3e8",
   "metadata": {},
   "source": [
    "## Clean up\n",
    "\n",
    "Remember stop your notebook instance if you are finished."
   ]
  },
  {
   "cell_type": "markdown",
   "id": "5fcae12b-9eec-4a07-ac0c-094c2c673ffe",
   "metadata": {},
   "source": [
    "<hr style=\"border:2px solid Orange\">"
   ]
  },
  {
   "cell_type": "markdown",
   "id": "919d00c4-2247-4f94-aa4f-b7cf6c0334d3",
   "metadata": {},
   "source": [
    "### <span> References and useful links </span>"
   ]
  },
  {
   "cell_type": "markdown",
   "id": "3c6057e8-88ec-4e2e-ab95-01de6ed74d0d",
   "metadata": {},
   "source": [
    "- #### https://bioinformatics-core-shared-training.github.io/RNAseq_May_2020_remote/html/05_Annotation_and_Visualisation.html\n",
    "- #### https://bioinformatics-core-shared-training.github.io/cruk-summer-school-2018/RNASeq2018/html/02_Preprocessing_Data.nb.html  \n",
    "- #### https://girke.bioinformatics.ucr.edu/GEN242/tutorials/sprnaseq/sprnaseq/ \n",
    "- #### https://compgenomr.github.io/book/rnaseqanalysis.html"
   ]
  }
 ],
 "metadata": {
  "kernelspec": {
   "display_name": "R-Custom-Kernel",
   "language": "R",
   "name": "r-custom-kernel"
  },
  "language_info": {
   "codemirror_mode": "r",
   "file_extension": ".r",
   "mimetype": "text/x-r-source",
   "name": "R",
   "pygments_lexer": "r",
   "version": "4.4.2"
  }
 },
 "nbformat": 4,
 "nbformat_minor": 5
}
