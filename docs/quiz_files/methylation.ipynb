{
 "cells": [
  {
   "cell_type": "code",
   "execution_count": null,
   "id": "2cdf6acd-190b-4931-883c-71b22d5ac622",
   "metadata": {},
   "outputs": [],
   "source": [
    "from jupytercards import display_flashcards\n",
    "display_flashcards(\"./methylation.json\")"
   ]
  },
  {
   "cell_type": "code",
   "execution_count": null,
   "id": "55b6ef75-a8b1-4769-8dc9-94e0a8fe43fa",
   "metadata": {},
   "outputs": [],
   "source": []
  }
 ],
 "metadata": {},
 "nbformat": 4,
 "nbformat_minor": 5
}
