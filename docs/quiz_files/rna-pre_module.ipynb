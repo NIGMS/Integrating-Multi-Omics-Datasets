{
 "cells": [
  {
   "cell_type": "code",
   "execution_count": null,
   "id": "6f16b220-5cdc-405e-8930-acb7c4da535a",
   "metadata": {},
   "outputs": [],
   "source": [
    "from jupytercards import display_flashcards\n",
    "display_flashcards(\"./rna-pre_module.json\")"
   ]
  }
 ],
 "metadata": {},
 "nbformat": 4,
 "nbformat_minor": 5
}
